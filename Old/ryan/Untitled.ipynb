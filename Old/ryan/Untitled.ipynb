{
 "cells": [
  {
   "cell_type": "code",
   "execution_count": 1,
   "metadata": {},
   "outputs": [],
   "source": [
    "import pandas as pd\n",
    "import numpy as np\n",
    "from scipy import stats as sts\n",
    "from matplotlib import pyplot as plt"
   ]
  },
  {
   "cell_type": "code",
   "execution_count": 3,
   "metadata": {},
   "outputs": [
    {
     "data": {
      "text/html": [
       "<div>\n",
       "<style scoped>\n",
       "    .dataframe tbody tr th:only-of-type {\n",
       "        vertical-align: middle;\n",
       "    }\n",
       "\n",
       "    .dataframe tbody tr th {\n",
       "        vertical-align: top;\n",
       "    }\n",
       "\n",
       "    .dataframe thead th {\n",
       "        text-align: right;\n",
       "    }\n",
       "</style>\n",
       "<table border=\"1\" class=\"dataframe\">\n",
       "  <thead>\n",
       "    <tr style=\"text-align: right;\">\n",
       "      <th></th>\n",
       "      <th>Country</th>\n",
       "      <th>wine_unit</th>\n",
       "      <th>Year</th>\n",
       "    </tr>\n",
       "  </thead>\n",
       "  <tbody>\n",
       "    <tr>\n",
       "      <th>0</th>\n",
       "      <td>France</td>\n",
       "      <td>4293466</td>\n",
       "      <td>2013</td>\n",
       "    </tr>\n",
       "    <tr>\n",
       "      <th>1</th>\n",
       "      <td>Italy</td>\n",
       "      <td>4107370</td>\n",
       "      <td>2013</td>\n",
       "    </tr>\n",
       "    <tr>\n",
       "      <th>2</th>\n",
       "      <td>United States</td>\n",
       "      <td>3217000</td>\n",
       "      <td>2013</td>\n",
       "    </tr>\n",
       "    <tr>\n",
       "      <th>3</th>\n",
       "      <td>Spain</td>\n",
       "      <td>3200000</td>\n",
       "      <td>2013</td>\n",
       "    </tr>\n",
       "    <tr>\n",
       "      <th>4</th>\n",
       "      <td>Chile</td>\n",
       "      <td>1832000</td>\n",
       "      <td>2013</td>\n",
       "    </tr>\n",
       "  </tbody>\n",
       "</table>\n",
       "</div>"
      ],
      "text/plain": [
       "         Country  wine_unit  Year\n",
       "0         France    4293466  2013\n",
       "1          Italy    4107370  2013\n",
       "2  United States    3217000  2013\n",
       "3          Spain    3200000  2013\n",
       "4          Chile    1832000  2013"
      ]
     },
     "execution_count": 3,
     "metadata": {},
     "output_type": "execute_result"
    }
   ],
   "source": [
    "wine_data = pd.read_csv('Resources/Wine Production By Country.csv', delimiter=';')\n",
    "wine_data.head()"
   ]
  },
  {
   "cell_type": "code",
   "execution_count": 9,
   "metadata": {},
   "outputs": [
    {
     "name": "stdout",
     "output_type": "stream",
     "text": [
      "There are 72 in wine data df.\n",
      "The countires are:  ['France' 'Italy' 'United States' 'Spain' 'Chile' 'China' 'Argentina'\n",
      " 'Australia' 'South Africa' 'Germany' 'Portugal' 'Russia' 'Greece'\n",
      " 'Brazil' 'Hungary' 'New Zealand' 'Austria' 'Serbia' 'Ukraine' 'Bulgaria'\n",
      " 'Moldova' 'Romania' 'Georgia' 'Switzerland' 'Japan' 'Macedonia' 'Peru'\n",
      " 'Uruguay' 'Czech Republic' 'Algeria' 'Canada' 'Croatia' 'Turkmenistan'\n",
      " 'Uzbekistan' 'Morocco' 'Slovakia' 'Turkey' 'Tunisia' 'Belarus' 'Slovenia'\n",
      " 'Kazakhstan' 'Albania' 'Mexico' 'Montenegro' 'Lebanon' 'Cuba' 'Cyprus'\n",
      " 'Luxembourg' 'Bolivia' 'Madagascar' 'Azerbaijan' 'Armenia' 'Lithuania'\n",
      " 'Israel' 'Egypt' 'Bosnia and Herzegovina' 'Belgium' 'Malta' 'Latvia'\n",
      " 'Kyrgyzstan' 'Zimbabwe' 'Paraguay' 'Ethiopia' 'Jordan' 'United Kingdom'\n",
      " 'Tajikistan' 'Panama' 'Syria' 'Liechtenstein' 'Vietnam' 'Libya' 'Estonia']\n"
     ]
    }
   ],
   "source": [
    "countries = wine_data['Country'].unique()\n",
    "print(f'There are {len(countries)} in wine data df.')\n",
    "print(f'The countires are: ', countries)"
   ]
  },
  {
   "cell_type": "code",
   "execution_count": null,
   "metadata": {},
   "outputs": [],
   "source": []
  }
 ],
 "metadata": {
  "kernelspec": {
   "display_name": "Python 3",
   "language": "python",
   "name": "python3"
  },
  "language_info": {
   "codemirror_mode": {
    "name": "ipython",
    "version": 3
   },
   "file_extension": ".py",
   "mimetype": "text/x-python",
   "name": "python",
   "nbconvert_exporter": "python",
   "pygments_lexer": "ipython3",
   "version": "3.8.3"
  }
 },
 "nbformat": 4,
 "nbformat_minor": 4
}
