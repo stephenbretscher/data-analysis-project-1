{
 "cells": [
  {
   "cell_type": "code",
   "execution_count": 191,
   "metadata": {},
   "outputs": [],
   "source": [
    "import matplotlib.pyplot as plt\n",
    "import pandas as pd\n",
    "import numpy as np\n",
    "import requests\n",
    "import time\n",
    "from scipy.stats import linregress\n",
    "import scipy.stats as stats\n",
    "import requests\n",
    "import gmaps\n",
    "import os\n",
    "\n",
    "# Import API key\n",
    "from API_keys import g_key"
   ]
  },
  {
   "cell_type": "code",
   "execution_count": 247,
   "metadata": {},
   "outputs": [],
   "source": [
    "per_capita_alcohol_df = pd.read_csv(\"Resources/per-capita-alcohol-1890.csv\")\n",
    "mental_health_data_df = pd.read_csv(\"Resources/share-with-mental-and-substance-disorders.csv\")\n",
    "happiness_data_df = pd.read_csv(\"Resources/happiness-cantril-ladder.csv\")\n",
    "wine_consumption_df = pd.read_csv(\"Resources/wine-consumption-per-person.csv\")\n",
    "alcohol_expenditure_df = pd.read_csv(\"Resources/alcohol-expenditure-as-share-of-total.csv\")"
   ]
  },
  {
   "cell_type": "code",
   "execution_count": 402,
   "metadata": {},
   "outputs": [
    {
     "data": {
      "text/html": [
       "<div>\n",
       "<style scoped>\n",
       "    .dataframe tbody tr th:only-of-type {\n",
       "        vertical-align: middle;\n",
       "    }\n",
       "\n",
       "    .dataframe tbody tr th {\n",
       "        vertical-align: top;\n",
       "    }\n",
       "\n",
       "    .dataframe thead th {\n",
       "        text-align: right;\n",
       "    }\n",
       "</style>\n",
       "<table border=\"1\" class=\"dataframe\">\n",
       "  <thead>\n",
       "    <tr style=\"text-align: right;\">\n",
       "      <th></th>\n",
       "      <th>Unnamed: 0</th>\n",
       "      <th>index</th>\n",
       "      <th>Continent</th>\n",
       "      <th>Country Code</th>\n",
       "      <th>Country</th>\n",
       "      <th>Alcohol Consumption Per Capita (Liters)</th>\n",
       "      <th>Climate</th>\n",
       "      <th>Main Export</th>\n",
       "      <th>Main Industry</th>\n",
       "      <th>Region</th>\n",
       "      <th>Happiness Score</th>\n",
       "      <th>Life Expectancy</th>\n",
       "      <th>GDP per capita</th>\n",
       "      <th>code</th>\n",
       "      <th>Mental Health Disorders (%)</th>\n",
       "    </tr>\n",
       "  </thead>\n",
       "  <tbody>\n",
       "    <tr>\n",
       "      <th>0</th>\n",
       "      <td>0</td>\n",
       "      <td>0</td>\n",
       "      <td>Asia</td>\n",
       "      <td>AFG</td>\n",
       "      <td>Afghanistan</td>\n",
       "      <td>0.2</td>\n",
       "      <td>arid to semiarid; cold winters and hot summers</td>\n",
       "      <td>Fruit and nuts</td>\n",
       "      <td>small-scale production of bricks</td>\n",
       "      <td>South Asia</td>\n",
       "      <td>2.5669</td>\n",
       "      <td>52.590000</td>\n",
       "      <td>7.462861</td>\n",
       "      <td>AFG</td>\n",
       "      <td>17.553463</td>\n",
       "    </tr>\n",
       "    <tr>\n",
       "      <th>1</th>\n",
       "      <td>1</td>\n",
       "      <td>1</td>\n",
       "      <td>Europe</td>\n",
       "      <td>ALB</td>\n",
       "      <td>Albania</td>\n",
       "      <td>7.5</td>\n",
       "      <td>mild temperate; cool, cloudy, wet winters; hot...</td>\n",
       "      <td>Chromium and chrome products</td>\n",
       "      <td>perfumes and cosmetic products</td>\n",
       "      <td>Central and Eastern Europe</td>\n",
       "      <td>4.8827</td>\n",
       "      <td>68.708138</td>\n",
       "      <td>9.417931</td>\n",
       "      <td>ALB</td>\n",
       "      <td>10.987610</td>\n",
       "    </tr>\n",
       "    <tr>\n",
       "      <th>2</th>\n",
       "      <td>2</td>\n",
       "      <td>4942</td>\n",
       "      <td>Africa</td>\n",
       "      <td>DZA</td>\n",
       "      <td>Algeria</td>\n",
       "      <td>0.9</td>\n",
       "      <td>arid to semiarid; mild, wet winters with hot, ...</td>\n",
       "      <td>Oil</td>\n",
       "      <td>petroleum</td>\n",
       "      <td>Middle East and North Africa</td>\n",
       "      <td>5.0051</td>\n",
       "      <td>65.905174</td>\n",
       "      <td>9.537965</td>\n",
       "      <td>DZA</td>\n",
       "      <td>14.700388</td>\n",
       "    </tr>\n",
       "    <tr>\n",
       "      <th>3</th>\n",
       "      <td>3</td>\n",
       "      <td>4943</td>\n",
       "      <td>Europe</td>\n",
       "      <td>AND</td>\n",
       "      <td>Andorra</td>\n",
       "      <td>11.3</td>\n",
       "      <td>temperate; snowy, cold winters and warm, dry s...</td>\n",
       "      <td>Tobacco products</td>\n",
       "      <td>tourism</td>\n",
       "      <td>NaN</td>\n",
       "      <td>NaN</td>\n",
       "      <td>NaN</td>\n",
       "      <td>NaN</td>\n",
       "      <td>AND</td>\n",
       "      <td>14.726869</td>\n",
       "    </tr>\n",
       "    <tr>\n",
       "      <th>4</th>\n",
       "      <td>4</td>\n",
       "      <td>4944</td>\n",
       "      <td>Africa</td>\n",
       "      <td>AGO</td>\n",
       "      <td>Angola</td>\n",
       "      <td>6.4</td>\n",
       "      <td>semiarid in south and along coast to Luanda; n...</td>\n",
       "      <td>Oil</td>\n",
       "      <td>petroleum</td>\n",
       "      <td>NaN</td>\n",
       "      <td>NaN</td>\n",
       "      <td>NaN</td>\n",
       "      <td>NaN</td>\n",
       "      <td>AGO</td>\n",
       "      <td>12.498281</td>\n",
       "    </tr>\n",
       "  </tbody>\n",
       "</table>\n",
       "</div>"
      ],
      "text/plain": [
       "   Unnamed: 0  index Continent Country Code      Country  \\\n",
       "0           0      0      Asia          AFG  Afghanistan   \n",
       "1           1      1    Europe          ALB      Albania   \n",
       "2           2   4942    Africa          DZA      Algeria   \n",
       "3           3   4943    Europe          AND      Andorra   \n",
       "4           4   4944    Africa          AGO       Angola   \n",
       "\n",
       "   Alcohol Consumption Per Capita (Liters)  \\\n",
       "0                                      0.2   \n",
       "1                                      7.5   \n",
       "2                                      0.9   \n",
       "3                                     11.3   \n",
       "4                                      6.4   \n",
       "\n",
       "                                             Climate  \\\n",
       "0     arid to semiarid; cold winters and hot summers   \n",
       "1  mild temperate; cool, cloudy, wet winters; hot...   \n",
       "2  arid to semiarid; mild, wet winters with hot, ...   \n",
       "3  temperate; snowy, cold winters and warm, dry s...   \n",
       "4  semiarid in south and along coast to Luanda; n...   \n",
       "\n",
       "                    Main Export                     Main Industry  \\\n",
       "0                Fruit and nuts  small-scale production of bricks   \n",
       "1  Chromium and chrome products    perfumes and cosmetic products   \n",
       "2                           Oil                         petroleum   \n",
       "3              Tobacco products                          tourism    \n",
       "4                           Oil                         petroleum   \n",
       "\n",
       "                         Region  Happiness Score  Life Expectancy  \\\n",
       "0                    South Asia           2.5669        52.590000   \n",
       "1    Central and Eastern Europe           4.8827        68.708138   \n",
       "2  Middle East and North Africa           5.0051        65.905174   \n",
       "3                           NaN              NaN              NaN   \n",
       "4                           NaN              NaN              NaN   \n",
       "\n",
       "   GDP per capita code  Mental Health Disorders (%)  \n",
       "0        7.462861  AFG                    17.553463  \n",
       "1        9.417931  ALB                    10.987610  \n",
       "2        9.537965  DZA                    14.700388  \n",
       "3             NaN  AND                    14.726869  \n",
       "4             NaN  AGO                    12.498281  "
      ]
     },
     "execution_count": 402,
     "metadata": {},
     "output_type": "execute_result"
    }
   ],
   "source": [
    "merged_df = pd.read_csv(\"../mega_df.csv\")\n",
    "merged_df = merged_df.rename(columns={'continent':'Continent', 'country_code':'Country Code', 'country':'Country', 'consumption_per_capita_(L)':'Alcohol Consumption Per Capita (Liters)', 'climate':'Climate', 'main_export':'Main Export', 'main_industry':'Main Industry', 'region':'Region', 'happy_score':'Happiness Score', 'life_expectancy':'Life Expectancy', 'gdp_per_capita':'GDP per capita', 'mental_health_and_addiction (%)':'Mental Health Disorders (%)'})\n",
    "merged_df.head()"
   ]
  },
  {
   "cell_type": "code",
   "execution_count": 133,
   "metadata": {},
   "outputs": [
    {
     "data": {
      "text/html": [
       "<div>\n",
       "<style scoped>\n",
       "    .dataframe tbody tr th:only-of-type {\n",
       "        vertical-align: middle;\n",
       "    }\n",
       "\n",
       "    .dataframe tbody tr th {\n",
       "        vertical-align: top;\n",
       "    }\n",
       "\n",
       "    .dataframe thead th {\n",
       "        text-align: right;\n",
       "    }\n",
       "</style>\n",
       "<table border=\"1\" class=\"dataframe\">\n",
       "  <thead>\n",
       "    <tr style=\"text-align: right;\">\n",
       "      <th></th>\n",
       "      <th>index</th>\n",
       "      <th>Continent</th>\n",
       "      <th>Country Code</th>\n",
       "      <th>Country</th>\n",
       "      <th>Alcohol Consumption Per Capita (Liters)</th>\n",
       "      <th>Climate</th>\n",
       "      <th>Main Export</th>\n",
       "      <th>Main Industry</th>\n",
       "      <th>Region</th>\n",
       "      <th>Happiness Score</th>\n",
       "      <th>Life Expectancy</th>\n",
       "      <th>GDP per capita</th>\n",
       "      <th>Mental Health Disorders (%)</th>\n",
       "    </tr>\n",
       "  </thead>\n",
       "  <tbody>\n",
       "    <tr>\n",
       "      <th>0</th>\n",
       "      <td>0</td>\n",
       "      <td>Asia</td>\n",
       "      <td>AFG</td>\n",
       "      <td>Afghanistan</td>\n",
       "      <td>0.2</td>\n",
       "      <td>arid to semiarid; cold winters and hot summers</td>\n",
       "      <td>Fruit and nuts</td>\n",
       "      <td>small-scale production of bricks</td>\n",
       "      <td>South Asia</td>\n",
       "      <td>2.5669</td>\n",
       "      <td>52.590000</td>\n",
       "      <td>7.462861</td>\n",
       "      <td>17.553463</td>\n",
       "    </tr>\n",
       "    <tr>\n",
       "      <th>1</th>\n",
       "      <td>1</td>\n",
       "      <td>Europe</td>\n",
       "      <td>ALB</td>\n",
       "      <td>Albania</td>\n",
       "      <td>7.5</td>\n",
       "      <td>mild temperate; cool, cloudy, wet winters; hot...</td>\n",
       "      <td>Chromium and chrome products</td>\n",
       "      <td>perfumes and cosmetic products</td>\n",
       "      <td>Central and Eastern Europe</td>\n",
       "      <td>4.8827</td>\n",
       "      <td>68.708138</td>\n",
       "      <td>9.417931</td>\n",
       "      <td>10.987610</td>\n",
       "    </tr>\n",
       "    <tr>\n",
       "      <th>2</th>\n",
       "      <td>4942</td>\n",
       "      <td>Africa</td>\n",
       "      <td>DZA</td>\n",
       "      <td>Algeria</td>\n",
       "      <td>0.9</td>\n",
       "      <td>arid to semiarid; mild, wet winters with hot, ...</td>\n",
       "      <td>Oil</td>\n",
       "      <td>petroleum</td>\n",
       "      <td>Middle East and North Africa</td>\n",
       "      <td>5.0051</td>\n",
       "      <td>65.905174</td>\n",
       "      <td>9.537965</td>\n",
       "      <td>14.700388</td>\n",
       "    </tr>\n",
       "    <tr>\n",
       "      <th>3</th>\n",
       "      <td>4943</td>\n",
       "      <td>Europe</td>\n",
       "      <td>AND</td>\n",
       "      <td>Andorra</td>\n",
       "      <td>11.3</td>\n",
       "      <td>temperate; snowy, cold winters and warm, dry s...</td>\n",
       "      <td>Tobacco products</td>\n",
       "      <td>tourism</td>\n",
       "      <td>NaN</td>\n",
       "      <td>NaN</td>\n",
       "      <td>NaN</td>\n",
       "      <td>NaN</td>\n",
       "      <td>14.726869</td>\n",
       "    </tr>\n",
       "    <tr>\n",
       "      <th>4</th>\n",
       "      <td>4944</td>\n",
       "      <td>Africa</td>\n",
       "      <td>AGO</td>\n",
       "      <td>Angola</td>\n",
       "      <td>6.4</td>\n",
       "      <td>semiarid in south and along coast to Luanda; n...</td>\n",
       "      <td>Oil</td>\n",
       "      <td>petroleum</td>\n",
       "      <td>NaN</td>\n",
       "      <td>NaN</td>\n",
       "      <td>NaN</td>\n",
       "      <td>NaN</td>\n",
       "      <td>12.498281</td>\n",
       "    </tr>\n",
       "  </tbody>\n",
       "</table>\n",
       "</div>"
      ],
      "text/plain": [
       "   index Continent Country Code      Country  \\\n",
       "0      0      Asia          AFG  Afghanistan   \n",
       "1      1    Europe          ALB      Albania   \n",
       "2   4942    Africa          DZA      Algeria   \n",
       "3   4943    Europe          AND      Andorra   \n",
       "4   4944    Africa          AGO       Angola   \n",
       "\n",
       "   Alcohol Consumption Per Capita (Liters)  \\\n",
       "0                                      0.2   \n",
       "1                                      7.5   \n",
       "2                                      0.9   \n",
       "3                                     11.3   \n",
       "4                                      6.4   \n",
       "\n",
       "                                             Climate  \\\n",
       "0     arid to semiarid; cold winters and hot summers   \n",
       "1  mild temperate; cool, cloudy, wet winters; hot...   \n",
       "2  arid to semiarid; mild, wet winters with hot, ...   \n",
       "3  temperate; snowy, cold winters and warm, dry s...   \n",
       "4  semiarid in south and along coast to Luanda; n...   \n",
       "\n",
       "                    Main Export                     Main Industry  \\\n",
       "0                Fruit and nuts  small-scale production of bricks   \n",
       "1  Chromium and chrome products    perfumes and cosmetic products   \n",
       "2                           Oil                         petroleum   \n",
       "3              Tobacco products                          tourism    \n",
       "4                           Oil                         petroleum   \n",
       "\n",
       "                         Region  Happiness Score  Life Expectancy  \\\n",
       "0                    South Asia           2.5669        52.590000   \n",
       "1    Central and Eastern Europe           4.8827        68.708138   \n",
       "2  Middle East and North Africa           5.0051        65.905174   \n",
       "3                           NaN              NaN              NaN   \n",
       "4                           NaN              NaN              NaN   \n",
       "\n",
       "   GDP per capita  Mental Health Disorders (%)  \n",
       "0        7.462861                    17.553463  \n",
       "1        9.417931                    10.987610  \n",
       "2        9.537965                    14.700388  \n",
       "3             NaN                    14.726869  \n",
       "4             NaN                    12.498281  "
      ]
     },
     "execution_count": 133,
     "metadata": {},
     "output_type": "execute_result"
    }
   ],
   "source": [
    "updated_df=merged_df.drop(['Unnamed: 0', 'code'], axis=1)\n",
    "updated_df.head()"
   ]
  },
  {
   "cell_type": "code",
   "execution_count": 134,
   "metadata": {},
   "outputs": [
    {
     "data": {
      "text/plain": [
       "Oil                                  11\n",
       "Machinery and transport equipment     8\n",
       "Petroleum                             8\n",
       "Coffee                                7\n",
       "Crude oil                             5\n",
       "Cotton                                5\n",
       "Manufactured goods                    5\n",
       "Diamonds                              4\n",
       "Gold                                  4\n",
       "Machinery and equipment               3\n",
       "Fish and fish products                3\n",
       "Sugar                                 3\n",
       "Cocoa                                 3\n",
       "Bananas                               3\n",
       "Bauxite                               3\n",
       "Fish                                  3\n",
       "Machinery                             3\n",
       "Tobacco                               2\n",
       "Copra                                 2\n",
       "Agricultural products                 2\n",
       "Name: Main Export, dtype: int64"
      ]
     },
     "execution_count": 134,
     "metadata": {},
     "output_type": "execute_result"
    }
   ],
   "source": [
    "updated_df[\"Main Export\"].value_counts().head(20)"
   ]
  },
  {
   "cell_type": "code",
   "execution_count": 162,
   "metadata": {},
   "outputs": [
    {
     "data": {
      "text/html": [
       "<div>\n",
       "<style scoped>\n",
       "    .dataframe tbody tr th:only-of-type {\n",
       "        vertical-align: middle;\n",
       "    }\n",
       "\n",
       "    .dataframe tbody tr th {\n",
       "        vertical-align: top;\n",
       "    }\n",
       "\n",
       "    .dataframe thead th {\n",
       "        text-align: right;\n",
       "    }\n",
       "</style>\n",
       "<table border=\"1\" class=\"dataframe\">\n",
       "  <thead>\n",
       "    <tr style=\"text-align: right;\">\n",
       "      <th></th>\n",
       "      <th>index</th>\n",
       "      <th>Continent</th>\n",
       "      <th>Country Code</th>\n",
       "      <th>Country</th>\n",
       "      <th>Alcohol Consumption Per Capita (Liters)</th>\n",
       "      <th>Climate</th>\n",
       "      <th>Main Export</th>\n",
       "      <th>Main Industry</th>\n",
       "      <th>Region</th>\n",
       "      <th>Happiness Score</th>\n",
       "      <th>Life Expectancy</th>\n",
       "      <th>GDP per capita</th>\n",
       "      <th>Mental Health Disorders (%)</th>\n",
       "    </tr>\n",
       "  </thead>\n",
       "  <tbody>\n",
       "    <tr>\n",
       "      <th>0</th>\n",
       "      <td>0</td>\n",
       "      <td>Asia</td>\n",
       "      <td>AFG</td>\n",
       "      <td>Afghanistan</td>\n",
       "      <td>0.2</td>\n",
       "      <td>arid to semiarid; cold winters and hot summers</td>\n",
       "      <td>Fruit and nuts</td>\n",
       "      <td>small-scale production of bricks</td>\n",
       "      <td>South Asia</td>\n",
       "      <td>2.5669</td>\n",
       "      <td>52.590000</td>\n",
       "      <td>7.462861</td>\n",
       "      <td>17.553463</td>\n",
       "    </tr>\n",
       "    <tr>\n",
       "      <th>1</th>\n",
       "      <td>1</td>\n",
       "      <td>Europe</td>\n",
       "      <td>ALB</td>\n",
       "      <td>Albania</td>\n",
       "      <td>7.5</td>\n",
       "      <td>mild temperate; cool, cloudy, wet winters; hot...</td>\n",
       "      <td>Chromium and chrome products</td>\n",
       "      <td>perfumes and cosmetic products</td>\n",
       "      <td>Central and Eastern Europe</td>\n",
       "      <td>4.8827</td>\n",
       "      <td>68.708138</td>\n",
       "      <td>9.417931</td>\n",
       "      <td>10.987610</td>\n",
       "    </tr>\n",
       "    <tr>\n",
       "      <th>2</th>\n",
       "      <td>4942</td>\n",
       "      <td>Africa</td>\n",
       "      <td>DZA</td>\n",
       "      <td>Algeria</td>\n",
       "      <td>0.9</td>\n",
       "      <td>arid to semiarid; mild, wet winters with hot, ...</td>\n",
       "      <td>Petroleum</td>\n",
       "      <td>petroleum</td>\n",
       "      <td>Middle East and North Africa</td>\n",
       "      <td>5.0051</td>\n",
       "      <td>65.905174</td>\n",
       "      <td>9.537965</td>\n",
       "      <td>14.700388</td>\n",
       "    </tr>\n",
       "    <tr>\n",
       "      <th>3</th>\n",
       "      <td>4943</td>\n",
       "      <td>Europe</td>\n",
       "      <td>AND</td>\n",
       "      <td>Andorra</td>\n",
       "      <td>11.3</td>\n",
       "      <td>temperate; snowy, cold winters and warm, dry s...</td>\n",
       "      <td>Manufactured goods</td>\n",
       "      <td>tourism</td>\n",
       "      <td>NaN</td>\n",
       "      <td>NaN</td>\n",
       "      <td>NaN</td>\n",
       "      <td>NaN</td>\n",
       "      <td>14.726869</td>\n",
       "    </tr>\n",
       "    <tr>\n",
       "      <th>4</th>\n",
       "      <td>4944</td>\n",
       "      <td>Africa</td>\n",
       "      <td>AGO</td>\n",
       "      <td>Angola</td>\n",
       "      <td>6.4</td>\n",
       "      <td>semiarid in south and along coast to Luanda; n...</td>\n",
       "      <td>Petroleum</td>\n",
       "      <td>petroleum</td>\n",
       "      <td>NaN</td>\n",
       "      <td>NaN</td>\n",
       "      <td>NaN</td>\n",
       "      <td>NaN</td>\n",
       "      <td>12.498281</td>\n",
       "    </tr>\n",
       "    <tr>\n",
       "      <th>...</th>\n",
       "      <td>...</td>\n",
       "      <td>...</td>\n",
       "      <td>...</td>\n",
       "      <td>...</td>\n",
       "      <td>...</td>\n",
       "      <td>...</td>\n",
       "      <td>...</td>\n",
       "      <td>...</td>\n",
       "      <td>...</td>\n",
       "      <td>...</td>\n",
       "      <td>...</td>\n",
       "      <td>...</td>\n",
       "      <td>...</td>\n",
       "    </tr>\n",
       "    <tr>\n",
       "      <th>181</th>\n",
       "      <td>5128</td>\n",
       "      <td>Asia</td>\n",
       "      <td>UZB</td>\n",
       "      <td>Uzbekistan</td>\n",
       "      <td>2.7</td>\n",
       "      <td>mostly mid-latitude desert, long, hot summers,...</td>\n",
       "      <td>Cotton</td>\n",
       "      <td>textiles</td>\n",
       "      <td>Commonwealth of Independent States</td>\n",
       "      <td>6.2576</td>\n",
       "      <td>65.107574</td>\n",
       "      <td>8.740372</td>\n",
       "      <td>10.897074</td>\n",
       "    </tr>\n",
       "    <tr>\n",
       "      <th>182</th>\n",
       "      <td>5129</td>\n",
       "      <td>South America</td>\n",
       "      <td>VEN</td>\n",
       "      <td>Venezuela</td>\n",
       "      <td>5.6</td>\n",
       "      <td>tropical; hot, humid; more moderate in highlands</td>\n",
       "      <td>Petroleum</td>\n",
       "      <td>petroleum</td>\n",
       "      <td>Latin America and Caribbean</td>\n",
       "      <td>5.0532</td>\n",
       "      <td>66.505341</td>\n",
       "      <td>8.977794</td>\n",
       "      <td>11.014506</td>\n",
       "    </tr>\n",
       "    <tr>\n",
       "      <th>183</th>\n",
       "      <td>5130</td>\n",
       "      <td>Oceania</td>\n",
       "      <td>WSM</td>\n",
       "      <td>Samoa</td>\n",
       "      <td>2.5</td>\n",
       "      <td>tropical; rainy season (November to April), dr...</td>\n",
       "      <td>Coconut oil and cream</td>\n",
       "      <td>food processing</td>\n",
       "      <td>NaN</td>\n",
       "      <td>NaN</td>\n",
       "      <td>NaN</td>\n",
       "      <td>NaN</td>\n",
       "      <td>11.152716</td>\n",
       "    </tr>\n",
       "    <tr>\n",
       "      <th>184</th>\n",
       "      <td>5131</td>\n",
       "      <td>Asia</td>\n",
       "      <td>YEM</td>\n",
       "      <td>Yemen</td>\n",
       "      <td>0.1</td>\n",
       "      <td>mostly desert; hot and humid along west coast;...</td>\n",
       "      <td>Petroleum</td>\n",
       "      <td>crude oil production and petroleum refining</td>\n",
       "      <td>Middle East and North Africa</td>\n",
       "      <td>3.5274</td>\n",
       "      <td>56.727283</td>\n",
       "      <td>7.759683</td>\n",
       "      <td>15.819471</td>\n",
       "    </tr>\n",
       "    <tr>\n",
       "      <th>185</th>\n",
       "      <td>5132</td>\n",
       "      <td>Africa</td>\n",
       "      <td>ZMB</td>\n",
       "      <td>Zambia</td>\n",
       "      <td>4.8</td>\n",
       "      <td>tropical; modified by altitude; rainy season (...</td>\n",
       "      <td>Semi-precious metals</td>\n",
       "      <td>copper mining and processing</td>\n",
       "      <td>Sub-Saharan Africa</td>\n",
       "      <td>3.7594</td>\n",
       "      <td>55.299377</td>\n",
       "      <td>8.224720</td>\n",
       "      <td>12.192107</td>\n",
       "    </tr>\n",
       "  </tbody>\n",
       "</table>\n",
       "<p>186 rows × 13 columns</p>\n",
       "</div>"
      ],
      "text/plain": [
       "     index      Continent Country Code      Country  \\\n",
       "0        0           Asia          AFG  Afghanistan   \n",
       "1        1         Europe          ALB      Albania   \n",
       "2     4942         Africa          DZA      Algeria   \n",
       "3     4943         Europe          AND      Andorra   \n",
       "4     4944         Africa          AGO       Angola   \n",
       "..     ...            ...          ...          ...   \n",
       "181   5128           Asia          UZB   Uzbekistan   \n",
       "182   5129  South America          VEN    Venezuela   \n",
       "183   5130        Oceania          WSM        Samoa   \n",
       "184   5131           Asia          YEM        Yemen   \n",
       "185   5132         Africa          ZMB       Zambia   \n",
       "\n",
       "     Alcohol Consumption Per Capita (Liters)  \\\n",
       "0                                        0.2   \n",
       "1                                        7.5   \n",
       "2                                        0.9   \n",
       "3                                       11.3   \n",
       "4                                        6.4   \n",
       "..                                       ...   \n",
       "181                                      2.7   \n",
       "182                                      5.6   \n",
       "183                                      2.5   \n",
       "184                                      0.1   \n",
       "185                                      4.8   \n",
       "\n",
       "                                               Climate  \\\n",
       "0       arid to semiarid; cold winters and hot summers   \n",
       "1    mild temperate; cool, cloudy, wet winters; hot...   \n",
       "2    arid to semiarid; mild, wet winters with hot, ...   \n",
       "3    temperate; snowy, cold winters and warm, dry s...   \n",
       "4    semiarid in south and along coast to Luanda; n...   \n",
       "..                                                 ...   \n",
       "181  mostly mid-latitude desert, long, hot summers,...   \n",
       "182   tropical; hot, humid; more moderate in highlands   \n",
       "183  tropical; rainy season (November to April), dr...   \n",
       "184  mostly desert; hot and humid along west coast;...   \n",
       "185  tropical; modified by altitude; rainy season (...   \n",
       "\n",
       "                      Main Export  \\\n",
       "0                  Fruit and nuts   \n",
       "1    Chromium and chrome products   \n",
       "2                       Petroleum   \n",
       "3              Manufactured goods   \n",
       "4                       Petroleum   \n",
       "..                            ...   \n",
       "181                        Cotton   \n",
       "182                     Petroleum   \n",
       "183         Coconut oil and cream   \n",
       "184                     Petroleum   \n",
       "185          Semi-precious metals   \n",
       "\n",
       "                                   Main Industry  \\\n",
       "0               small-scale production of bricks   \n",
       "1                 perfumes and cosmetic products   \n",
       "2                                      petroleum   \n",
       "3                                       tourism    \n",
       "4                                      petroleum   \n",
       "..                                           ...   \n",
       "181                                     textiles   \n",
       "182                                    petroleum   \n",
       "183                              food processing   \n",
       "184  crude oil production and petroleum refining   \n",
       "185                 copper mining and processing   \n",
       "\n",
       "                                 Region  Happiness Score  Life Expectancy  \\\n",
       "0                            South Asia           2.5669        52.590000   \n",
       "1            Central and Eastern Europe           4.8827        68.708138   \n",
       "2          Middle East and North Africa           5.0051        65.905174   \n",
       "3                                   NaN              NaN              NaN   \n",
       "4                                   NaN              NaN              NaN   \n",
       "..                                  ...              ...              ...   \n",
       "181  Commonwealth of Independent States           6.2576        65.107574   \n",
       "182         Latin America and Caribbean           5.0532        66.505341   \n",
       "183                                 NaN              NaN              NaN   \n",
       "184        Middle East and North Africa           3.5274        56.727283   \n",
       "185                  Sub-Saharan Africa           3.7594        55.299377   \n",
       "\n",
       "     GDP per capita  Mental Health Disorders (%)  \n",
       "0          7.462861                    17.553463  \n",
       "1          9.417931                    10.987610  \n",
       "2          9.537965                    14.700388  \n",
       "3               NaN                    14.726869  \n",
       "4               NaN                    12.498281  \n",
       "..              ...                          ...  \n",
       "181        8.740372                    10.897074  \n",
       "182        8.977794                    11.014506  \n",
       "183             NaN                    11.152716  \n",
       "184        7.759683                    15.819471  \n",
       "185        8.224720                    12.192107  \n",
       "\n",
       "[186 rows x 13 columns]"
      ]
     },
     "execution_count": 162,
     "metadata": {},
     "output_type": "execute_result"
    }
   ],
   "source": [
    "updated_df = updated_df.replace(\n",
    "    {\"Crude oil\": \"Petroleum\", \"Oil\": \"Petroleum\", \"Textile products\":\"Textiles and clothing\", \"Fish\":\"Agricultural products\", \"Aluminium\":\"Semi-precious metals\", \"Vehicles\":\"Machinery\", \"Bauxite and alumina\":\"Semi-precious metals\", \"Fuels and fuel products\":\"Petroleum\", \"Soyabeans\":\"Agricultural products\", \"Garments\":\"Textiles and clothing\", \"Clothing\":\"Textiles and clothing\", \"Computers and electrical machinery\":\"Machinery\", \"Machinery and electrical equipment\":\"Machinery\", \"Peetroleum\":\"Petroleum\", \"Copra\":\"Semi-precious metals\", \"Clothing and textiles\":\"Textiles and clothing\", \"Petroleum and petroleum products\":\"Petroleum\", \"Fish and fish products\":\"Agricultural products\", \"Machinery and transport equipment\":\"Machinery\", \"Machinery and equipment\":\"Machinery\", \"Machinery and electronics\":\"Machinery\", \"Bananas\":\"Agricultural products\", \"Sugar\":\"Agricultural products\", \"Fruit\":\"Agricultural products\", \"Coffee\":\"Agricultural products\", \"Food including rice\":\"Agricultural products\", \"Tobacco products\": \"Manufactured goods\", \"Ores and metals\":\"Semi-precious metals\", \"Foodstuffs\":\"Agricultural products\", \"Tobacco\":\"Agricultural products\", \"Vanilla\": \"Agricultural products\", \"Cocoa\":\"Agricultural products\", \"Bauxite\":\"Semi-precious metals\", \"Nickel\":\"Semi-precious metals\", \"Copper\":\"Semi-precious metals\", \"Tea\":\"Agricultural products\", \"Diamonds\":\"Precious stones and metals\", \"Gold\":\"Precious stones and metals\"})\n",
    "updated_df.fillna(method='ffill')\n",
    "updated_df"
   ]
  },
  {
   "cell_type": "code",
   "execution_count": 147,
   "metadata": {},
   "outputs": [
    {
     "data": {
      "text/plain": [
       "Agricultural products                 35\n",
       "Petroleum                             27\n",
       "Machinery                             19\n",
       "Semi-precious metals                  12\n",
       "Textiles and clothing                  9\n",
       "Precious stones and metals             8\n",
       "Manufactured goods                     6\n",
       "Cotton                                 5\n",
       "Phosphates                             2\n",
       "Water                                  1\n",
       "Steel products                         1\n",
       "Military equipment                     1\n",
       "Re-exports                             1\n",
       "Electronic equipment                   1\n",
       "Processed and unprocessed diamonds     1\n",
       "Meat                                   1\n",
       "Uranium                                1\n",
       "Light manufactures                     1\n",
       "Timber                                 1\n",
       "Chromium and chrome products           1\n",
       "Livestock                              1\n",
       "Sugar and molasses                     1\n",
       "Computer software                      1\n",
       "Foodstuffs and tobacco                 1\n",
       "Shoes                                  1\n",
       "Crude oil and petroleum products       1\n",
       "Wool                                   1\n",
       "Transport equipment                    1\n",
       "Food and live animals                  1\n",
       "Metal manufacturing                    1\n",
       "Name: Main Export, dtype: int64"
      ]
     },
     "execution_count": 147,
     "metadata": {},
     "output_type": "execute_result"
    }
   ],
   "source": [
    "updated_df[\"Main Export\"].value_counts().head(30)"
   ]
  },
  {
   "cell_type": "code",
   "execution_count": 148,
   "metadata": {},
   "outputs": [
    {
     "data": {
      "text/html": [
       "<div>\n",
       "<style scoped>\n",
       "    .dataframe tbody tr th:only-of-type {\n",
       "        vertical-align: middle;\n",
       "    }\n",
       "\n",
       "    .dataframe tbody tr th {\n",
       "        vertical-align: top;\n",
       "    }\n",
       "\n",
       "    .dataframe thead th {\n",
       "        text-align: right;\n",
       "    }\n",
       "</style>\n",
       "<table border=\"1\" class=\"dataframe\">\n",
       "  <thead>\n",
       "    <tr style=\"text-align: right;\">\n",
       "      <th></th>\n",
       "      <th>index</th>\n",
       "      <th>Continent</th>\n",
       "      <th>Country Code</th>\n",
       "      <th>Country</th>\n",
       "      <th>Alcohol Consumption Per Capita (Liters)</th>\n",
       "      <th>Climate</th>\n",
       "      <th>Main Export</th>\n",
       "      <th>Main Industry</th>\n",
       "      <th>Region</th>\n",
       "      <th>Happiness Score</th>\n",
       "      <th>Life Expectancy</th>\n",
       "      <th>GDP per capita</th>\n",
       "      <th>Mental Health Disorders (%)</th>\n",
       "    </tr>\n",
       "  </thead>\n",
       "  <tbody>\n",
       "    <tr>\n",
       "      <th>2</th>\n",
       "      <td>4942</td>\n",
       "      <td>Africa</td>\n",
       "      <td>DZA</td>\n",
       "      <td>Algeria</td>\n",
       "      <td>0.9</td>\n",
       "      <td>arid to semiarid; mild, wet winters with hot, ...</td>\n",
       "      <td>Petroleum</td>\n",
       "      <td>petroleum</td>\n",
       "      <td>Middle East and North Africa</td>\n",
       "      <td>5.0051</td>\n",
       "      <td>65.905174</td>\n",
       "      <td>9.537965</td>\n",
       "      <td>14.700388</td>\n",
       "    </tr>\n",
       "    <tr>\n",
       "      <th>3</th>\n",
       "      <td>4943</td>\n",
       "      <td>Europe</td>\n",
       "      <td>AND</td>\n",
       "      <td>Andorra</td>\n",
       "      <td>11.3</td>\n",
       "      <td>temperate; snowy, cold winters and warm, dry s...</td>\n",
       "      <td>Manufactured goods</td>\n",
       "      <td>tourism</td>\n",
       "      <td>NaN</td>\n",
       "      <td>NaN</td>\n",
       "      <td>NaN</td>\n",
       "      <td>NaN</td>\n",
       "      <td>14.726869</td>\n",
       "    </tr>\n",
       "    <tr>\n",
       "      <th>4</th>\n",
       "      <td>4944</td>\n",
       "      <td>Africa</td>\n",
       "      <td>AGO</td>\n",
       "      <td>Angola</td>\n",
       "      <td>6.4</td>\n",
       "      <td>semiarid in south and along coast to Luanda; n...</td>\n",
       "      <td>Petroleum</td>\n",
       "      <td>petroleum</td>\n",
       "      <td>NaN</td>\n",
       "      <td>NaN</td>\n",
       "      <td>NaN</td>\n",
       "      <td>NaN</td>\n",
       "      <td>12.498281</td>\n",
       "    </tr>\n",
       "    <tr>\n",
       "      <th>5</th>\n",
       "      <td>4945</td>\n",
       "      <td>North America</td>\n",
       "      <td>ATG</td>\n",
       "      <td>Antigua and Barbuda</td>\n",
       "      <td>7.0</td>\n",
       "      <td>tropical maritime; little seasonal temperature...</td>\n",
       "      <td>Textiles and clothing</td>\n",
       "      <td>tourism</td>\n",
       "      <td>NaN</td>\n",
       "      <td>NaN</td>\n",
       "      <td>NaN</td>\n",
       "      <td>NaN</td>\n",
       "      <td>13.159940</td>\n",
       "    </tr>\n",
       "    <tr>\n",
       "      <th>6</th>\n",
       "      <td>4946</td>\n",
       "      <td>Europe</td>\n",
       "      <td>AZE</td>\n",
       "      <td>Azerbaijan</td>\n",
       "      <td>0.8</td>\n",
       "      <td>dry, semiarid steppe</td>\n",
       "      <td>Petroleum</td>\n",
       "      <td>petroleum and natural gas</td>\n",
       "      <td>Commonwealth of Independent States</td>\n",
       "      <td>5.1648</td>\n",
       "      <td>65.508400</td>\n",
       "      <td>9.687727</td>\n",
       "      <td>10.495815</td>\n",
       "    </tr>\n",
       "    <tr>\n",
       "      <th>...</th>\n",
       "      <td>...</td>\n",
       "      <td>...</td>\n",
       "      <td>...</td>\n",
       "      <td>...</td>\n",
       "      <td>...</td>\n",
       "      <td>...</td>\n",
       "      <td>...</td>\n",
       "      <td>...</td>\n",
       "      <td>...</td>\n",
       "      <td>...</td>\n",
       "      <td>...</td>\n",
       "      <td>...</td>\n",
       "      <td>...</td>\n",
       "    </tr>\n",
       "    <tr>\n",
       "      <th>177</th>\n",
       "      <td>5124</td>\n",
       "      <td>Africa</td>\n",
       "      <td>TZA</td>\n",
       "      <td>Tanzania</td>\n",
       "      <td>9.4</td>\n",
       "      <td>varies from tropical along coast to temperate ...</td>\n",
       "      <td>Precious stones and metals</td>\n",
       "      <td>agricultural processing (sugar</td>\n",
       "      <td>Sub-Saharan Africa</td>\n",
       "      <td>3.4762</td>\n",
       "      <td>57.496075</td>\n",
       "      <td>7.967665</td>\n",
       "      <td>12.637257</td>\n",
       "    </tr>\n",
       "    <tr>\n",
       "      <th>178</th>\n",
       "      <td>5125</td>\n",
       "      <td>North America</td>\n",
       "      <td>USA</td>\n",
       "      <td>United States</td>\n",
       "      <td>9.8</td>\n",
       "      <td>mostly temperate, but tropical in Hawaii and F...</td>\n",
       "      <td>Machinery</td>\n",
       "      <td>highly diversified</td>\n",
       "      <td>North America and ANZ</td>\n",
       "      <td>6.9396</td>\n",
       "      <td>68.299500</td>\n",
       "      <td>10.925769</td>\n",
       "      <td>17.080892</td>\n",
       "    </tr>\n",
       "    <tr>\n",
       "      <th>182</th>\n",
       "      <td>5129</td>\n",
       "      <td>South America</td>\n",
       "      <td>VEN</td>\n",
       "      <td>Venezuela</td>\n",
       "      <td>5.6</td>\n",
       "      <td>tropical; hot, humid; more moderate in highlands</td>\n",
       "      <td>Petroleum</td>\n",
       "      <td>petroleum</td>\n",
       "      <td>Latin America and Caribbean</td>\n",
       "      <td>5.0532</td>\n",
       "      <td>66.505341</td>\n",
       "      <td>8.977794</td>\n",
       "      <td>11.014506</td>\n",
       "    </tr>\n",
       "    <tr>\n",
       "      <th>184</th>\n",
       "      <td>5131</td>\n",
       "      <td>Asia</td>\n",
       "      <td>YEM</td>\n",
       "      <td>Yemen</td>\n",
       "      <td>0.1</td>\n",
       "      <td>mostly desert; hot and humid along west coast;...</td>\n",
       "      <td>Petroleum</td>\n",
       "      <td>crude oil production and petroleum refining</td>\n",
       "      <td>Middle East and North Africa</td>\n",
       "      <td>3.5274</td>\n",
       "      <td>56.727283</td>\n",
       "      <td>7.759683</td>\n",
       "      <td>15.819471</td>\n",
       "    </tr>\n",
       "    <tr>\n",
       "      <th>185</th>\n",
       "      <td>5132</td>\n",
       "      <td>Africa</td>\n",
       "      <td>ZMB</td>\n",
       "      <td>Zambia</td>\n",
       "      <td>4.8</td>\n",
       "      <td>tropical; modified by altitude; rainy season (...</td>\n",
       "      <td>Semi-precious metals</td>\n",
       "      <td>copper mining and processing</td>\n",
       "      <td>Sub-Saharan Africa</td>\n",
       "      <td>3.7594</td>\n",
       "      <td>55.299377</td>\n",
       "      <td>8.224720</td>\n",
       "      <td>12.192107</td>\n",
       "    </tr>\n",
       "  </tbody>\n",
       "</table>\n",
       "<p>81 rows × 13 columns</p>\n",
       "</div>"
      ],
      "text/plain": [
       "     index      Continent Country Code              Country  \\\n",
       "2     4942         Africa          DZA              Algeria   \n",
       "3     4943         Europe          AND              Andorra   \n",
       "4     4944         Africa          AGO               Angola   \n",
       "5     4945  North America          ATG  Antigua and Barbuda   \n",
       "6     4946         Europe          AZE           Azerbaijan   \n",
       "..     ...            ...          ...                  ...   \n",
       "177   5124         Africa          TZA             Tanzania   \n",
       "178   5125  North America          USA        United States   \n",
       "182   5129  South America          VEN            Venezuela   \n",
       "184   5131           Asia          YEM                Yemen   \n",
       "185   5132         Africa          ZMB               Zambia   \n",
       "\n",
       "     Alcohol Consumption Per Capita (Liters)  \\\n",
       "2                                        0.9   \n",
       "3                                       11.3   \n",
       "4                                        6.4   \n",
       "5                                        7.0   \n",
       "6                                        0.8   \n",
       "..                                       ...   \n",
       "177                                      9.4   \n",
       "178                                      9.8   \n",
       "182                                      5.6   \n",
       "184                                      0.1   \n",
       "185                                      4.8   \n",
       "\n",
       "                                               Climate  \\\n",
       "2    arid to semiarid; mild, wet winters with hot, ...   \n",
       "3    temperate; snowy, cold winters and warm, dry s...   \n",
       "4    semiarid in south and along coast to Luanda; n...   \n",
       "5    tropical maritime; little seasonal temperature...   \n",
       "6                                 dry, semiarid steppe   \n",
       "..                                                 ...   \n",
       "177  varies from tropical along coast to temperate ...   \n",
       "178  mostly temperate, but tropical in Hawaii and F...   \n",
       "182   tropical; hot, humid; more moderate in highlands   \n",
       "184  mostly desert; hot and humid along west coast;...   \n",
       "185  tropical; modified by altitude; rainy season (...   \n",
       "\n",
       "                    Main Export                                Main Industry  \\\n",
       "2                     Petroleum                                    petroleum   \n",
       "3            Manufactured goods                                     tourism    \n",
       "4                     Petroleum                                    petroleum   \n",
       "5         Textiles and clothing                                      tourism   \n",
       "6                     Petroleum                    petroleum and natural gas   \n",
       "..                          ...                                          ...   \n",
       "177  Precious stones and metals               agricultural processing (sugar   \n",
       "178                   Machinery                           highly diversified   \n",
       "182                   Petroleum                                    petroleum   \n",
       "184                   Petroleum  crude oil production and petroleum refining   \n",
       "185        Semi-precious metals                 copper mining and processing   \n",
       "\n",
       "                                 Region  Happiness Score  Life Expectancy  \\\n",
       "2          Middle East and North Africa           5.0051        65.905174   \n",
       "3                                   NaN              NaN              NaN   \n",
       "4                                   NaN              NaN              NaN   \n",
       "5                                   NaN              NaN              NaN   \n",
       "6    Commonwealth of Independent States           5.1648        65.508400   \n",
       "..                                  ...              ...              ...   \n",
       "177                  Sub-Saharan Africa           3.4762        57.496075   \n",
       "178               North America and ANZ           6.9396        68.299500   \n",
       "182         Latin America and Caribbean           5.0532        66.505341   \n",
       "184        Middle East and North Africa           3.5274        56.727283   \n",
       "185                  Sub-Saharan Africa           3.7594        55.299377   \n",
       "\n",
       "     GDP per capita  Mental Health Disorders (%)  \n",
       "2          9.537965                    14.700388  \n",
       "3               NaN                    14.726869  \n",
       "4               NaN                    12.498281  \n",
       "5               NaN                    13.159940  \n",
       "6          9.687727                    10.495815  \n",
       "..              ...                          ...  \n",
       "177        7.967665                    12.637257  \n",
       "178       10.925769                    17.080892  \n",
       "182        8.977794                    11.014506  \n",
       "184        7.759683                    15.819471  \n",
       "185        8.224720                    12.192107  \n",
       "\n",
       "[81 rows x 13 columns]"
      ]
     },
     "execution_count": 148,
     "metadata": {},
     "output_type": "execute_result"
    }
   ],
   "source": [
    "top_export_data = updated_df.loc[(updated_df[\"Main Export\"]==\"Petroleum\") | (updated_df[\"Main Export\"]==\"Machinery\") | (updated_df[\"Main Export\"]==\"Semi-precious metals\") | (updated_df[\"Main Export\"]==\"Textiles and clothing\") | (updated_df[\"Main Export\"]==\"Precious stones and metals\") | (updated_df[\"Main Export\"]==\"Manufactured goods\")]\n",
    "top_export_data"
   ]
  },
  {
   "cell_type": "code",
   "execution_count": 150,
   "metadata": {
    "scrolled": true
   },
   "outputs": [
    {
     "data": {
      "text/html": [
       "<div>\n",
       "<style scoped>\n",
       "    .dataframe tbody tr th:only-of-type {\n",
       "        vertical-align: middle;\n",
       "    }\n",
       "\n",
       "    .dataframe tbody tr th {\n",
       "        vertical-align: top;\n",
       "    }\n",
       "\n",
       "    .dataframe thead th {\n",
       "        text-align: right;\n",
       "    }\n",
       "</style>\n",
       "<table border=\"1\" class=\"dataframe\">\n",
       "  <thead>\n",
       "    <tr style=\"text-align: right;\">\n",
       "      <th></th>\n",
       "      <th>Alcohol Consumption Per Capita (Liters)</th>\n",
       "    </tr>\n",
       "    <tr>\n",
       "      <th>Main Export</th>\n",
       "      <th></th>\n",
       "    </tr>\n",
       "  </thead>\n",
       "  <tbody>\n",
       "    <tr>\n",
       "      <th>Machinery</th>\n",
       "      <td>10.510526</td>\n",
       "    </tr>\n",
       "    <tr>\n",
       "      <th>Manufactured goods</th>\n",
       "      <td>10.050000</td>\n",
       "    </tr>\n",
       "    <tr>\n",
       "      <th>Petroleum</th>\n",
       "      <td>4.033333</td>\n",
       "    </tr>\n",
       "    <tr>\n",
       "      <th>Precious stones and metals</th>\n",
       "      <td>6.537500</td>\n",
       "    </tr>\n",
       "    <tr>\n",
       "      <th>Semi-precious metals</th>\n",
       "      <td>5.091667</td>\n",
       "    </tr>\n",
       "    <tr>\n",
       "      <th>Textiles and clothing</th>\n",
       "      <td>5.933333</td>\n",
       "    </tr>\n",
       "  </tbody>\n",
       "</table>\n",
       "</div>"
      ],
      "text/plain": [
       "                            Alcohol Consumption Per Capita (Liters)\n",
       "Main Export                                                        \n",
       "Machinery                                                 10.510526\n",
       "Manufactured goods                                        10.050000\n",
       "Petroleum                                                  4.033333\n",
       "Precious stones and metals                                 6.537500\n",
       "Semi-precious metals                                       5.091667\n",
       "Textiles and clothing                                      5.933333"
      ]
     },
     "execution_count": 150,
     "metadata": {},
     "output_type": "execute_result"
    }
   ],
   "source": [
    "top_export_data_grouped=top_export_data.groupby(\"Main Export\")[[\"Alcohol Consumption Per Capita (Liters)\"]].mean()\n",
    "top_export_data_grouped"
   ]
  },
  {
   "cell_type": "code",
   "execution_count": 154,
   "metadata": {},
   "outputs": [
    {
     "data": {
      "text/plain": [
       "<matplotlib.axes._subplots.AxesSubplot at 0x7fc54b6bc760>"
      ]
     },
     "execution_count": 154,
     "metadata": {},
     "output_type": "execute_result"
    },
    {
     "data": {
      "image/png": "[encoded data removed]",
      "text/plain": [
       "<Figure size 864x216 with 1 Axes>"
      ]
     },
     "metadata": {
      "needs_background": "light"
     },
     "output_type": "display_data"
    }
   ],
   "source": [
    "# plt.bar(top_export_data_grouped, color='r', alpha=0.5, align=\"center\")\n",
    "top_export_data_grouped.plot(kind='bar', figsize=(12,3), title ='Alcohol Consumption per Export Group')"
   ]
  },
  {
   "cell_type": "code",
   "execution_count": 174,
   "metadata": {
    "scrolled": false
   },
   "outputs": [
    {
     "data": {
      "text/html": [
       "<div>\n",
       "<style scoped>\n",
       "    .dataframe tbody tr th:only-of-type {\n",
       "        vertical-align: middle;\n",
       "    }\n",
       "\n",
       "    .dataframe tbody tr th {\n",
       "        vertical-align: top;\n",
       "    }\n",
       "\n",
       "    .dataframe thead th {\n",
       "        text-align: right;\n",
       "    }\n",
       "</style>\n",
       "<table border=\"1\" class=\"dataframe\">\n",
       "  <thead>\n",
       "    <tr style=\"text-align: right;\">\n",
       "      <th></th>\n",
       "      <th>index</th>\n",
       "      <th>Continent</th>\n",
       "      <th>Country Code</th>\n",
       "      <th>Country</th>\n",
       "      <th>Alcohol Consumption Per Capita (Liters)</th>\n",
       "      <th>Climate</th>\n",
       "      <th>Main Export</th>\n",
       "      <th>Main Industry</th>\n",
       "      <th>Region</th>\n",
       "      <th>Happiness Score</th>\n",
       "      <th>Life Expectancy</th>\n",
       "      <th>GDP per capita</th>\n",
       "      <th>Mental Health Disorders (%)</th>\n",
       "    </tr>\n",
       "  </thead>\n",
       "  <tbody>\n",
       "    <tr>\n",
       "      <th>0</th>\n",
       "      <td>0</td>\n",
       "      <td>Asia</td>\n",
       "      <td>AFG</td>\n",
       "      <td>Afghanistan</td>\n",
       "      <td>0.2</td>\n",
       "      <td>arid to semiarid; cold winters and hot summers</td>\n",
       "      <td>Fruit and nuts</td>\n",
       "      <td>small-scale production of bricks</td>\n",
       "      <td>South Asia</td>\n",
       "      <td>2.5669</td>\n",
       "      <td>52.590000</td>\n",
       "      <td>7.462861</td>\n",
       "      <td>17.553463</td>\n",
       "    </tr>\n",
       "    <tr>\n",
       "      <th>1</th>\n",
       "      <td>1</td>\n",
       "      <td>Europe</td>\n",
       "      <td>ALB</td>\n",
       "      <td>Albania</td>\n",
       "      <td>7.5</td>\n",
       "      <td>mild temperate; cool, cloudy, wet winters; hot...</td>\n",
       "      <td>Chromium and chrome products</td>\n",
       "      <td>perfumes and cosmetic products</td>\n",
       "      <td>Central and Eastern Europe</td>\n",
       "      <td>4.8827</td>\n",
       "      <td>68.708138</td>\n",
       "      <td>9.417931</td>\n",
       "      <td>10.987610</td>\n",
       "    </tr>\n",
       "    <tr>\n",
       "      <th>2</th>\n",
       "      <td>4942</td>\n",
       "      <td>Africa</td>\n",
       "      <td>DZA</td>\n",
       "      <td>Algeria</td>\n",
       "      <td>0.9</td>\n",
       "      <td>arid to semiarid; mild, wet winters with hot, ...</td>\n",
       "      <td>Petroleum</td>\n",
       "      <td>petroleum</td>\n",
       "      <td>Middle East and North Africa</td>\n",
       "      <td>5.0051</td>\n",
       "      <td>65.905174</td>\n",
       "      <td>9.537965</td>\n",
       "      <td>14.700388</td>\n",
       "    </tr>\n",
       "    <tr>\n",
       "      <th>6</th>\n",
       "      <td>4946</td>\n",
       "      <td>Europe</td>\n",
       "      <td>AZE</td>\n",
       "      <td>Azerbaijan</td>\n",
       "      <td>0.8</td>\n",
       "      <td>dry, semiarid steppe</td>\n",
       "      <td>Petroleum</td>\n",
       "      <td>petroleum and natural gas</td>\n",
       "      <td>Commonwealth of Independent States</td>\n",
       "      <td>5.1648</td>\n",
       "      <td>65.508400</td>\n",
       "      <td>9.687727</td>\n",
       "      <td>10.495815</td>\n",
       "    </tr>\n",
       "    <tr>\n",
       "      <th>7</th>\n",
       "      <td>4948</td>\n",
       "      <td>South America</td>\n",
       "      <td>ARG</td>\n",
       "      <td>Argentina</td>\n",
       "      <td>9.8</td>\n",
       "      <td>mostly temperate; arid in southeast; subantarc...</td>\n",
       "      <td>Food and live animals</td>\n",
       "      <td>food processing</td>\n",
       "      <td>Latin America and Caribbean</td>\n",
       "      <td>5.9747</td>\n",
       "      <td>68.803802</td>\n",
       "      <td>9.810955</td>\n",
       "      <td>15.491235</td>\n",
       "    </tr>\n",
       "  </tbody>\n",
       "</table>\n",
       "</div>"
      ],
      "text/plain": [
       "   index      Continent Country Code      Country  \\\n",
       "0      0           Asia          AFG  Afghanistan   \n",
       "1      1         Europe          ALB      Albania   \n",
       "2   4942         Africa          DZA      Algeria   \n",
       "6   4946         Europe          AZE   Azerbaijan   \n",
       "7   4948  South America          ARG    Argentina   \n",
       "\n",
       "   Alcohol Consumption Per Capita (Liters)  \\\n",
       "0                                      0.2   \n",
       "1                                      7.5   \n",
       "2                                      0.9   \n",
       "6                                      0.8   \n",
       "7                                      9.8   \n",
       "\n",
       "                                             Climate  \\\n",
       "0     arid to semiarid; cold winters and hot summers   \n",
       "1  mild temperate; cool, cloudy, wet winters; hot...   \n",
       "2  arid to semiarid; mild, wet winters with hot, ...   \n",
       "6                               dry, semiarid steppe   \n",
       "7  mostly temperate; arid in southeast; subantarc...   \n",
       "\n",
       "                    Main Export                     Main Industry  \\\n",
       "0                Fruit and nuts  small-scale production of bricks   \n",
       "1  Chromium and chrome products    perfumes and cosmetic products   \n",
       "2                     Petroleum                         petroleum   \n",
       "6                     Petroleum         petroleum and natural gas   \n",
       "7         Food and live animals                   food processing   \n",
       "\n",
       "                               Region  Happiness Score  Life Expectancy  \\\n",
       "0                          South Asia           2.5669        52.590000   \n",
       "1          Central and Eastern Europe           4.8827        68.708138   \n",
       "2        Middle East and North Africa           5.0051        65.905174   \n",
       "6  Commonwealth of Independent States           5.1648        65.508400   \n",
       "7         Latin America and Caribbean           5.9747        68.803802   \n",
       "\n",
       "   GDP per capita  Mental Health Disorders (%)  \n",
       "0        7.462861                    17.553463  \n",
       "1        9.417931                    10.987610  \n",
       "2        9.537965                    14.700388  \n",
       "6        9.687727                    10.495815  \n",
       "7        9.810955                    15.491235  "
      ]
     },
     "execution_count": 174,
     "metadata": {},
     "output_type": "execute_result"
    }
   ],
   "source": [
    "gdp_and_life_expectancy_df=updated_df.dropna(subset=['GDP per capita', 'Life Expectancy'])\n",
    "gdp_and_life_expectancy_df.head()"
   ]
  },
  {
   "cell_type": "code",
   "execution_count": 206,
   "metadata": {},
   "outputs": [
    {
     "data": {
      "text/plain": [
       "Sub-Saharan Africa                    34\n",
       "Latin America and Caribbean           21\n",
       "Western Europe                        20\n",
       "Middle East and North Africa          16\n",
       "Central and Eastern Europe            14\n",
       "Commonwealth of Independent States    12\n",
       "Southeast Asia                         9\n",
       "South Asia                             7\n",
       "North America and ANZ                  4\n",
       "East Asia                              4\n",
       "Name: Region, dtype: int64"
      ]
     },
     "execution_count": 206,
     "metadata": {},
     "output_type": "execute_result"
    }
   ],
   "source": [
    "gdp_and_life_expectancy_df[\"Region\"].value_counts().head(15)"
   ]
  },
  {
   "cell_type": "code",
   "execution_count": 186,
   "metadata": {},
   "outputs": [
    {
     "data": {
      "text/plain": [
       "tourism                                                              10\n",
       "textiles                                                              9\n",
       "petroleum                                                             8\n",
       "food processing                                                       8\n",
       "sugar                                                                 5\n",
       "mining                                                                4\n",
       "construction                                                          2\n",
       "oil                                                                   2\n",
       "aluminum                                                              2\n",
       "petroleum and natural gas                                             2\n",
       "fish processing                                                       2\n",
       "electronics                                                           2\n",
       "machinery                                                             2\n",
       "steel                                                                 2\n",
       "metal-cutting machine tools                                           2\n",
       "food processing (largely sugar milling)                               1\n",
       "electric machinery and equipment                                      1\n",
       "complete range of mining and extractive industries producing coal     1\n",
       "petroleum and petrochemicals                                          1\n",
       "coal                                                                  1\n",
       "mining (copper                                                        1\n",
       "chemicals and plastics                                                1\n",
       "textiles and apparel                                                  1\n",
       "clothing                                                              1\n",
       "metals and metal products                                             1\n",
       "Name: Main Industry, dtype: int64"
      ]
     },
     "execution_count": 186,
     "metadata": {},
     "output_type": "execute_result"
    }
   ],
   "source": [
    "gdp_and_life_expectancy_df[\"Main Industry\"].value_counts().head(25)"
   ]
  },
  {
   "cell_type": "code",
   "execution_count": 182,
   "metadata": {},
   "outputs": [],
   "source": [
    "petroleum_export_data = gdp_and_life_expectancy_df.loc[(gdp_and_life_expectancy_df[\"Main Export\"]==\"Petroleum\")]"
   ]
  },
  {
   "cell_type": "code",
   "execution_count": 183,
   "metadata": {},
   "outputs": [],
   "source": [
    "tourism_industry_data = gdp_and_life_expectancy_df.loc[(gdp_and_life_expectancy_df[\"Main Industry\"]==\"tourism\")]"
   ]
  },
  {
   "cell_type": "code",
   "execution_count": 337,
   "metadata": {},
   "outputs": [],
   "source": [
    "def plot_linear_regression(x_values, y_values, title, text_coordinates):\n",
    "    (slope, intercept, rvalue, pvalue, stderr) = linregress(x_values, y_values)\n",
    "    regress_values = x_values * slope + intercept\n",
    "    line_eq = \"y = \" + str(round(slope,2)) + \"x + \" + str(round(intercept,2))\n",
    "    plt.scatter(x_values, y_values, edgecolors='k')\n",
    "    plt.plot(x_values,regress_values, \"r-\")\n",
    "    plt.xlabel('Alcohol Consumption Per Capita (Liters)')\n",
    "    plt.ylabel(title)\n",
    "    plt.annotate(line_eq,text_coordinates,fontsize=15,color=\"red\")\n",
    "    print(f\"The r-value is: {rvalue**2}\")\n",
    "    plt.show()"
   ]
  },
  {
   "cell_type": "code",
   "execution_count": 342,
   "metadata": {
    "scrolled": false
   },
   "outputs": [
    {
     "name": "stdout",
     "output_type": "stream",
     "text": [
      "The r-value is: 0.20507265852518977\n"
     ]
    },
    {
     "data": {
      "image/png": "[encoded data removed]",
      "text/plain": [
       "<Figure size 432x288 with 1 Axes>"
      ]
     },
     "metadata": {
      "needs_background": "light"
     },
     "output_type": "display_data"
    }
   ],
   "source": [
    "x_values=gdp_and_life_expectancy_df['Alcohol Consumption Per Capita (Liters)']\n",
    "y_values=gdp_and_life_expectancy_df['GDP per capita']\n",
    "plot_linear_regression(x_values,y_values,'GDP per capita',(6,9))"
   ]
  },
  {
   "cell_type": "code",
   "execution_count": 343,
   "metadata": {
    "scrolled": false
   },
   "outputs": [
    {
     "name": "stdout",
     "output_type": "stream",
     "text": [
      "The r-value is: 0.15718368589991474\n"
     ]
    },
    {
     "data": {
      "image/png": "[encoded data removed]",
      "text/plain": [
       "<Figure size 432x288 with 1 Axes>"
      ]
     },
     "metadata": {
      "needs_background": "light"
     },
     "output_type": "display_data"
    }
   ],
   "source": [
    "x_values=gdp_and_life_expectancy_df['Alcohol Consumption Per Capita (Liters)']\n",
    "y_values=gdp_and_life_expectancy_df['Life Expectancy']\n",
    "plot_linear_regression(x_values,y_values,'Life Expectancy',(6,60))"
   ]
  },
  {
   "cell_type": "code",
   "execution_count": 344,
   "metadata": {
    "scrolled": false
   },
   "outputs": [
    {
     "name": "stdout",
     "output_type": "stream",
     "text": [
      "The r-value is: 0.18116385485317182\n"
     ]
    },
    {
     "data": {
      "image/png": "[encoded data removed]",
      "text/plain": [
       "<Figure size 432x288 with 1 Axes>"
      ]
     },
     "metadata": {
      "needs_background": "light"
     },
     "output_type": "display_data"
    }
   ],
   "source": [
    "x_values=gdp_and_life_expectancy_df['Alcohol Consumption Per Capita (Liters)']\n",
    "y_values=gdp_and_life_expectancy_df['Happiness Score']\n",
    "plot_linear_regression(x_values,y_values,'Happiness Score',(6,6))"
   ]
  },
  {
   "cell_type": "code",
   "execution_count": 345,
   "metadata": {
    "scrolled": true
   },
   "outputs": [
    {
     "name": "stdout",
     "output_type": "stream",
     "text": [
      "The r-value is: 0.007723890876234616\n"
     ]
    },
    {
     "data": {
      "image/png": "[encoded data removed]",
      "text/plain": [
       "<Figure size 432x288 with 1 Axes>"
      ]
     },
     "metadata": {
      "needs_background": "light"
     },
     "output_type": "display_data"
    }
   ],
   "source": [
    "x_values=gdp_and_life_expectancy_df['Alcohol Consumption Per Capita (Liters)']\n",
    "y_values=gdp_and_life_expectancy_df['Mental Health Disorders (%)']\n",
    "plot_linear_regression(x_values,y_values,'Mental Health Disorders (%)',(6,14))"
   ]
  },
  {
   "cell_type": "code",
   "execution_count": 193,
   "metadata": {},
   "outputs": [],
   "source": [
    "group1 = gdp_and_life_expectancy_df[gdp_and_life_expectancy_df[\"Main Industry\"] == \"tourism\"][\"Alcohol Consumption Per Capita (Liters)\"]\n",
    "group2 = gdp_and_life_expectancy_df[gdp_and_life_expectancy_df[\"Main Industry\"] == \"textiles\"][\"Alcohol Consumption Per Capita (Liters)\"]\n",
    "group3 = gdp_and_life_expectancy_df[gdp_and_life_expectancy_df[\"Main Industry\"] == \"petroleum\"][\"Alcohol Consumption Per Capita (Liters)\"]\n",
    "group4 = gdp_and_life_expectancy_df[gdp_and_life_expectancy_df[\"Main Industry\"] == \"food processing\"][\"Alcohol Consumption Per Capita (Liters)\"]"
   ]
  },
  {
   "cell_type": "code",
   "execution_count": 194,
   "metadata": {},
   "outputs": [
    {
     "data": {
      "text/plain": [
       "F_onewayResult(statistic=4.390411881822701, pvalue=0.010961156364986614)"
      ]
     },
     "execution_count": 194,
     "metadata": {},
     "output_type": "execute_result"
    }
   ],
   "source": [
    "stats.f_oneway(group1, group2, group3, group4)"
   ]
  },
  {
   "cell_type": "code",
   "execution_count": 196,
   "metadata": {},
   "outputs": [],
   "source": [
    "main_industry_data = gdp_and_life_expectancy_df.loc[(gdp_and_life_expectancy_df[\"Main Industry\"]==\"tourism\") | (gdp_and_life_expectancy_df[\"Main Industry\"]==\"textiles\") | (gdp_and_life_expectancy_df[\"Main Industry\"]==\"petroleum\") | (gdp_and_life_expectancy_df[\"Main Industry\"]==\"food processing\")]"
   ]
  },
  {
   "cell_type": "code",
   "execution_count": 197,
   "metadata": {
    "scrolled": false
   },
   "outputs": [
    {
     "data": {
      "text/plain": [
       "<matplotlib.axes._subplots.AxesSubplot at 0x7fc54c24c940>"
      ]
     },
     "execution_count": 197,
     "metadata": {},
     "output_type": "execute_result"
    },
    {
     "data": {
      "image/png": "[encoded data removed]",
      "text/plain": [
       "<Figure size 1440x720 with 1 Axes>"
      ]
     },
     "metadata": {
      "needs_background": "light"
     },
     "output_type": "display_data"
    }
   ],
   "source": [
    "main_industry_data.boxplot(\"Alcohol Consumption Per Capita (Liters)\", by=\"Main Industry\", figsize=(20, 10))"
   ]
  },
  {
   "cell_type": "code",
   "execution_count": 236,
   "metadata": {},
   "outputs": [
    {
     "data": {
      "text/plain": [
       "Africa           53\n",
       "Europe           46\n",
       "Asia             40\n",
       "North America    23\n",
       "South America    12\n",
       "Oceania          12\n",
       "Name: Continent, dtype: int64"
      ]
     },
     "execution_count": 236,
     "metadata": {},
     "output_type": "execute_result"
    }
   ],
   "source": [
    "updated_df_countries_by_continent=updated_df[\"Continent\"].value_counts()\n",
    "updated_df_countries_by_continent"
   ]
  },
  {
   "cell_type": "code",
   "execution_count": 201,
   "metadata": {
    "scrolled": true
   },
   "outputs": [
    {
     "data": {
      "text/plain": [
       "<matplotlib.axes._subplots.AxesSubplot at 0x7fc54d35e940>"
      ]
     },
     "execution_count": 201,
     "metadata": {},
     "output_type": "execute_result"
    },
    {
     "data": {
      "image/png": "[encoded data removed]",
      "text/plain": [
       "<Figure size 1440x720 with 1 Axes>"
      ]
     },
     "metadata": {
      "needs_background": "light"
     },
     "output_type": "display_data"
    }
   ],
   "source": [
    "updated_df.boxplot(\"Alcohol Consumption Per Capita (Liters)\", by=\"Continent\", figsize=(20, 10))"
   ]
  },
  {
   "cell_type": "code",
   "execution_count": 202,
   "metadata": {},
   "outputs": [],
   "source": [
    "group1 = updated_df[updated_df[\"Continent\"] == \"Africa\"][\"Alcohol Consumption Per Capita (Liters)\"]\n",
    "group2 = updated_df[updated_df[\"Continent\"] == \"Asia\"][\"Alcohol Consumption Per Capita (Liters)\"]\n",
    "group3 = updated_df[updated_df[\"Continent\"] == \"Europe\"][\"Alcohol Consumption Per Capita (Liters)\"]\n",
    "group4 = updated_df[updated_df[\"Continent\"] == \"North America\"][\"Alcohol Consumption Per Capita (Liters)\"]\n",
    "group5 = updated_df[updated_df[\"Continent\"] == \"Oceania\"][\"Alcohol Consumption Per Capita (Liters)\"]\n",
    "group6 = updated_df[updated_df[\"Continent\"] == \"South America\"][\"Alcohol Consumption Per Capita (Liters)\"]"
   ]
  },
  {
   "cell_type": "code",
   "execution_count": 203,
   "metadata": {},
   "outputs": [
    {
     "data": {
      "text/plain": [
       "F_onewayResult(statistic=39.0908735441233, pvalue=5.946781924844183e-19)"
      ]
     },
     "execution_count": 203,
     "metadata": {},
     "output_type": "execute_result"
    }
   ],
   "source": [
    "stats.f_oneway(group1, group2, group3, group4)"
   ]
  },
  {
   "cell_type": "code",
   "execution_count": 204,
   "metadata": {},
   "outputs": [
    {
     "data": {
      "text/plain": [
       "Ttest_indResult(statistic=6.739906169357296, pvalue=9.301922597184508e-09)"
      ]
     },
     "execution_count": 204,
     "metadata": {},
     "output_type": "execute_result"
    }
   ],
   "source": [
    "stats.ttest_ind(group3, group5)"
   ]
  },
  {
   "cell_type": "code",
   "execution_count": 214,
   "metadata": {
    "scrolled": true
   },
   "outputs": [
    {
     "name": "stdout",
     "output_type": "stream",
     "text": [
      "Africa's potential outliers: Series([], Name: Alcohol Consumption Per Capita (Liters), dtype: float64)\n",
      "Asia's potential outliers: Series([], Name: Alcohol Consumption Per Capita (Liters), dtype: float64)\n",
      "Europe's potential outliers: 6      0.8\n",
      "169    2.0\n",
      "Name: Alcohol Consumption Per Capita (Liters), dtype: float64\n",
      "North America's potential outliers: Series([], Name: Alcohol Consumption Per Capita (Liters), dtype: float64)\n",
      "Oceania's potential outliers: 8      10.6\n",
      "120    10.7\n",
      "Name: Alcohol Consumption Per Capita (Liters), dtype: float64\n",
      "South America's potential outliers: Series([], Name: Alcohol Consumption Per Capita (Liters), dtype: float64)\n"
     ]
    },
    {
     "data": {
      "image/png": "[encoded data removed]",
      "text/plain": [
       "<Figure size 432x288 with 1 Axes>"
      ]
     },
     "metadata": {
      "needs_background": "light"
     },
     "output_type": "display_data"
    }
   ],
   "source": [
    "continents = [\"Africa\", \"Asia\", \"Europe\", \"North America\", \"Oceania\", \"South America\"]\n",
    "\n",
    "# Create empty list to fill with tumor vol data (for plotting)\n",
    "alcohol_consumption_data=[]\n",
    "\n",
    "# Calculate the IQR and quantitatively determine if there are any potential outliers. \n",
    "\n",
    "for continent in continents:\n",
    "      \n",
    "    # Locate the rows which contain mice on each drug and get the tumor volumes\n",
    "    alcohol_by_continent=updated_df.loc[updated_df[\"Continent\"]==continent, \"Alcohol Consumption Per Capita (Liters)\"]\n",
    "    \n",
    "    # add subset \n",
    "    alcohol_consumption_data.append(alcohol_by_continent)\n",
    "\n",
    "    quartiles = alcohol_by_continent.quantile([.25,.5,.75])\n",
    "    lower_q=quartiles[0.25]\n",
    "    upper_q=quartiles[0.75]\n",
    "    iqr=upper_q-lower_q\n",
    "    lower_bound=lower_q - (1.5*iqr)\n",
    "    upper_bound=upper_q + (1.5*iqr)\n",
    "    outliers=alcohol_by_continent.loc[(alcohol_by_continent<lower_bound)|(alcohol_by_continent>upper_bound)]\n",
    "    print(f\"{continent}'s potential outliers: {outliers}\")\n",
    "    \n",
    "rate=dict(markerfacecolor='red', markersize=10)\n",
    "plt.boxplot(alcohol_consumption_data, labels=continents, flierprops=rate)\n",
    "plt.ylabel('Alcohol Consumption Per Capita (Liters)')\n",
    "plt.xlabel('Continent')\n",
    "plt.title('Alcohol Consumption Per Continent')\n",
    "plt.show()"
   ]
  },
  {
   "cell_type": "code",
   "execution_count": 218,
   "metadata": {
    "scrolled": true
   },
   "outputs": [
    {
     "data": {
      "text/html": [
       "<div>\n",
       "<style scoped>\n",
       "    .dataframe tbody tr th:only-of-type {\n",
       "        vertical-align: middle;\n",
       "    }\n",
       "\n",
       "    .dataframe tbody tr th {\n",
       "        vertical-align: top;\n",
       "    }\n",
       "\n",
       "    .dataframe thead th {\n",
       "        text-align: right;\n",
       "    }\n",
       "</style>\n",
       "<table border=\"1\" class=\"dataframe\">\n",
       "  <thead>\n",
       "    <tr style=\"text-align: right;\">\n",
       "      <th></th>\n",
       "      <th>Alcohol Consumption Per Capita (Liters)</th>\n",
       "    </tr>\n",
       "    <tr>\n",
       "      <th>Continent</th>\n",
       "      <th></th>\n",
       "    </tr>\n",
       "  </thead>\n",
       "  <tbody>\n",
       "    <tr>\n",
       "      <th>Africa</th>\n",
       "      <td>252.7</td>\n",
       "    </tr>\n",
       "    <tr>\n",
       "      <th>Asia</th>\n",
       "      <td>137.6</td>\n",
       "    </tr>\n",
       "    <tr>\n",
       "      <th>Europe</th>\n",
       "      <td>473.4</td>\n",
       "    </tr>\n",
       "    <tr>\n",
       "      <th>North America</th>\n",
       "      <td>157.3</td>\n",
       "    </tr>\n",
       "    <tr>\n",
       "      <th>Oceania</th>\n",
       "      <td>42.5</td>\n",
       "    </tr>\n",
       "    <tr>\n",
       "      <th>South America</th>\n",
       "      <td>83.2</td>\n",
       "    </tr>\n",
       "  </tbody>\n",
       "</table>\n",
       "</div>"
      ],
      "text/plain": [
       "               Alcohol Consumption Per Capita (Liters)\n",
       "Continent                                             \n",
       "Africa                                           252.7\n",
       "Asia                                             137.6\n",
       "Europe                                           473.4\n",
       "North America                                    157.3\n",
       "Oceania                                           42.5\n",
       "South America                                     83.2"
      ]
     },
     "execution_count": 218,
     "metadata": {},
     "output_type": "execute_result"
    }
   ],
   "source": [
    "alcohol_by_continent_sum=updated_df.groupby(\"Continent\")[[\"Alcohol Consumption Per Capita (Liters)\"]].sum()\n",
    "alcohol_by_continent_sum"
   ]
  },
  {
   "cell_type": "code",
   "execution_count": 239,
   "metadata": {},
   "outputs": [
    {
     "name": "stderr",
     "output_type": "stream",
     "text": [
      "<ipython-input-239-c37401c2cf16>:1: MatplotlibDeprecationWarning: Non-1D inputs to pie() are currently squeeze()d, but this behavior is deprecated since 3.1 and will be removed in 3.3; pass a 1D array instead.\n",
      "  plt.pie(alcohol_by_continent_sum, labels=continents, autopct='%1.1f%%')\n"
     ]
    },
    {
     "data": {
      "text/plain": [
       "([<matplotlib.patches.Wedge at 0x7fc54fda6a90>,\n",
       "  <matplotlib.patches.Wedge at 0x7fc54fda6eb0>,\n",
       "  <matplotlib.patches.Wedge at 0x7fc54fdb2580>,\n",
       "  <matplotlib.patches.Wedge at 0x7fc54fdb2b80>,\n",
       "  <matplotlib.patches.Wedge at 0x7fc5500a91c0>,\n",
       "  <matplotlib.patches.Wedge at 0x7fc5500a97c0>],\n",
       " [Text(0.8467456254153936, 0.7021551437110564, 'Africa'),\n",
       "  Text(-0.2086293354511101, 1.0800341663064315, 'Asia'),\n",
       "  Text(-1.0528118350214484, -0.31872753260233183, 'Europe'),\n",
       "  Text(0.47954029770548146, -0.9899702535311545, 'North America'),\n",
       "  Text(0.9247119831680095, -0.5957413433575742, 'Oceania'),\n",
       "  Text(1.0715470782973886, -0.24856962604536018, 'South America')],\n",
       " [Text(0.46186125022657826, 0.38299371475148525, '22.0%'),\n",
       "  Text(-0.11379781933696911, 0.5891095452580534, '12.0%'),\n",
       "  Text(-0.57426100092079, -0.1738513814194537, '41.3%'),\n",
       "  Text(0.26156743511208075, -0.5399837746533569, '13.7%'),\n",
       "  Text(0.5043883544552779, -0.3249498236495859, '3.7%'),\n",
       "  Text(0.5844802245258482, -0.13558343238837825, '7.3%')])"
      ]
     },
     "execution_count": 239,
     "metadata": {},
     "output_type": "execute_result"
    },
    {
     "data": {
      "image/png": "[encoded data removed]",
      "text/plain": [
       "<Figure size 432x288 with 1 Axes>"
      ]
     },
     "metadata": {},
     "output_type": "display_data"
    }
   ],
   "source": [
    "plt.pie(alcohol_by_continent_sum, labels=continents, autopct='%1.1f%%')"
   ]
  },
  {
   "cell_type": "code",
   "execution_count": 240,
   "metadata": {
    "scrolled": true
   },
   "outputs": [
    {
     "name": "stderr",
     "output_type": "stream",
     "text": [
      "<ipython-input-240-3afac84a7c18>:2: MatplotlibDeprecationWarning: Non-1D inputs to pie() are currently squeeze()d, but this behavior is deprecated since 3.1 and will be removed in 3.3; pass a 1D array instead.\n",
      "  plt.pie(alcohol_by_continent_mean, labels=continents, autopct='%1.1f%%')\n"
     ]
    },
    {
     "data": {
      "text/plain": [
       "([<matplotlib.patches.Wedge at 0x7fc55012e490>,\n",
       "  <matplotlib.patches.Wedge at 0x7fc55012e8b0>,\n",
       "  <matplotlib.patches.Wedge at 0x7fc55012eee0>,\n",
       "  <matplotlib.patches.Wedge at 0x7fc55013b520>,\n",
       "  <matplotlib.patches.Wedge at 0x7fc55013bb20>,\n",
       "  <matplotlib.patches.Wedge at 0x7fc550147160>],\n",
       " [Text(1.0051820037963315, 0.44677638617544707, 'Africa'),\n",
       "  Text(0.46109470062371827, 0.9986949869988954, 'Asia'),\n",
       "  Text(-0.7673176573487064, 0.7881773992705535, 'Europe'),\n",
       "  Text(-0.838559517633741, -0.711911465974434, 'North America'),\n",
       "  Text(0.04807197041236565, -1.098949082378557, 'Oceania'),\n",
       "  Text(0.9027453275847895, -0.6285307259982054, 'South America')],\n",
       " [Text(0.5482810929798171, 0.24369621064115293, '13.3%'),\n",
       "  Text(0.25150620034020993, 0.5447427201812156, '9.6%'),\n",
       "  Text(-0.4185369040083852, 0.4299149450566655, '28.7%'),\n",
       "  Text(-0.4573961005274951, -0.38831534507696397, '19.1%'),\n",
       "  Text(0.02622107477038126, -0.5994267722064857, '9.9%'),\n",
       "  Text(0.49240654231897607, -0.3428349414535665, '19.4%')])"
      ]
     },
     "execution_count": 240,
     "metadata": {},
     "output_type": "execute_result"
    },
    {
     "data": {
      "image/png": "[encoded data removed]",
      "text/plain": [
       "<Figure size 432x288 with 1 Axes>"
      ]
     },
     "metadata": {},
     "output_type": "display_data"
    }
   ],
   "source": [
    "alcohol_by_continent_mean=updated_df.groupby(\"Continent\")[[\"Alcohol Consumption Per Capita (Liters)\"]].mean()\n",
    "plt.pie(alcohol_by_continent_mean, labels=continents, autopct='%1.1f%%')"
   ]
  },
  {
   "cell_type": "code",
   "execution_count": 238,
   "metadata": {},
   "outputs": [
    {
     "data": {
      "text/plain": [
       "Europe           43\n",
       "Africa           39\n",
       "Asia             34\n",
       "North America    13\n",
       "South America    10\n",
       "Oceania           2\n",
       "Name: Continent, dtype: int64"
      ]
     },
     "execution_count": 238,
     "metadata": {},
     "output_type": "execute_result"
    }
   ],
   "source": [
    "gdp_and_life_expectancy_df_countries_by_continent=gdp_and_life_expectancy_df[\"Continent\"].value_counts()\n",
    "gdp_and_life_expectancy_df_countries_by_continent"
   ]
  },
  {
   "cell_type": "code",
   "execution_count": 243,
   "metadata": {},
   "outputs": [
    {
     "data": {
      "text/plain": [
       "<matplotlib.axes._subplots.AxesSubplot at 0x7fc550158b20>"
      ]
     },
     "execution_count": 243,
     "metadata": {},
     "output_type": "execute_result"
    },
    {
     "data": {
      "image/png": "[encoded data removed]",
      "text/plain": [
       "<Figure size 864x216 with 1 Axes>"
      ]
     },
     "metadata": {
      "needs_background": "light"
     },
     "output_type": "display_data"
    }
   ],
   "source": [
    "gdp_and_life_expectancy_df_countries_by_continent.plot(kind='bar', figsize=(12,3), title ='Number of Measurements per Continent')"
   ]
  },
  {
   "cell_type": "code",
   "execution_count": 241,
   "metadata": {
    "scrolled": true
   },
   "outputs": [
    {
     "data": {
      "text/html": [
       "<div>\n",
       "<style scoped>\n",
       "    .dataframe tbody tr th:only-of-type {\n",
       "        vertical-align: middle;\n",
       "    }\n",
       "\n",
       "    .dataframe tbody tr th {\n",
       "        vertical-align: top;\n",
       "    }\n",
       "\n",
       "    .dataframe thead th {\n",
       "        text-align: right;\n",
       "    }\n",
       "</style>\n",
       "<table border=\"1\" class=\"dataframe\">\n",
       "  <thead>\n",
       "    <tr style=\"text-align: right;\">\n",
       "      <th></th>\n",
       "      <th>index</th>\n",
       "      <th>Alcohol Consumption Per Capita (Liters)</th>\n",
       "      <th>Happiness Score</th>\n",
       "      <th>Life Expectancy</th>\n",
       "      <th>GDP per capita</th>\n",
       "      <th>Mental Health Disorders (%)</th>\n",
       "    </tr>\n",
       "  </thead>\n",
       "  <tbody>\n",
       "    <tr>\n",
       "      <th>count</th>\n",
       "      <td>141.000000</td>\n",
       "      <td>141.000000</td>\n",
       "      <td>141.000000</td>\n",
       "      <td>141.000000</td>\n",
       "      <td>141.000000</td>\n",
       "      <td>141.000000</td>\n",
       "    </tr>\n",
       "    <tr>\n",
       "      <th>mean</th>\n",
       "      <td>4967.858156</td>\n",
       "      <td>6.480142</td>\n",
       "      <td>5.497109</td>\n",
       "      <td>64.637501</td>\n",
       "      <td>9.309033</td>\n",
       "      <td>13.068401</td>\n",
       "    </tr>\n",
       "    <tr>\n",
       "      <th>std</th>\n",
       "      <td>600.336222</td>\n",
       "      <td>4.112111</td>\n",
       "      <td>1.112771</td>\n",
       "      <td>6.814233</td>\n",
       "      <td>1.192886</td>\n",
       "      <td>1.892776</td>\n",
       "    </tr>\n",
       "    <tr>\n",
       "      <th>min</th>\n",
       "      <td>0.000000</td>\n",
       "      <td>0.000000</td>\n",
       "      <td>2.566900</td>\n",
       "      <td>45.200001</td>\n",
       "      <td>6.492642</td>\n",
       "      <td>10.067097</td>\n",
       "    </tr>\n",
       "    <tr>\n",
       "      <th>25%</th>\n",
       "      <td>4993.000000</td>\n",
       "      <td>2.800000</td>\n",
       "      <td>4.729300</td>\n",
       "      <td>59.599152</td>\n",
       "      <td>8.350645</td>\n",
       "      <td>11.630930</td>\n",
       "    </tr>\n",
       "    <tr>\n",
       "      <th>50%</th>\n",
       "      <td>5039.000000</td>\n",
       "      <td>6.600000</td>\n",
       "      <td>5.541500</td>\n",
       "      <td>66.404343</td>\n",
       "      <td>9.500369</td>\n",
       "      <td>12.526669</td>\n",
       "    </tr>\n",
       "    <tr>\n",
       "      <th>75%</th>\n",
       "      <td>5082.000000</td>\n",
       "      <td>9.800000</td>\n",
       "      <td>6.228500</td>\n",
       "      <td>69.002548</td>\n",
       "      <td>10.263742</td>\n",
       "      <td>14.536026</td>\n",
       "    </tr>\n",
       "    <tr>\n",
       "      <th>max</th>\n",
       "      <td>5132.000000</td>\n",
       "      <td>15.200000</td>\n",
       "      <td>7.808700</td>\n",
       "      <td>76.804581</td>\n",
       "      <td>11.450681</td>\n",
       "      <td>18.495605</td>\n",
       "    </tr>\n",
       "  </tbody>\n",
       "</table>\n",
       "</div>"
      ],
      "text/plain": [
       "             index  Alcohol Consumption Per Capita (Liters)  Happiness Score  \\\n",
       "count   141.000000                               141.000000       141.000000   \n",
       "mean   4967.858156                                 6.480142         5.497109   \n",
       "std     600.336222                                 4.112111         1.112771   \n",
       "min       0.000000                                 0.000000         2.566900   \n",
       "25%    4993.000000                                 2.800000         4.729300   \n",
       "50%    5039.000000                                 6.600000         5.541500   \n",
       "75%    5082.000000                                 9.800000         6.228500   \n",
       "max    5132.000000                                15.200000         7.808700   \n",
       "\n",
       "       Life Expectancy  GDP per capita  Mental Health Disorders (%)  \n",
       "count       141.000000      141.000000                   141.000000  \n",
       "mean         64.637501        9.309033                    13.068401  \n",
       "std           6.814233        1.192886                     1.892776  \n",
       "min          45.200001        6.492642                    10.067097  \n",
       "25%          59.599152        8.350645                    11.630930  \n",
       "50%          66.404343        9.500369                    12.526669  \n",
       "75%          69.002548       10.263742                    14.536026  \n",
       "max          76.804581       11.450681                    18.495605  "
      ]
     },
     "execution_count": 241,
     "metadata": {},
     "output_type": "execute_result"
    }
   ],
   "source": [
    "gdp_and_life_expectancy_df.describe()"
   ]
  },
  {
   "cell_type": "code",
   "execution_count": 242,
   "metadata": {},
   "outputs": [
    {
     "data": {
      "text/html": [
       "<div>\n",
       "<style scoped>\n",
       "    .dataframe tbody tr th:only-of-type {\n",
       "        vertical-align: middle;\n",
       "    }\n",
       "\n",
       "    .dataframe tbody tr th {\n",
       "        vertical-align: top;\n",
       "    }\n",
       "\n",
       "    .dataframe thead th {\n",
       "        text-align: right;\n",
       "    }\n",
       "</style>\n",
       "<table border=\"1\" class=\"dataframe\">\n",
       "  <thead>\n",
       "    <tr style=\"text-align: right;\">\n",
       "      <th></th>\n",
       "      <th>mean</th>\n",
       "      <th>median</th>\n",
       "      <th>var</th>\n",
       "      <th>std</th>\n",
       "      <th>sem</th>\n",
       "    </tr>\n",
       "    <tr>\n",
       "      <th>Continent</th>\n",
       "      <th></th>\n",
       "      <th></th>\n",
       "      <th></th>\n",
       "      <th></th>\n",
       "      <th></th>\n",
       "    </tr>\n",
       "  </thead>\n",
       "  <tbody>\n",
       "    <tr>\n",
       "      <th>Africa</th>\n",
       "      <td>4.767925</td>\n",
       "      <td>3.70</td>\n",
       "      <td>14.059913</td>\n",
       "      <td>3.749655</td>\n",
       "      <td>0.515055</td>\n",
       "    </tr>\n",
       "    <tr>\n",
       "      <th>Asia</th>\n",
       "      <td>3.440000</td>\n",
       "      <td>2.40</td>\n",
       "      <td>9.578872</td>\n",
       "      <td>3.094975</td>\n",
       "      <td>0.489359</td>\n",
       "    </tr>\n",
       "    <tr>\n",
       "      <th>Europe</th>\n",
       "      <td>10.291304</td>\n",
       "      <td>11.15</td>\n",
       "      <td>8.688367</td>\n",
       "      <td>2.947604</td>\n",
       "      <td>0.434600</td>\n",
       "    </tr>\n",
       "    <tr>\n",
       "      <th>North America</th>\n",
       "      <td>6.839130</td>\n",
       "      <td>6.90</td>\n",
       "      <td>4.957036</td>\n",
       "      <td>2.226440</td>\n",
       "      <td>0.464245</td>\n",
       "    </tr>\n",
       "    <tr>\n",
       "      <th>Oceania</th>\n",
       "      <td>3.541667</td>\n",
       "      <td>2.10</td>\n",
       "      <td>13.048106</td>\n",
       "      <td>3.612216</td>\n",
       "      <td>1.042757</td>\n",
       "    </tr>\n",
       "    <tr>\n",
       "      <th>South America</th>\n",
       "      <td>6.933333</td>\n",
       "      <td>6.30</td>\n",
       "      <td>4.344242</td>\n",
       "      <td>2.084285</td>\n",
       "      <td>0.601681</td>\n",
       "    </tr>\n",
       "  </tbody>\n",
       "</table>\n",
       "</div>"
      ],
      "text/plain": [
       "                    mean  median        var       std       sem\n",
       "Continent                                                      \n",
       "Africa          4.767925    3.70  14.059913  3.749655  0.515055\n",
       "Asia            3.440000    2.40   9.578872  3.094975  0.489359\n",
       "Europe         10.291304   11.15   8.688367  2.947604  0.434600\n",
       "North America   6.839130    6.90   4.957036  2.226440  0.464245\n",
       "Oceania         3.541667    2.10  13.048106  3.612216  1.042757\n",
       "South America   6.933333    6.30   4.344242  2.084285  0.601681"
      ]
     },
     "execution_count": 242,
     "metadata": {},
     "output_type": "execute_result"
    }
   ],
   "source": [
    "agg_alcohol_df=updated_df.groupby(\"Continent\")[\"Alcohol Consumption Per Capita (Liters)\"].agg(['mean','median', 'var', 'std', 'sem'])\n",
    "agg_alcohol_df"
   ]
  },
  {
   "cell_type": "code",
   "execution_count": 227,
   "metadata": {
    "scrolled": true
   },
   "outputs": [
    {
     "data": {
      "text/html": [
       "<div>\n",
       "<style scoped>\n",
       "    .dataframe tbody tr th:only-of-type {\n",
       "        vertical-align: middle;\n",
       "    }\n",
       "\n",
       "    .dataframe tbody tr th {\n",
       "        vertical-align: top;\n",
       "    }\n",
       "\n",
       "    .dataframe thead th {\n",
       "        text-align: right;\n",
       "    }\n",
       "</style>\n",
       "<table border=\"1\" class=\"dataframe\">\n",
       "  <thead>\n",
       "    <tr style=\"text-align: right;\">\n",
       "      <th></th>\n",
       "      <th>Life Expectancy</th>\n",
       "    </tr>\n",
       "    <tr>\n",
       "      <th>Continent</th>\n",
       "      <th></th>\n",
       "    </tr>\n",
       "  </thead>\n",
       "  <tbody>\n",
       "    <tr>\n",
       "      <th>Africa</th>\n",
       "      <td>56.636795</td>\n",
       "    </tr>\n",
       "    <tr>\n",
       "      <th>Asia</th>\n",
       "      <td>65.107686</td>\n",
       "    </tr>\n",
       "    <tr>\n",
       "      <th>Europe</th>\n",
       "      <td>69.805096</td>\n",
       "    </tr>\n",
       "    <tr>\n",
       "      <th>North America</th>\n",
       "      <td>66.825558</td>\n",
       "    </tr>\n",
       "    <tr>\n",
       "      <th>Oceania</th>\n",
       "      <td>73.403584</td>\n",
       "    </tr>\n",
       "    <tr>\n",
       "      <th>South America</th>\n",
       "      <td>67.423274</td>\n",
       "    </tr>\n",
       "  </tbody>\n",
       "</table>\n",
       "</div>"
      ],
      "text/plain": [
       "               Life Expectancy\n",
       "Continent                     \n",
       "Africa               56.636795\n",
       "Asia                 65.107686\n",
       "Europe               69.805096\n",
       "North America        66.825558\n",
       "Oceania              73.403584\n",
       "South America        67.423274"
      ]
     },
     "execution_count": 227,
     "metadata": {},
     "output_type": "execute_result"
    }
   ],
   "source": [
    "life_expectancy_by_continent_mean=gdp_and_life_expectancy_df.groupby(\"Continent\")[[\"Life Expectancy\"]].mean()\n",
    "life_expectancy_by_continent_mean"
   ]
  },
  {
   "cell_type": "code",
   "execution_count": 232,
   "metadata": {
    "scrolled": true
   },
   "outputs": [
    {
     "data": {
      "text/plain": [
       "<matplotlib.axes._subplots.AxesSubplot at 0x7fc54dd42100>"
      ]
     },
     "execution_count": 232,
     "metadata": {},
     "output_type": "execute_result"
    },
    {
     "data": {
      "image/png": "[encoded data removed]",
      "text/plain": [
       "<Figure size 1440x720 with 1 Axes>"
      ]
     },
     "metadata": {
      "needs_background": "light"
     },
     "output_type": "display_data"
    }
   ],
   "source": [
    "gdp_and_life_expectancy_df.boxplot(\"Life Expectancy\", by=\"Continent\", figsize=(20, 10), flierprops=dict(markerfacecolor='red', markersize=10))"
   ]
  },
  {
   "cell_type": "code",
   "execution_count": 234,
   "metadata": {},
   "outputs": [
    {
     "data": {
      "text/plain": [
       "<matplotlib.axes._subplots.AxesSubplot at 0x7fc54f9d0fa0>"
      ]
     },
     "execution_count": 234,
     "metadata": {},
     "output_type": "execute_result"
    },
    {
     "data": {
      "image/png": "[encoded data removed]",
      "text/plain": [
       "<Figure size 1440x720 with 1 Axes>"
      ]
     },
     "metadata": {
      "needs_background": "light"
     },
     "output_type": "display_data"
    }
   ],
   "source": [
    "gdp_and_life_expectancy_df.boxplot(\"GDP per capita\", by=\"Continent\", figsize=(20, 10), flierprops=dict(markerfacecolor='red', markersize=10))"
   ]
  },
  {
   "cell_type": "code",
   "execution_count": 267,
   "metadata": {},
   "outputs": [],
   "source": [
    "wine_consumption_df=wine_consumption_df.rename(columns={\"Indicator:Alcohol, recorded per capita (15+) consumption (in litres of pure alcohol) - Beverage Types:Wine\":\"Wine Consumption per capita (Liters)\"})"
   ]
  },
  {
   "cell_type": "code",
   "execution_count": 276,
   "metadata": {},
   "outputs": [
    {
     "data": {
      "text/plain": [
       "189"
      ]
     },
     "execution_count": 276,
     "metadata": {},
     "output_type": "execute_result"
    }
   ],
   "source": [
    "wine_latest_timepoint_per_country=wine_consumption_df.groupby(\"Entity\")[[\"Year\"]].max()\n",
    "len(wine_latest_timepoint_per_country)"
   ]
  },
  {
   "cell_type": "code",
   "execution_count": 269,
   "metadata": {},
   "outputs": [
    {
     "data": {
      "text/html": [
       "<div>\n",
       "<style scoped>\n",
       "    .dataframe tbody tr th:only-of-type {\n",
       "        vertical-align: middle;\n",
       "    }\n",
       "\n",
       "    .dataframe tbody tr th {\n",
       "        vertical-align: top;\n",
       "    }\n",
       "\n",
       "    .dataframe thead th {\n",
       "        text-align: right;\n",
       "    }\n",
       "</style>\n",
       "<table border=\"1\" class=\"dataframe\">\n",
       "  <thead>\n",
       "    <tr style=\"text-align: right;\">\n",
       "      <th></th>\n",
       "      <th>Entity</th>\n",
       "      <th>Year</th>\n",
       "      <th>Code</th>\n",
       "      <th>Wine Consumption per capita (Liters)</th>\n",
       "    </tr>\n",
       "  </thead>\n",
       "  <tbody>\n",
       "    <tr>\n",
       "      <th>0</th>\n",
       "      <td>Afghanistan</td>\n",
       "      <td>2013</td>\n",
       "      <td>AFG</td>\n",
       "      <td>0.00</td>\n",
       "    </tr>\n",
       "    <tr>\n",
       "      <th>1</th>\n",
       "      <td>Albania</td>\n",
       "      <td>2014</td>\n",
       "      <td>ALB</td>\n",
       "      <td>1.14</td>\n",
       "    </tr>\n",
       "    <tr>\n",
       "      <th>2</th>\n",
       "      <td>Algeria</td>\n",
       "      <td>2013</td>\n",
       "      <td>DZA</td>\n",
       "      <td>0.22</td>\n",
       "    </tr>\n",
       "    <tr>\n",
       "      <th>3</th>\n",
       "      <td>Andorra</td>\n",
       "      <td>2013</td>\n",
       "      <td>AND</td>\n",
       "      <td>4.29</td>\n",
       "    </tr>\n",
       "    <tr>\n",
       "      <th>4</th>\n",
       "      <td>Angola</td>\n",
       "      <td>2014</td>\n",
       "      <td>AGO</td>\n",
       "      <td>1.32</td>\n",
       "    </tr>\n",
       "  </tbody>\n",
       "</table>\n",
       "</div>"
      ],
      "text/plain": [
       "        Entity  Year Code  Wine Consumption per capita (Liters)\n",
       "0  Afghanistan  2013  AFG                                  0.00\n",
       "1      Albania  2014  ALB                                  1.14\n",
       "2      Algeria  2013  DZA                                  0.22\n",
       "3      Andorra  2013  AND                                  4.29\n",
       "4       Angola  2014  AGO                                  1.32"
      ]
     },
     "execution_count": 269,
     "metadata": {},
     "output_type": "execute_result"
    }
   ],
   "source": [
    "merged_updated_timepoint_wine_df = wine_latest_timepoint_per_country.merge(wine_consumption_df, on = [\"Entity\", \"Year\"], how=\"left\")\n",
    "merged_updated_timepoint_wine_df.head()"
   ]
  },
  {
   "cell_type": "code",
   "execution_count": 272,
   "metadata": {},
   "outputs": [
    {
     "data": {
      "text/html": [
       "<div>\n",
       "<style scoped>\n",
       "    .dataframe tbody tr th:only-of-type {\n",
       "        vertical-align: middle;\n",
       "    }\n",
       "\n",
       "    .dataframe tbody tr th {\n",
       "        vertical-align: top;\n",
       "    }\n",
       "\n",
       "    .dataframe thead th {\n",
       "        text-align: right;\n",
       "    }\n",
       "</style>\n",
       "<table border=\"1\" class=\"dataframe\">\n",
       "  <thead>\n",
       "    <tr style=\"text-align: right;\">\n",
       "      <th></th>\n",
       "      <th>Wine Consumption per capita (Liters)</th>\n",
       "    </tr>\n",
       "    <tr>\n",
       "      <th>Entity</th>\n",
       "      <th></th>\n",
       "    </tr>\n",
       "  </thead>\n",
       "  <tbody>\n",
       "    <tr>\n",
       "      <th>Afghanistan</th>\n",
       "      <td>0.000377</td>\n",
       "    </tr>\n",
       "    <tr>\n",
       "      <th>Albania</th>\n",
       "      <td>0.601698</td>\n",
       "    </tr>\n",
       "    <tr>\n",
       "      <th>Algeria</th>\n",
       "      <td>0.429245</td>\n",
       "    </tr>\n",
       "    <tr>\n",
       "      <th>Andorra</th>\n",
       "      <td>5.221429</td>\n",
       "    </tr>\n",
       "    <tr>\n",
       "      <th>Angola</th>\n",
       "      <td>1.520000</td>\n",
       "    </tr>\n",
       "    <tr>\n",
       "      <th>...</th>\n",
       "      <td>...</td>\n",
       "    </tr>\n",
       "    <tr>\n",
       "      <th>Venezuela</th>\n",
       "      <td>0.120370</td>\n",
       "    </tr>\n",
       "    <tr>\n",
       "      <th>Vietnam</th>\n",
       "      <td>0.003519</td>\n",
       "    </tr>\n",
       "    <tr>\n",
       "      <th>Yemen</th>\n",
       "      <td>0.000000</td>\n",
       "    </tr>\n",
       "    <tr>\n",
       "      <th>Zambia</th>\n",
       "      <td>0.022075</td>\n",
       "    </tr>\n",
       "    <tr>\n",
       "      <th>Zimbabwe</th>\n",
       "      <td>0.045556</td>\n",
       "    </tr>\n",
       "  </tbody>\n",
       "</table>\n",
       "<p>189 rows × 1 columns</p>\n",
       "</div>"
      ],
      "text/plain": [
       "             Wine Consumption per capita (Liters)\n",
       "Entity                                           \n",
       "Afghanistan                              0.000377\n",
       "Albania                                  0.601698\n",
       "Algeria                                  0.429245\n",
       "Andorra                                  5.221429\n",
       "Angola                                   1.520000\n",
       "...                                           ...\n",
       "Venezuela                                0.120370\n",
       "Vietnam                                  0.003519\n",
       "Yemen                                    0.000000\n",
       "Zambia                                   0.022075\n",
       "Zimbabwe                                 0.045556\n",
       "\n",
       "[189 rows x 1 columns]"
      ]
     },
     "execution_count": 272,
     "metadata": {},
     "output_type": "execute_result"
    }
   ],
   "source": [
    "wine_average_consumption_per_country=wine_consumption_df.groupby(\"Entity\")[[\"Wine Consumption per capita (Liters)\"]].mean()\n",
    "wine_average_consumption_per_country"
   ]
  },
  {
   "cell_type": "code",
   "execution_count": 297,
   "metadata": {},
   "outputs": [
    {
     "data": {
      "text/html": [
       "<div>\n",
       "<style scoped>\n",
       "    .dataframe tbody tr th:only-of-type {\n",
       "        vertical-align: middle;\n",
       "    }\n",
       "\n",
       "    .dataframe tbody tr th {\n",
       "        vertical-align: top;\n",
       "    }\n",
       "\n",
       "    .dataframe thead th {\n",
       "        text-align: right;\n",
       "    }\n",
       "</style>\n",
       "<table border=\"1\" class=\"dataframe\">\n",
       "  <thead>\n",
       "    <tr style=\"text-align: right;\">\n",
       "      <th></th>\n",
       "      <th>Entity</th>\n",
       "      <th>Latest Year for Wine Consumption Data</th>\n",
       "      <th>Code</th>\n",
       "      <th>Wine Consumption at Latest Timepoint(L)</th>\n",
       "      <th>Wine Consumption Average Over The Years(L)</th>\n",
       "    </tr>\n",
       "  </thead>\n",
       "  <tbody>\n",
       "    <tr>\n",
       "      <th>87</th>\n",
       "      <td>Kazakhstan</td>\n",
       "      <td>2014</td>\n",
       "      <td>KAZ</td>\n",
       "      <td>0.35</td>\n",
       "      <td>0.375200</td>\n",
       "    </tr>\n",
       "    <tr>\n",
       "      <th>76</th>\n",
       "      <td>Iceland</td>\n",
       "      <td>2014</td>\n",
       "      <td>ISL</td>\n",
       "      <td>2.03</td>\n",
       "      <td>1.038889</td>\n",
       "    </tr>\n",
       "    <tr>\n",
       "      <th>65</th>\n",
       "      <td>Germany</td>\n",
       "      <td>2014</td>\n",
       "      <td>DEU</td>\n",
       "      <td>3.10</td>\n",
       "      <td>3.115000</td>\n",
       "    </tr>\n",
       "    <tr>\n",
       "      <th>94</th>\n",
       "      <td>Lebanon</td>\n",
       "      <td>2014</td>\n",
       "      <td>LBN</td>\n",
       "      <td>0.16</td>\n",
       "      <td>0.594074</td>\n",
       "    </tr>\n",
       "    <tr>\n",
       "      <th>28</th>\n",
       "      <td>Cambodia</td>\n",
       "      <td>2011</td>\n",
       "      <td>KHM</td>\n",
       "      <td>0.02</td>\n",
       "      <td>0.007000</td>\n",
       "    </tr>\n",
       "  </tbody>\n",
       "</table>\n",
       "</div>"
      ],
      "text/plain": [
       "        Entity  Latest Year for Wine Consumption Data Code  \\\n",
       "87  Kazakhstan                                   2014  KAZ   \n",
       "76     Iceland                                   2014  ISL   \n",
       "65     Germany                                   2014  DEU   \n",
       "94     Lebanon                                   2014  LBN   \n",
       "28    Cambodia                                   2011  KHM   \n",
       "\n",
       "    Wine Consumption at Latest Timepoint(L)  \\\n",
       "87                                     0.35   \n",
       "76                                     2.03   \n",
       "65                                     3.10   \n",
       "94                                     0.16   \n",
       "28                                     0.02   \n",
       "\n",
       "    Wine Consumption Average Over The Years(L)  \n",
       "87                                    0.375200  \n",
       "76                                    1.038889  \n",
       "65                                    3.115000  \n",
       "94                                    0.594074  \n",
       "28                                    0.007000  "
      ]
     },
     "execution_count": 297,
     "metadata": {},
     "output_type": "execute_result"
    }
   ],
   "source": [
    "merged_updated_timepoint_average_wine_df = merged_updated_timepoint_wine_df.merge(wine_average_consumption_per_country, on = [\"Entity\"], how=\"left\")\n",
    "merged_updated_timepoint_average_wine_df=merged_updated_timepoint_average_wine_df.rename(columns={\"Wine Consumption per capita (Liters)_x\":\"Wine Consumption at Latest Timepoint(L)\", \"Wine Consumption per capita (Liters)_y\":\"Wine Consumption Average Over The Years(L)\", \"Year\":\"Latest Year for Wine Consumption Data\"})\n",
    "merged_updated_timepoint_average_wine_df.sample(5)"
   ]
  },
  {
   "cell_type": "code",
   "execution_count": 288,
   "metadata": {},
   "outputs": [
    {
     "data": {
      "text/plain": [
       "<matplotlib.legend.Legend at 0x7fc54c4b58b0>"
      ]
     },
     "execution_count": 288,
     "metadata": {},
     "output_type": "execute_result"
    },
    {
     "data": {
      "image/png": "[encoded data removed]",
      "text/plain": [
       "<Figure size 432x288 with 2 Axes>"
      ]
     },
     "metadata": {
      "needs_background": "light"
     },
     "output_type": "display_data"
    }
   ],
   "source": [
    "# Scatter Plot of Data\n",
    "last_timepoint_wine=merged_updated_timepoint_average_wine_df[\"Wine Consumption at Latest Timepoint(L)\"]\n",
    "average_wine=merged_updated_timepoint_average_wine_df[\"Wine Consumption Average Over The Years(L)\"]\n",
    "    \n",
    "plt.subplot(2,1,1)\n",
    "plt.scatter(range(len(last_timepoint_wine)), last_timepoint_wine, label=\"Wine Consumption at Latest Timepoint(L)\")\n",
    "plt.scatter(range(len(average_wine)), average_wine, label=\"Wine Consumption Average Over The Years(L)\")\n",
    "plt.legend()\n",
    "\n",
    "# Histogram Plot of Data\n",
    "plt.subplot(2, 1, 2)\n",
    "plt.hist(last_timepoint_wine, 10, density=True, alpha=0.7, label=\"Wine Consumption at Latest Timepoint(L)\")\n",
    "plt.hist(average_wine, 10, density=True, alpha=0.7, label=\"Wine Consumption Average Over The Years(L)\")\n",
    "plt.axvline(last_timepoint_wine.mean(), color='k', linestyle='dashed', linewidth=1)\n",
    "plt.axvline(average_wine.mean(), color='k', linestyle='dashed', linewidth=1)\n",
    "plt.legend()  "
   ]
  },
  {
   "cell_type": "code",
   "execution_count": 289,
   "metadata": {},
   "outputs": [
    {
     "data": {
      "text/plain": [
       "Ttest_indResult(statistic=-0.6190622697626872, pvalue=0.5362811196901257)"
      ]
     },
     "execution_count": 289,
     "metadata": {},
     "output_type": "execute_result"
    }
   ],
   "source": [
    "stats.ttest_ind(last_timepoint_wine, average_wine, equal_var=False)"
   ]
  },
  {
   "cell_type": "code",
   "execution_count": 358,
   "metadata": {
    "scrolled": true
   },
   "outputs": [
    {
     "data": {
      "text/html": [
       "<div>\n",
       "<style scoped>\n",
       "    .dataframe tbody tr th:only-of-type {\n",
       "        vertical-align: middle;\n",
       "    }\n",
       "\n",
       "    .dataframe tbody tr th {\n",
       "        vertical-align: top;\n",
       "    }\n",
       "\n",
       "    .dataframe thead th {\n",
       "        text-align: right;\n",
       "    }\n",
       "</style>\n",
       "<table border=\"1\" class=\"dataframe\">\n",
       "  <thead>\n",
       "    <tr style=\"text-align: right;\">\n",
       "      <th></th>\n",
       "      <th>Continent</th>\n",
       "      <th>Country Code</th>\n",
       "      <th>Country</th>\n",
       "      <th>Alcohol Consumption Per Capita (Liters)</th>\n",
       "      <th>Climate</th>\n",
       "      <th>Main Industry</th>\n",
       "      <th>Region</th>\n",
       "      <th>Happiness Score</th>\n",
       "      <th>Life Expectancy</th>\n",
       "      <th>GDP per capita</th>\n",
       "      <th>Mental Health Disorders (%)</th>\n",
       "      <th>Latest Year for Wine Consumption Data</th>\n",
       "      <th>Wine Consumption at Latest Timepoint(L)</th>\n",
       "      <th>Wine Consumption Average Over The Years(L)</th>\n",
       "    </tr>\n",
       "  </thead>\n",
       "  <tbody>\n",
       "    <tr>\n",
       "      <th>0</th>\n",
       "      <td>Asia</td>\n",
       "      <td>AFG</td>\n",
       "      <td>Afghanistan</td>\n",
       "      <td>0.2</td>\n",
       "      <td>arid to semiarid; cold winters and hot summers</td>\n",
       "      <td>small-scale production of bricks</td>\n",
       "      <td>South Asia</td>\n",
       "      <td>2.5669</td>\n",
       "      <td>52.590000</td>\n",
       "      <td>7.462861</td>\n",
       "      <td>17.553463</td>\n",
       "      <td>2013</td>\n",
       "      <td>0.00</td>\n",
       "      <td>0.000377</td>\n",
       "    </tr>\n",
       "    <tr>\n",
       "      <th>1</th>\n",
       "      <td>Europe</td>\n",
       "      <td>ALB</td>\n",
       "      <td>Albania</td>\n",
       "      <td>7.5</td>\n",
       "      <td>mild temperate; cool, cloudy, wet winters; hot...</td>\n",
       "      <td>perfumes and cosmetic products</td>\n",
       "      <td>Central and Eastern Europe</td>\n",
       "      <td>4.8827</td>\n",
       "      <td>68.708138</td>\n",
       "      <td>9.417931</td>\n",
       "      <td>10.987610</td>\n",
       "      <td>2014</td>\n",
       "      <td>1.14</td>\n",
       "      <td>0.601698</td>\n",
       "    </tr>\n",
       "    <tr>\n",
       "      <th>2</th>\n",
       "      <td>Africa</td>\n",
       "      <td>DZA</td>\n",
       "      <td>Algeria</td>\n",
       "      <td>0.9</td>\n",
       "      <td>arid to semiarid; mild, wet winters with hot, ...</td>\n",
       "      <td>petroleum</td>\n",
       "      <td>Middle East and North Africa</td>\n",
       "      <td>5.0051</td>\n",
       "      <td>65.905174</td>\n",
       "      <td>9.537965</td>\n",
       "      <td>14.700388</td>\n",
       "      <td>2013</td>\n",
       "      <td>0.22</td>\n",
       "      <td>0.429245</td>\n",
       "    </tr>\n",
       "    <tr>\n",
       "      <th>3</th>\n",
       "      <td>Europe</td>\n",
       "      <td>AZE</td>\n",
       "      <td>Azerbaijan</td>\n",
       "      <td>0.8</td>\n",
       "      <td>dry, semiarid steppe</td>\n",
       "      <td>petroleum and natural gas</td>\n",
       "      <td>Commonwealth of Independent States</td>\n",
       "      <td>5.1648</td>\n",
       "      <td>65.508400</td>\n",
       "      <td>9.687727</td>\n",
       "      <td>10.495815</td>\n",
       "      <td>2013</td>\n",
       "      <td>0.23</td>\n",
       "      <td>0.459167</td>\n",
       "    </tr>\n",
       "    <tr>\n",
       "      <th>4</th>\n",
       "      <td>South America</td>\n",
       "      <td>ARG</td>\n",
       "      <td>Argentina</td>\n",
       "      <td>9.8</td>\n",
       "      <td>mostly temperate; arid in southeast; subantarc...</td>\n",
       "      <td>food processing</td>\n",
       "      <td>Latin America and Caribbean</td>\n",
       "      <td>5.9747</td>\n",
       "      <td>68.803802</td>\n",
       "      <td>9.810955</td>\n",
       "      <td>15.491235</td>\n",
       "      <td>2014</td>\n",
       "      <td>3.22</td>\n",
       "      <td>9.673333</td>\n",
       "    </tr>\n",
       "    <tr>\n",
       "      <th>...</th>\n",
       "      <td>...</td>\n",
       "      <td>...</td>\n",
       "      <td>...</td>\n",
       "      <td>...</td>\n",
       "      <td>...</td>\n",
       "      <td>...</td>\n",
       "      <td>...</td>\n",
       "      <td>...</td>\n",
       "      <td>...</td>\n",
       "      <td>...</td>\n",
       "      <td>...</td>\n",
       "      <td>...</td>\n",
       "      <td>...</td>\n",
       "      <td>...</td>\n",
       "    </tr>\n",
       "    <tr>\n",
       "      <th>136</th>\n",
       "      <td>South America</td>\n",
       "      <td>URY</td>\n",
       "      <td>Uruguay</td>\n",
       "      <td>10.8</td>\n",
       "      <td>warm temperate; freezing temperatures almost u...</td>\n",
       "      <td>food processing</td>\n",
       "      <td>Latin America and Caribbean</td>\n",
       "      <td>6.4401</td>\n",
       "      <td>69.002548</td>\n",
       "      <td>9.948193</td>\n",
       "      <td>15.357220</td>\n",
       "      <td>2014</td>\n",
       "      <td>3.13</td>\n",
       "      <td>4.128889</td>\n",
       "    </tr>\n",
       "    <tr>\n",
       "      <th>137</th>\n",
       "      <td>Asia</td>\n",
       "      <td>UZB</td>\n",
       "      <td>Uzbekistan</td>\n",
       "      <td>2.7</td>\n",
       "      <td>mostly mid-latitude desert, long, hot summers,...</td>\n",
       "      <td>textiles</td>\n",
       "      <td>Commonwealth of Independent States</td>\n",
       "      <td>6.2576</td>\n",
       "      <td>65.107574</td>\n",
       "      <td>8.740372</td>\n",
       "      <td>10.897074</td>\n",
       "      <td>2011</td>\n",
       "      <td>0.13</td>\n",
       "      <td>0.337500</td>\n",
       "    </tr>\n",
       "    <tr>\n",
       "      <th>138</th>\n",
       "      <td>South America</td>\n",
       "      <td>VEN</td>\n",
       "      <td>Venezuela</td>\n",
       "      <td>5.6</td>\n",
       "      <td>tropical; hot, humid; more moderate in highlands</td>\n",
       "      <td>petroleum</td>\n",
       "      <td>Latin America and Caribbean</td>\n",
       "      <td>5.0532</td>\n",
       "      <td>66.505341</td>\n",
       "      <td>8.977794</td>\n",
       "      <td>11.014506</td>\n",
       "      <td>2014</td>\n",
       "      <td>0.06</td>\n",
       "      <td>0.120370</td>\n",
       "    </tr>\n",
       "    <tr>\n",
       "      <th>139</th>\n",
       "      <td>Asia</td>\n",
       "      <td>YEM</td>\n",
       "      <td>Yemen</td>\n",
       "      <td>0.1</td>\n",
       "      <td>mostly desert; hot and humid along west coast;...</td>\n",
       "      <td>crude oil production and petroleum refining</td>\n",
       "      <td>Middle East and North Africa</td>\n",
       "      <td>3.5274</td>\n",
       "      <td>56.727283</td>\n",
       "      <td>7.759683</td>\n",
       "      <td>15.819471</td>\n",
       "      <td>2013</td>\n",
       "      <td>0.00</td>\n",
       "      <td>0.000000</td>\n",
       "    </tr>\n",
       "    <tr>\n",
       "      <th>140</th>\n",
       "      <td>Africa</td>\n",
       "      <td>ZMB</td>\n",
       "      <td>Zambia</td>\n",
       "      <td>4.8</td>\n",
       "      <td>tropical; modified by altitude; rainy season (...</td>\n",
       "      <td>copper mining and processing</td>\n",
       "      <td>Sub-Saharan Africa</td>\n",
       "      <td>3.7594</td>\n",
       "      <td>55.299377</td>\n",
       "      <td>8.224720</td>\n",
       "      <td>12.192107</td>\n",
       "      <td>2013</td>\n",
       "      <td>0.07</td>\n",
       "      <td>0.022075</td>\n",
       "    </tr>\n",
       "  </tbody>\n",
       "</table>\n",
       "<p>141 rows × 14 columns</p>\n",
       "</div>"
      ],
      "text/plain": [
       "         Continent Country Code      Country  \\\n",
       "0             Asia          AFG  Afghanistan   \n",
       "1           Europe          ALB      Albania   \n",
       "2           Africa          DZA      Algeria   \n",
       "3           Europe          AZE   Azerbaijan   \n",
       "4    South America          ARG    Argentina   \n",
       "..             ...          ...          ...   \n",
       "136  South America          URY      Uruguay   \n",
       "137           Asia          UZB   Uzbekistan   \n",
       "138  South America          VEN    Venezuela   \n",
       "139           Asia          YEM        Yemen   \n",
       "140         Africa          ZMB       Zambia   \n",
       "\n",
       "     Alcohol Consumption Per Capita (Liters)  \\\n",
       "0                                        0.2   \n",
       "1                                        7.5   \n",
       "2                                        0.9   \n",
       "3                                        0.8   \n",
       "4                                        9.8   \n",
       "..                                       ...   \n",
       "136                                     10.8   \n",
       "137                                      2.7   \n",
       "138                                      5.6   \n",
       "139                                      0.1   \n",
       "140                                      4.8   \n",
       "\n",
       "                                               Climate  \\\n",
       "0       arid to semiarid; cold winters and hot summers   \n",
       "1    mild temperate; cool, cloudy, wet winters; hot...   \n",
       "2    arid to semiarid; mild, wet winters with hot, ...   \n",
       "3                                 dry, semiarid steppe   \n",
       "4    mostly temperate; arid in southeast; subantarc...   \n",
       "..                                                 ...   \n",
       "136  warm temperate; freezing temperatures almost u...   \n",
       "137  mostly mid-latitude desert, long, hot summers,...   \n",
       "138   tropical; hot, humid; more moderate in highlands   \n",
       "139  mostly desert; hot and humid along west coast;...   \n",
       "140  tropical; modified by altitude; rainy season (...   \n",
       "\n",
       "                                   Main Industry  \\\n",
       "0               small-scale production of bricks   \n",
       "1                 perfumes and cosmetic products   \n",
       "2                                      petroleum   \n",
       "3                      petroleum and natural gas   \n",
       "4                                food processing   \n",
       "..                                           ...   \n",
       "136                              food processing   \n",
       "137                                     textiles   \n",
       "138                                    petroleum   \n",
       "139  crude oil production and petroleum refining   \n",
       "140                 copper mining and processing   \n",
       "\n",
       "                                 Region  Happiness Score  Life Expectancy  \\\n",
       "0                            South Asia           2.5669        52.590000   \n",
       "1            Central and Eastern Europe           4.8827        68.708138   \n",
       "2          Middle East and North Africa           5.0051        65.905174   \n",
       "3    Commonwealth of Independent States           5.1648        65.508400   \n",
       "4           Latin America and Caribbean           5.9747        68.803802   \n",
       "..                                  ...              ...              ...   \n",
       "136         Latin America and Caribbean           6.4401        69.002548   \n",
       "137  Commonwealth of Independent States           6.2576        65.107574   \n",
       "138         Latin America and Caribbean           5.0532        66.505341   \n",
       "139        Middle East and North Africa           3.5274        56.727283   \n",
       "140                  Sub-Saharan Africa           3.7594        55.299377   \n",
       "\n",
       "     GDP per capita  Mental Health Disorders (%)  \\\n",
       "0          7.462861                    17.553463   \n",
       "1          9.417931                    10.987610   \n",
       "2          9.537965                    14.700388   \n",
       "3          9.687727                    10.495815   \n",
       "4          9.810955                    15.491235   \n",
       "..              ...                          ...   \n",
       "136        9.948193                    15.357220   \n",
       "137        8.740372                    10.897074   \n",
       "138        8.977794                    11.014506   \n",
       "139        7.759683                    15.819471   \n",
       "140        8.224720                    12.192107   \n",
       "\n",
       "     Latest Year for Wine Consumption Data  \\\n",
       "0                                     2013   \n",
       "1                                     2014   \n",
       "2                                     2013   \n",
       "3                                     2013   \n",
       "4                                     2014   \n",
       "..                                     ...   \n",
       "136                                   2014   \n",
       "137                                   2011   \n",
       "138                                   2014   \n",
       "139                                   2013   \n",
       "140                                   2013   \n",
       "\n",
       "     Wine Consumption at Latest Timepoint(L)  \\\n",
       "0                                       0.00   \n",
       "1                                       1.14   \n",
       "2                                       0.22   \n",
       "3                                       0.23   \n",
       "4                                       3.22   \n",
       "..                                       ...   \n",
       "136                                     3.13   \n",
       "137                                     0.13   \n",
       "138                                     0.06   \n",
       "139                                     0.00   \n",
       "140                                     0.07   \n",
       "\n",
       "     Wine Consumption Average Over The Years(L)  \n",
       "0                                      0.000377  \n",
       "1                                      0.601698  \n",
       "2                                      0.429245  \n",
       "3                                      0.459167  \n",
       "4                                      9.673333  \n",
       "..                                          ...  \n",
       "136                                    4.128889  \n",
       "137                                    0.337500  \n",
       "138                                    0.120370  \n",
       "139                                    0.000000  \n",
       "140                                    0.022075  \n",
       "\n",
       "[141 rows x 14 columns]"
      ]
     },
     "execution_count": 358,
     "metadata": {},
     "output_type": "execute_result"
    }
   ],
   "source": [
    "merged_with_wine_nonull_df = gdp_and_life_expectancy_df.merge(merged_updated_timepoint_average_wine_df, left_on=\"Country\", right_on=\"Entity\", how=\"inner\")\n",
    "merged_with_wine_nonull_df=merged_with_wine_nonull_df.drop(['index', 'Code', 'Main Export', 'Entity'], axis=1)\n",
    "merged_with_wine_nonull_df"
   ]
  },
  {
   "cell_type": "code",
   "execution_count": 359,
   "metadata": {},
   "outputs": [
    {
     "data": {
      "text/plain": [
       "<matplotlib.axes._subplots.AxesSubplot at 0x7fc5341d1100>"
      ]
     },
     "execution_count": 359,
     "metadata": {},
     "output_type": "execute_result"
    },
    {
     "data": {
      "image/png": "[encoded data removed]",
      "text/plain": [
       "<Figure size 1440x720 with 1 Axes>"
      ]
     },
     "metadata": {
      "needs_background": "light"
     },
     "output_type": "display_data"
    }
   ],
   "source": [
    "merged_with_wine_nonull_df.boxplot(\"Wine Consumption at Latest Timepoint(L)\", by=\"Continent\", figsize=(20, 10), flierprops=dict(markerfacecolor='red', markersize=10))"
   ]
  },
  {
   "cell_type": "code",
   "execution_count": 362,
   "metadata": {},
   "outputs": [
    {
     "data": {
      "text/html": [
       "<div>\n",
       "<style scoped>\n",
       "    .dataframe tbody tr th:only-of-type {\n",
       "        vertical-align: middle;\n",
       "    }\n",
       "\n",
       "    .dataframe tbody tr th {\n",
       "        vertical-align: top;\n",
       "    }\n",
       "\n",
       "    .dataframe thead th {\n",
       "        text-align: right;\n",
       "    }\n",
       "</style>\n",
       "<table border=\"1\" class=\"dataframe\">\n",
       "  <thead>\n",
       "    <tr style=\"text-align: right;\">\n",
       "      <th></th>\n",
       "      <th>Continent</th>\n",
       "      <th>Country Code</th>\n",
       "      <th>Country</th>\n",
       "      <th>Alcohol Consumption Per Capita (Liters)</th>\n",
       "      <th>Climate</th>\n",
       "      <th>Main Industry</th>\n",
       "      <th>Region</th>\n",
       "      <th>Happiness Score</th>\n",
       "      <th>Life Expectancy</th>\n",
       "      <th>GDP per capita</th>\n",
       "      <th>Mental Health Disorders (%)</th>\n",
       "      <th>Latest Year for Wine Consumption Data</th>\n",
       "      <th>Wine Consumption at Latest Timepoint(L)</th>\n",
       "      <th>Wine Consumption Average Over The Years(L)</th>\n",
       "    </tr>\n",
       "  </thead>\n",
       "  <tbody>\n",
       "    <tr>\n",
       "      <th>1</th>\n",
       "      <td>Europe</td>\n",
       "      <td>ALB</td>\n",
       "      <td>Albania</td>\n",
       "      <td>7.5</td>\n",
       "      <td>mild temperate; cool, cloudy, wet winters; hot...</td>\n",
       "      <td>perfumes and cosmetic products</td>\n",
       "      <td>Central and Eastern Europe</td>\n",
       "      <td>4.8827</td>\n",
       "      <td>68.708138</td>\n",
       "      <td>9.417931</td>\n",
       "      <td>10.987610</td>\n",
       "      <td>2014</td>\n",
       "      <td>1.14</td>\n",
       "      <td>0.601698</td>\n",
       "    </tr>\n",
       "    <tr>\n",
       "      <th>3</th>\n",
       "      <td>Europe</td>\n",
       "      <td>AZE</td>\n",
       "      <td>Azerbaijan</td>\n",
       "      <td>0.8</td>\n",
       "      <td>dry, semiarid steppe</td>\n",
       "      <td>petroleum and natural gas</td>\n",
       "      <td>Commonwealth of Independent States</td>\n",
       "      <td>5.1648</td>\n",
       "      <td>65.508400</td>\n",
       "      <td>9.687727</td>\n",
       "      <td>10.495815</td>\n",
       "      <td>2013</td>\n",
       "      <td>0.23</td>\n",
       "      <td>0.459167</td>\n",
       "    </tr>\n",
       "    <tr>\n",
       "      <th>6</th>\n",
       "      <td>Europe</td>\n",
       "      <td>AUT</td>\n",
       "      <td>Austria</td>\n",
       "      <td>11.6</td>\n",
       "      <td>temperate; continental, cloudy; cold winters w...</td>\n",
       "      <td>construction</td>\n",
       "      <td>Western Europe</td>\n",
       "      <td>7.2942</td>\n",
       "      <td>73.002502</td>\n",
       "      <td>10.742824</td>\n",
       "      <td>14.648111</td>\n",
       "      <td>2014</td>\n",
       "      <td>4.37</td>\n",
       "      <td>4.496909</td>\n",
       "    </tr>\n",
       "    <tr>\n",
       "      <th>9</th>\n",
       "      <td>Europe</td>\n",
       "      <td>ARM</td>\n",
       "      <td>Armenia</td>\n",
       "      <td>5.5</td>\n",
       "      <td>highland continental, hot summers, cold winters</td>\n",
       "      <td>diamond-processing</td>\n",
       "      <td>Commonwealth of Independent States</td>\n",
       "      <td>4.6768</td>\n",
       "      <td>66.750656</td>\n",
       "      <td>9.100476</td>\n",
       "      <td>10.644284</td>\n",
       "      <td>2014</td>\n",
       "      <td>0.13</td>\n",
       "      <td>0.559600</td>\n",
       "    </tr>\n",
       "    <tr>\n",
       "      <th>10</th>\n",
       "      <td>Europe</td>\n",
       "      <td>BEL</td>\n",
       "      <td>Belgium</td>\n",
       "      <td>12.1</td>\n",
       "      <td>temperate; mild winters, cool summers; rainy, ...</td>\n",
       "      <td>engineering and metal products</td>\n",
       "      <td>Western Europe</td>\n",
       "      <td>6.8635</td>\n",
       "      <td>72.001648</td>\n",
       "      <td>10.673639</td>\n",
       "      <td>14.658975</td>\n",
       "      <td>2014</td>\n",
       "      <td>4.53</td>\n",
       "      <td>3.019231</td>\n",
       "    </tr>\n",
       "  </tbody>\n",
       "</table>\n",
       "</div>"
      ],
      "text/plain": [
       "   Continent Country Code     Country  \\\n",
       "1     Europe          ALB     Albania   \n",
       "3     Europe          AZE  Azerbaijan   \n",
       "6     Europe          AUT     Austria   \n",
       "9     Europe          ARM     Armenia   \n",
       "10    Europe          BEL     Belgium   \n",
       "\n",
       "    Alcohol Consumption Per Capita (Liters)  \\\n",
       "1                                       7.5   \n",
       "3                                       0.8   \n",
       "6                                      11.6   \n",
       "9                                       5.5   \n",
       "10                                     12.1   \n",
       "\n",
       "                                              Climate  \\\n",
       "1   mild temperate; cool, cloudy, wet winters; hot...   \n",
       "3                                dry, semiarid steppe   \n",
       "6   temperate; continental, cloudy; cold winters w...   \n",
       "9     highland continental, hot summers, cold winters   \n",
       "10  temperate; mild winters, cool summers; rainy, ...   \n",
       "\n",
       "                     Main Industry                              Region  \\\n",
       "1   perfumes and cosmetic products          Central and Eastern Europe   \n",
       "3        petroleum and natural gas  Commonwealth of Independent States   \n",
       "6                     construction                      Western Europe   \n",
       "9               diamond-processing  Commonwealth of Independent States   \n",
       "10  engineering and metal products                      Western Europe   \n",
       "\n",
       "    Happiness Score  Life Expectancy  GDP per capita  \\\n",
       "1            4.8827        68.708138        9.417931   \n",
       "3            5.1648        65.508400        9.687727   \n",
       "6            7.2942        73.002502       10.742824   \n",
       "9            4.6768        66.750656        9.100476   \n",
       "10           6.8635        72.001648       10.673639   \n",
       "\n",
       "    Mental Health Disorders (%)  Latest Year for Wine Consumption Data  \\\n",
       "1                     10.987610                                   2014   \n",
       "3                     10.495815                                   2013   \n",
       "6                     14.648111                                   2014   \n",
       "9                     10.644284                                   2014   \n",
       "10                    14.658975                                   2014   \n",
       "\n",
       "    Wine Consumption at Latest Timepoint(L)  \\\n",
       "1                                      1.14   \n",
       "3                                      0.23   \n",
       "6                                      4.37   \n",
       "9                                      0.13   \n",
       "10                                     4.53   \n",
       "\n",
       "    Wine Consumption Average Over The Years(L)  \n",
       "1                                     0.601698  \n",
       "3                                     0.459167  \n",
       "6                                     4.496909  \n",
       "9                                     0.559600  \n",
       "10                                    3.019231  "
      ]
     },
     "execution_count": 362,
     "metadata": {},
     "output_type": "execute_result"
    }
   ],
   "source": [
    "merged_with_wine_europe_df=merged_with_wine_nonull_df.loc[(merged_with_wine_nonull_df[\"Continent\"]==\"Europe\")]\n",
    "merged_with_wine_europe_df.head()"
   ]
  },
  {
   "cell_type": "code",
   "execution_count": 366,
   "metadata": {
    "scrolled": true
   },
   "outputs": [
    {
     "data": {
      "text/plain": [
       "<matplotlib.legend.Legend at 0x7fc5340d7400>"
      ]
     },
     "execution_count": 366,
     "metadata": {},
     "output_type": "execute_result"
    },
    {
     "data": {
      "image/png": "[encoded data removed]",
      "text/plain": [
       "<Figure size 432x288 with 2 Axes>"
      ]
     },
     "metadata": {
      "needs_background": "light"
     },
     "output_type": "display_data"
    }
   ],
   "source": [
    "# Scatter Plot of Data\n",
    "last_timepoint_wine_europe=merged_with_wine_europe_df[\"Wine Consumption at Latest Timepoint(L)\"]\n",
    "average_wine_europe=merged_with_wine_europe_df[\"Wine Consumption Average Over The Years(L)\"]\n",
    "    \n",
    "plt.subplot(2,1,1)\n",
    "plt.scatter(range(len(last_timepoint_wine_europe)), last_timepoint_wine_europe, label=\"Wine Consumption at Latest Timepoint, Europe(L)\")\n",
    "plt.scatter(range(len(average_wine_europe)), average_wine_europe, label=\"Wine Consumption Average Over The Years, Europe(L)\")\n",
    "plt.legend()\n",
    "\n",
    "# Histogram Plot of Data\n",
    "plt.subplot(2, 1, 2)\n",
    "plt.hist(last_timepoint_wine_europe, 10, density=True, alpha=0.7, label=\"Wine Consumption at Latest Timepoint, Europe(L)\")\n",
    "plt.hist(average_wine_europe, 10, density=True, alpha=0.7, label=\"Wine Consumption Average Over The Years, Europe(L)\")\n",
    "plt.axvline(last_timepoint_wine_europe.mean(), color='k', linestyle='dashed', linewidth=1)\n",
    "plt.axvline(average_wine_europe.mean(), color='k', linestyle='dashed', linewidth=1)\n",
    "plt.legend()  "
   ]
  },
  {
   "cell_type": "code",
   "execution_count": 367,
   "metadata": {},
   "outputs": [
    {
     "data": {
      "text/plain": [
       "Ttest_indResult(statistic=-0.5686282351313894, pvalue=0.5714190097573242)"
      ]
     },
     "execution_count": 367,
     "metadata": {},
     "output_type": "execute_result"
    }
   ],
   "source": [
    "stats.ttest_ind(last_timepoint_wine_europe, average_wine_europe, equal_var=False)"
   ]
  },
  {
   "cell_type": "code",
   "execution_count": 368,
   "metadata": {},
   "outputs": [
    {
     "data": {
      "text/html": [
       "<div>\n",
       "<style scoped>\n",
       "    .dataframe tbody tr th:only-of-type {\n",
       "        vertical-align: middle;\n",
       "    }\n",
       "\n",
       "    .dataframe tbody tr th {\n",
       "        vertical-align: top;\n",
       "    }\n",
       "\n",
       "    .dataframe thead th {\n",
       "        text-align: right;\n",
       "    }\n",
       "</style>\n",
       "<table border=\"1\" class=\"dataframe\">\n",
       "  <thead>\n",
       "    <tr style=\"text-align: right;\">\n",
       "      <th></th>\n",
       "      <th>Wine Consumption at Latest Timepoint(L)</th>\n",
       "    </tr>\n",
       "    <tr>\n",
       "      <th>Continent</th>\n",
       "      <th></th>\n",
       "    </tr>\n",
       "  </thead>\n",
       "  <tbody>\n",
       "    <tr>\n",
       "      <th>Africa</th>\n",
       "      <td>5.87</td>\n",
       "    </tr>\n",
       "    <tr>\n",
       "      <th>Asia</th>\n",
       "      <td>3.43</td>\n",
       "    </tr>\n",
       "    <tr>\n",
       "      <th>Europe</th>\n",
       "      <td>121.61</td>\n",
       "    </tr>\n",
       "    <tr>\n",
       "      <th>North America</th>\n",
       "      <td>5.19</td>\n",
       "    </tr>\n",
       "    <tr>\n",
       "      <th>Oceania</th>\n",
       "      <td>6.56</td>\n",
       "    </tr>\n",
       "    <tr>\n",
       "      <th>South America</th>\n",
       "      <td>10.44</td>\n",
       "    </tr>\n",
       "  </tbody>\n",
       "</table>\n",
       "</div>"
      ],
      "text/plain": [
       "               Wine Consumption at Latest Timepoint(L)\n",
       "Continent                                             \n",
       "Africa                                            5.87\n",
       "Asia                                              3.43\n",
       "Europe                                          121.61\n",
       "North America                                     5.19\n",
       "Oceania                                           6.56\n",
       "South America                                    10.44"
      ]
     },
     "execution_count": 368,
     "metadata": {},
     "output_type": "execute_result"
    }
   ],
   "source": [
    "wine_by_continent_sum=merged_with_wine_nonull_df.groupby(\"Continent\")[[\"Wine Consumption at Latest Timepoint(L)\"]].sum()\n",
    "wine_by_continent_sum"
   ]
  },
  {
   "cell_type": "code",
   "execution_count": 369,
   "metadata": {
    "scrolled": true
   },
   "outputs": [
    {
     "name": "stderr",
     "output_type": "stream",
     "text": [
      "<ipython-input-369-d635609c1daa>:1: MatplotlibDeprecationWarning: Non-1D inputs to pie() are currently squeeze()d, but this behavior is deprecated since 3.1 and will be removed in 3.3; pass a 1D array instead.\n",
      "  plt.pie(wine_by_continent_sum, labels=continents, autopct='%1.1f%%')\n"
     ]
    },
    {
     "data": {
      "text/plain": [
       "([<matplotlib.patches.Wedge at 0x7fc534627130>,\n",
       "  <matplotlib.patches.Wedge at 0x7fc5346275e0>,\n",
       "  <matplotlib.patches.Wedge at 0x7fc534627c10>,\n",
       "  <matplotlib.patches.Wedge at 0x7fc534633250>,\n",
       "  <matplotlib.patches.Wedge at 0x7fc534633850>,\n",
       "  <matplotlib.patches.Wedge at 0x7fc534633e50>],\n",
       " [Text(1.0920299127175113, 0.13217666106459458, 'Africa'),\n",
       "  Text(1.0471343653079055, 0.33691188906182873, 'Asia'),\n",
       "  Text(-1.0617453147233422, 0.28757066377332563, 'Europe'),\n",
       "  Text(0.7630770797608414, -0.7922836426076628, 'North America'),\n",
       "  Text(0.9301850866664672, -0.5871590112936164, 'Oceania'),\n",
       "  Text(1.0748549721104654, -0.23385206633555936, 'South America')],\n",
       " [Text(0.595652679664097, 0.07209636058068794, '3.8%'),\n",
       "  Text(0.5711641992588575, 0.183770121306452, '2.2%'),\n",
       "  Text(-0.5791338080309139, 0.15685672569454123, '79.4%'),\n",
       "  Text(0.4162238616877316, -0.4321547141496342, '3.4%'),\n",
       "  Text(0.5073736836362548, -0.3202685516146998, '4.3%'),\n",
       "  Text(0.5862845302420719, -0.12755567254666872, '6.8%')])"
      ]
     },
     "execution_count": 369,
     "metadata": {},
     "output_type": "execute_result"
    },
    {
     "data": {
      "image/png": "[encoded data removed]",
      "text/plain": [
       "<Figure size 432x288 with 1 Axes>"
      ]
     },
     "metadata": {},
     "output_type": "display_data"
    }
   ],
   "source": [
    "plt.pie(wine_by_continent_sum, labels=continents, autopct='%1.1f%%')"
   ]
  },
  {
   "cell_type": "code",
   "execution_count": 370,
   "metadata": {},
   "outputs": [
    {
     "name": "stderr",
     "output_type": "stream",
     "text": [
      "<ipython-input-370-7a8a252d9cbd>:2: MatplotlibDeprecationWarning: Non-1D inputs to pie() are currently squeeze()d, but this behavior is deprecated since 3.1 and will be removed in 3.3; pass a 1D array instead.\n",
      "  plt.pie(wine_by_continent_mean, labels=continents, autopct='%1.1f%%')\n"
     ]
    },
    {
     "data": {
      "text/plain": [
       "([<matplotlib.patches.Wedge at 0x7fc535fe1a60>,\n",
       "  <matplotlib.patches.Wedge at 0x7fc535fe1e50>,\n",
       "  <matplotlib.patches.Wedge at 0x7fc535fef4f0>,\n",
       "  <matplotlib.patches.Wedge at 0x7fc535fefaf0>,\n",
       "  <matplotlib.patches.Wedge at 0x7fc535f43130>,\n",
       "  <matplotlib.patches.Wedge at 0x7fc535f43730>],\n",
       " [Text(1.0979807997424704, 0.06661954215457436, 'Africa'),\n",
       "  Text(1.0856295380103098, 0.17722445147191626, 'Asia'),\n",
       "  Text(0.25043132202286916, 1.0711135107680596, 'Europe'),\n",
       "  Text(-0.9647847201467948, 0.5283847497527451, 'North America'),\n",
       "  Text(-0.6124517839881563, -0.9137301638283182, 'Oceania'),\n",
       "  Text(1.0042448325568147, -0.4488789550457176, 'South America')],\n",
       " [Text(0.5988986180413475, 0.03633793208431328, '1.9%'),\n",
       "  Text(0.5921615661874416, 0.09666788262104523, '1.3%'),\n",
       "  Text(0.13659890292156499, 0.5842437331462143, '36.2%'),\n",
       "  Text(-0.5262462109891608, 0.28820986350149724, '5.1%'),\n",
       "  Text(-0.3340646094480852, -0.49839827117908253, '42.0%'),\n",
       "  Text(0.5477699086673534, -0.24484306638857323, '13.4%')])"
      ]
     },
     "execution_count": 370,
     "metadata": {},
     "output_type": "execute_result"
    },
    {
     "data": {
      "image/png": "[encoded data removed]",
      "text/plain": [
       "<Figure size 432x288 with 1 Axes>"
      ]
     },
     "metadata": {},
     "output_type": "display_data"
    }
   ],
   "source": [
    "wine_by_continent_mean=merged_with_wine_nonull_df.groupby(\"Continent\")[[\"Wine Consumption at Latest Timepoint(L)\"]].mean()\n",
    "plt.pie(wine_by_continent_mean, labels=continents, autopct='%1.1f%%')"
   ]
  },
  {
   "cell_type": "code",
   "execution_count": 371,
   "metadata": {
    "scrolled": true
   },
   "outputs": [
    {
     "data": {
      "text/html": [
       "<div>\n",
       "<style scoped>\n",
       "    .dataframe tbody tr th:only-of-type {\n",
       "        vertical-align: middle;\n",
       "    }\n",
       "\n",
       "    .dataframe tbody tr th {\n",
       "        vertical-align: top;\n",
       "    }\n",
       "\n",
       "    .dataframe thead th {\n",
       "        text-align: right;\n",
       "    }\n",
       "</style>\n",
       "<table border=\"1\" class=\"dataframe\">\n",
       "  <thead>\n",
       "    <tr style=\"text-align: right;\">\n",
       "      <th></th>\n",
       "      <th>Entity</th>\n",
       "      <th>Code</th>\n",
       "      <th>Year</th>\n",
       "      <th>Wine Consumption per capita (Liters)</th>\n",
       "    </tr>\n",
       "  </thead>\n",
       "  <tbody>\n",
       "    <tr>\n",
       "      <th>0</th>\n",
       "      <td>Afghanistan</td>\n",
       "      <td>AFG</td>\n",
       "      <td>1961</td>\n",
       "      <td>0.0</td>\n",
       "    </tr>\n",
       "    <tr>\n",
       "      <th>1</th>\n",
       "      <td>Afghanistan</td>\n",
       "      <td>AFG</td>\n",
       "      <td>1962</td>\n",
       "      <td>0.0</td>\n",
       "    </tr>\n",
       "    <tr>\n",
       "      <th>2</th>\n",
       "      <td>Afghanistan</td>\n",
       "      <td>AFG</td>\n",
       "      <td>1963</td>\n",
       "      <td>0.0</td>\n",
       "    </tr>\n",
       "    <tr>\n",
       "      <th>3</th>\n",
       "      <td>Afghanistan</td>\n",
       "      <td>AFG</td>\n",
       "      <td>1964</td>\n",
       "      <td>0.0</td>\n",
       "    </tr>\n",
       "    <tr>\n",
       "      <th>4</th>\n",
       "      <td>Afghanistan</td>\n",
       "      <td>AFG</td>\n",
       "      <td>1965</td>\n",
       "      <td>0.0</td>\n",
       "    </tr>\n",
       "  </tbody>\n",
       "</table>\n",
       "</div>"
      ],
      "text/plain": [
       "        Entity Code  Year  Wine Consumption per capita (Liters)\n",
       "0  Afghanistan  AFG  1961                                   0.0\n",
       "1  Afghanistan  AFG  1962                                   0.0\n",
       "2  Afghanistan  AFG  1963                                   0.0\n",
       "3  Afghanistan  AFG  1964                                   0.0\n",
       "4  Afghanistan  AFG  1965                                   0.0"
      ]
     },
     "execution_count": 371,
     "metadata": {},
     "output_type": "execute_result"
    }
   ],
   "source": [
    "wine_consumption_df.head()"
   ]
  },
  {
   "cell_type": "code",
   "execution_count": 356,
   "metadata": {},
   "outputs": [
    {
     "data": {
      "text/html": [
       "<div>\n",
       "<style scoped>\n",
       "    .dataframe tbody tr th:only-of-type {\n",
       "        vertical-align: middle;\n",
       "    }\n",
       "\n",
       "    .dataframe tbody tr th {\n",
       "        vertical-align: top;\n",
       "    }\n",
       "\n",
       "    .dataframe thead th {\n",
       "        text-align: right;\n",
       "    }\n",
       "</style>\n",
       "<table border=\"1\" class=\"dataframe\">\n",
       "  <thead>\n",
       "    <tr style=\"text-align: right;\">\n",
       "      <th></th>\n",
       "      <th>Continent</th>\n",
       "      <th>Country Code</th>\n",
       "      <th>Country</th>\n",
       "      <th>Alcohol Consumption Per Capita (Liters)</th>\n",
       "      <th>Climate</th>\n",
       "      <th>Main Industry</th>\n",
       "      <th>Region</th>\n",
       "      <th>Happiness Score</th>\n",
       "      <th>Life Expectancy</th>\n",
       "      <th>GDP per capita</th>\n",
       "      <th>Mental Health Disorders (%)</th>\n",
       "      <th>Year</th>\n",
       "      <th>Wine Consumption per capita (Liters)</th>\n",
       "    </tr>\n",
       "  </thead>\n",
       "  <tbody>\n",
       "    <tr>\n",
       "      <th>0</th>\n",
       "      <td>Asia</td>\n",
       "      <td>AFG</td>\n",
       "      <td>Afghanistan</td>\n",
       "      <td>0.2</td>\n",
       "      <td>arid to semiarid; cold winters and hot summers</td>\n",
       "      <td>small-scale production of bricks</td>\n",
       "      <td>South Asia</td>\n",
       "      <td>2.5669</td>\n",
       "      <td>52.59</td>\n",
       "      <td>7.462861</td>\n",
       "      <td>17.553463</td>\n",
       "      <td>1961</td>\n",
       "      <td>0.0</td>\n",
       "    </tr>\n",
       "    <tr>\n",
       "      <th>1</th>\n",
       "      <td>Asia</td>\n",
       "      <td>AFG</td>\n",
       "      <td>Afghanistan</td>\n",
       "      <td>0.2</td>\n",
       "      <td>arid to semiarid; cold winters and hot summers</td>\n",
       "      <td>small-scale production of bricks</td>\n",
       "      <td>South Asia</td>\n",
       "      <td>2.5669</td>\n",
       "      <td>52.59</td>\n",
       "      <td>7.462861</td>\n",
       "      <td>17.553463</td>\n",
       "      <td>1962</td>\n",
       "      <td>0.0</td>\n",
       "    </tr>\n",
       "    <tr>\n",
       "      <th>2</th>\n",
       "      <td>Asia</td>\n",
       "      <td>AFG</td>\n",
       "      <td>Afghanistan</td>\n",
       "      <td>0.2</td>\n",
       "      <td>arid to semiarid; cold winters and hot summers</td>\n",
       "      <td>small-scale production of bricks</td>\n",
       "      <td>South Asia</td>\n",
       "      <td>2.5669</td>\n",
       "      <td>52.59</td>\n",
       "      <td>7.462861</td>\n",
       "      <td>17.553463</td>\n",
       "      <td>1963</td>\n",
       "      <td>0.0</td>\n",
       "    </tr>\n",
       "    <tr>\n",
       "      <th>3</th>\n",
       "      <td>Asia</td>\n",
       "      <td>AFG</td>\n",
       "      <td>Afghanistan</td>\n",
       "      <td>0.2</td>\n",
       "      <td>arid to semiarid; cold winters and hot summers</td>\n",
       "      <td>small-scale production of bricks</td>\n",
       "      <td>South Asia</td>\n",
       "      <td>2.5669</td>\n",
       "      <td>52.59</td>\n",
       "      <td>7.462861</td>\n",
       "      <td>17.553463</td>\n",
       "      <td>1964</td>\n",
       "      <td>0.0</td>\n",
       "    </tr>\n",
       "    <tr>\n",
       "      <th>4</th>\n",
       "      <td>Asia</td>\n",
       "      <td>AFG</td>\n",
       "      <td>Afghanistan</td>\n",
       "      <td>0.2</td>\n",
       "      <td>arid to semiarid; cold winters and hot summers</td>\n",
       "      <td>small-scale production of bricks</td>\n",
       "      <td>South Asia</td>\n",
       "      <td>2.5669</td>\n",
       "      <td>52.59</td>\n",
       "      <td>7.462861</td>\n",
       "      <td>17.553463</td>\n",
       "      <td>1965</td>\n",
       "      <td>0.0</td>\n",
       "    </tr>\n",
       "  </tbody>\n",
       "</table>\n",
       "</div>"
      ],
      "text/plain": [
       "  Continent Country Code      Country  \\\n",
       "0      Asia          AFG  Afghanistan   \n",
       "1      Asia          AFG  Afghanistan   \n",
       "2      Asia          AFG  Afghanistan   \n",
       "3      Asia          AFG  Afghanistan   \n",
       "4      Asia          AFG  Afghanistan   \n",
       "\n",
       "   Alcohol Consumption Per Capita (Liters)  \\\n",
       "0                                      0.2   \n",
       "1                                      0.2   \n",
       "2                                      0.2   \n",
       "3                                      0.2   \n",
       "4                                      0.2   \n",
       "\n",
       "                                          Climate  \\\n",
       "0  arid to semiarid; cold winters and hot summers   \n",
       "1  arid to semiarid; cold winters and hot summers   \n",
       "2  arid to semiarid; cold winters and hot summers   \n",
       "3  arid to semiarid; cold winters and hot summers   \n",
       "4  arid to semiarid; cold winters and hot summers   \n",
       "\n",
       "                      Main Industry      Region  Happiness Score  \\\n",
       "0  small-scale production of bricks  South Asia           2.5669   \n",
       "1  small-scale production of bricks  South Asia           2.5669   \n",
       "2  small-scale production of bricks  South Asia           2.5669   \n",
       "3  small-scale production of bricks  South Asia           2.5669   \n",
       "4  small-scale production of bricks  South Asia           2.5669   \n",
       "\n",
       "   Life Expectancy  GDP per capita  Mental Health Disorders (%)  Year  \\\n",
       "0            52.59        7.462861                    17.553463  1961   \n",
       "1            52.59        7.462861                    17.553463  1962   \n",
       "2            52.59        7.462861                    17.553463  1963   \n",
       "3            52.59        7.462861                    17.553463  1964   \n",
       "4            52.59        7.462861                    17.553463  1965   \n",
       "\n",
       "   Wine Consumption per capita (Liters)  \n",
       "0                                   0.0  \n",
       "1                                   0.0  \n",
       "2                                   0.0  \n",
       "3                                   0.0  \n",
       "4                                   0.0  "
      ]
     },
     "execution_count": 356,
     "metadata": {},
     "output_type": "execute_result"
    }
   ],
   "source": [
    "merged_with_wine_years_df = gdp_and_life_expectancy_df.merge(wine_consumption_df, left_on=\"Country\", right_on=\"Entity\", how=\"inner\")\n",
    "merged_with_wine_years_df=merged_with_wine_years_df.drop(['index', 'Code', 'Main Export', 'Entity'], axis=1)\n",
    "merged_with_wine_years_df.head()"
   ]
  },
  {
   "cell_type": "code",
   "execution_count": 319,
   "metadata": {
    "scrolled": true
   },
   "outputs": [
    {
     "data": {
      "text/html": [
       "<div>\n",
       "<style scoped>\n",
       "    .dataframe tbody tr th:only-of-type {\n",
       "        vertical-align: middle;\n",
       "    }\n",
       "\n",
       "    .dataframe tbody tr th {\n",
       "        vertical-align: top;\n",
       "    }\n",
       "\n",
       "    .dataframe thead th {\n",
       "        text-align: right;\n",
       "    }\n",
       "</style>\n",
       "<table border=\"1\" class=\"dataframe\">\n",
       "  <thead>\n",
       "    <tr style=\"text-align: right;\">\n",
       "      <th></th>\n",
       "      <th>Continent</th>\n",
       "      <th>Country Code</th>\n",
       "      <th>Country</th>\n",
       "      <th>Alcohol Consumption Per Capita (Liters)</th>\n",
       "      <th>Climate</th>\n",
       "      <th>Main Industry</th>\n",
       "      <th>Region</th>\n",
       "      <th>Happiness Score</th>\n",
       "      <th>Life Expectancy</th>\n",
       "      <th>GDP per capita</th>\n",
       "      <th>Mental Health Disorders (%)</th>\n",
       "      <th>Year</th>\n",
       "      <th>Wine Consumption per capita (Liters)</th>\n",
       "    </tr>\n",
       "  </thead>\n",
       "  <tbody>\n",
       "    <tr>\n",
       "      <th>53</th>\n",
       "      <td>Europe</td>\n",
       "      <td>ALB</td>\n",
       "      <td>Albania</td>\n",
       "      <td>7.5</td>\n",
       "      <td>mild temperate; cool, cloudy, wet winters; hot...</td>\n",
       "      <td>perfumes and cosmetic products</td>\n",
       "      <td>Central and Eastern Europe</td>\n",
       "      <td>4.8827</td>\n",
       "      <td>68.708138</td>\n",
       "      <td>9.417931</td>\n",
       "      <td>10.987610</td>\n",
       "      <td>1962</td>\n",
       "      <td>0.28</td>\n",
       "    </tr>\n",
       "    <tr>\n",
       "      <th>54</th>\n",
       "      <td>Europe</td>\n",
       "      <td>ALB</td>\n",
       "      <td>Albania</td>\n",
       "      <td>7.5</td>\n",
       "      <td>mild temperate; cool, cloudy, wet winters; hot...</td>\n",
       "      <td>perfumes and cosmetic products</td>\n",
       "      <td>Central and Eastern Europe</td>\n",
       "      <td>4.8827</td>\n",
       "      <td>68.708138</td>\n",
       "      <td>9.417931</td>\n",
       "      <td>10.987610</td>\n",
       "      <td>1963</td>\n",
       "      <td>0.19</td>\n",
       "    </tr>\n",
       "    <tr>\n",
       "      <th>55</th>\n",
       "      <td>Europe</td>\n",
       "      <td>ALB</td>\n",
       "      <td>Albania</td>\n",
       "      <td>7.5</td>\n",
       "      <td>mild temperate; cool, cloudy, wet winters; hot...</td>\n",
       "      <td>perfumes and cosmetic products</td>\n",
       "      <td>Central and Eastern Europe</td>\n",
       "      <td>4.8827</td>\n",
       "      <td>68.708138</td>\n",
       "      <td>9.417931</td>\n",
       "      <td>10.987610</td>\n",
       "      <td>1964</td>\n",
       "      <td>0.26</td>\n",
       "    </tr>\n",
       "    <tr>\n",
       "      <th>56</th>\n",
       "      <td>Europe</td>\n",
       "      <td>ALB</td>\n",
       "      <td>Albania</td>\n",
       "      <td>7.5</td>\n",
       "      <td>mild temperate; cool, cloudy, wet winters; hot...</td>\n",
       "      <td>perfumes and cosmetic products</td>\n",
       "      <td>Central and Eastern Europe</td>\n",
       "      <td>4.8827</td>\n",
       "      <td>68.708138</td>\n",
       "      <td>9.417931</td>\n",
       "      <td>10.987610</td>\n",
       "      <td>1965</td>\n",
       "      <td>0.21</td>\n",
       "    </tr>\n",
       "    <tr>\n",
       "      <th>57</th>\n",
       "      <td>Europe</td>\n",
       "      <td>ALB</td>\n",
       "      <td>Albania</td>\n",
       "      <td>7.5</td>\n",
       "      <td>mild temperate; cool, cloudy, wet winters; hot...</td>\n",
       "      <td>perfumes and cosmetic products</td>\n",
       "      <td>Central and Eastern Europe</td>\n",
       "      <td>4.8827</td>\n",
       "      <td>68.708138</td>\n",
       "      <td>9.417931</td>\n",
       "      <td>10.987610</td>\n",
       "      <td>1966</td>\n",
       "      <td>0.13</td>\n",
       "    </tr>\n",
       "    <tr>\n",
       "      <th>...</th>\n",
       "      <td>...</td>\n",
       "      <td>...</td>\n",
       "      <td>...</td>\n",
       "      <td>...</td>\n",
       "      <td>...</td>\n",
       "      <td>...</td>\n",
       "      <td>...</td>\n",
       "      <td>...</td>\n",
       "      <td>...</td>\n",
       "      <td>...</td>\n",
       "      <td>...</td>\n",
       "      <td>...</td>\n",
       "      <td>...</td>\n",
       "    </tr>\n",
       "    <tr>\n",
       "      <th>6425</th>\n",
       "      <td>Europe</td>\n",
       "      <td>GBR</td>\n",
       "      <td>United Kingdom</td>\n",
       "      <td>11.4</td>\n",
       "      <td>temperate; moderated by prevailing southwest w...</td>\n",
       "      <td>machine tools</td>\n",
       "      <td>Western Europe</td>\n",
       "      <td>7.1645</td>\n",
       "      <td>72.301605</td>\n",
       "      <td>10.600135</td>\n",
       "      <td>14.663859</td>\n",
       "      <td>2011</td>\n",
       "      <td>3.95</td>\n",
       "    </tr>\n",
       "    <tr>\n",
       "      <th>6426</th>\n",
       "      <td>Europe</td>\n",
       "      <td>GBR</td>\n",
       "      <td>United Kingdom</td>\n",
       "      <td>11.4</td>\n",
       "      <td>temperate; moderated by prevailing southwest w...</td>\n",
       "      <td>machine tools</td>\n",
       "      <td>Western Europe</td>\n",
       "      <td>7.1645</td>\n",
       "      <td>72.301605</td>\n",
       "      <td>10.600135</td>\n",
       "      <td>14.663859</td>\n",
       "      <td>2012</td>\n",
       "      <td>3.96</td>\n",
       "    </tr>\n",
       "    <tr>\n",
       "      <th>6427</th>\n",
       "      <td>Europe</td>\n",
       "      <td>GBR</td>\n",
       "      <td>United Kingdom</td>\n",
       "      <td>11.4</td>\n",
       "      <td>temperate; moderated by prevailing southwest w...</td>\n",
       "      <td>machine tools</td>\n",
       "      <td>Western Europe</td>\n",
       "      <td>7.1645</td>\n",
       "      <td>72.301605</td>\n",
       "      <td>10.600135</td>\n",
       "      <td>14.663859</td>\n",
       "      <td>2013</td>\n",
       "      <td>4.03</td>\n",
       "    </tr>\n",
       "    <tr>\n",
       "      <th>6428</th>\n",
       "      <td>Europe</td>\n",
       "      <td>GBR</td>\n",
       "      <td>United Kingdom</td>\n",
       "      <td>11.4</td>\n",
       "      <td>temperate; moderated by prevailing southwest w...</td>\n",
       "      <td>machine tools</td>\n",
       "      <td>Western Europe</td>\n",
       "      <td>7.1645</td>\n",
       "      <td>72.301605</td>\n",
       "      <td>10.600135</td>\n",
       "      <td>14.663859</td>\n",
       "      <td>2014</td>\n",
       "      <td>4.06</td>\n",
       "    </tr>\n",
       "    <tr>\n",
       "      <th>6429</th>\n",
       "      <td>Europe</td>\n",
       "      <td>GBR</td>\n",
       "      <td>United Kingdom</td>\n",
       "      <td>11.4</td>\n",
       "      <td>temperate; moderated by prevailing southwest w...</td>\n",
       "      <td>machine tools</td>\n",
       "      <td>Western Europe</td>\n",
       "      <td>7.1645</td>\n",
       "      <td>72.301605</td>\n",
       "      <td>10.600135</td>\n",
       "      <td>14.663859</td>\n",
       "      <td>2015</td>\n",
       "      <td>4.17</td>\n",
       "    </tr>\n",
       "  </tbody>\n",
       "</table>\n",
       "<p>1854 rows × 13 columns</p>\n",
       "</div>"
      ],
      "text/plain": [
       "     Continent Country Code         Country  \\\n",
       "53      Europe          ALB         Albania   \n",
       "54      Europe          ALB         Albania   \n",
       "55      Europe          ALB         Albania   \n",
       "56      Europe          ALB         Albania   \n",
       "57      Europe          ALB         Albania   \n",
       "...        ...          ...             ...   \n",
       "6425    Europe          GBR  United Kingdom   \n",
       "6426    Europe          GBR  United Kingdom   \n",
       "6427    Europe          GBR  United Kingdom   \n",
       "6428    Europe          GBR  United Kingdom   \n",
       "6429    Europe          GBR  United Kingdom   \n",
       "\n",
       "      Alcohol Consumption Per Capita (Liters)  \\\n",
       "53                                        7.5   \n",
       "54                                        7.5   \n",
       "55                                        7.5   \n",
       "56                                        7.5   \n",
       "57                                        7.5   \n",
       "...                                       ...   \n",
       "6425                                     11.4   \n",
       "6426                                     11.4   \n",
       "6427                                     11.4   \n",
       "6428                                     11.4   \n",
       "6429                                     11.4   \n",
       "\n",
       "                                                Climate  \\\n",
       "53    mild temperate; cool, cloudy, wet winters; hot...   \n",
       "54    mild temperate; cool, cloudy, wet winters; hot...   \n",
       "55    mild temperate; cool, cloudy, wet winters; hot...   \n",
       "56    mild temperate; cool, cloudy, wet winters; hot...   \n",
       "57    mild temperate; cool, cloudy, wet winters; hot...   \n",
       "...                                                 ...   \n",
       "6425  temperate; moderated by prevailing southwest w...   \n",
       "6426  temperate; moderated by prevailing southwest w...   \n",
       "6427  temperate; moderated by prevailing southwest w...   \n",
       "6428  temperate; moderated by prevailing southwest w...   \n",
       "6429  temperate; moderated by prevailing southwest w...   \n",
       "\n",
       "                       Main Industry                      Region  \\\n",
       "53    perfumes and cosmetic products  Central and Eastern Europe   \n",
       "54    perfumes and cosmetic products  Central and Eastern Europe   \n",
       "55    perfumes and cosmetic products  Central and Eastern Europe   \n",
       "56    perfumes and cosmetic products  Central and Eastern Europe   \n",
       "57    perfumes and cosmetic products  Central and Eastern Europe   \n",
       "...                              ...                         ...   \n",
       "6425                   machine tools              Western Europe   \n",
       "6426                   machine tools              Western Europe   \n",
       "6427                   machine tools              Western Europe   \n",
       "6428                   machine tools              Western Europe   \n",
       "6429                   machine tools              Western Europe   \n",
       "\n",
       "      Happiness Score  Life Expectancy  GDP per capita  \\\n",
       "53             4.8827        68.708138        9.417931   \n",
       "54             4.8827        68.708138        9.417931   \n",
       "55             4.8827        68.708138        9.417931   \n",
       "56             4.8827        68.708138        9.417931   \n",
       "57             4.8827        68.708138        9.417931   \n",
       "...               ...              ...             ...   \n",
       "6425           7.1645        72.301605       10.600135   \n",
       "6426           7.1645        72.301605       10.600135   \n",
       "6427           7.1645        72.301605       10.600135   \n",
       "6428           7.1645        72.301605       10.600135   \n",
       "6429           7.1645        72.301605       10.600135   \n",
       "\n",
       "      Mental Health Disorders (%)  Year  Wine Consumption per capita (Liters)  \n",
       "53                      10.987610  1962                                  0.28  \n",
       "54                      10.987610  1963                                  0.19  \n",
       "55                      10.987610  1964                                  0.26  \n",
       "56                      10.987610  1965                                  0.21  \n",
       "57                      10.987610  1966                                  0.13  \n",
       "...                           ...   ...                                   ...  \n",
       "6425                    14.663859  2011                                  3.95  \n",
       "6426                    14.663859  2012                                  3.96  \n",
       "6427                    14.663859  2013                                  4.03  \n",
       "6428                    14.663859  2014                                  4.06  \n",
       "6429                    14.663859  2015                                  4.17  \n",
       "\n",
       "[1854 rows x 13 columns]"
      ]
     },
     "execution_count": 319,
     "metadata": {},
     "output_type": "execute_result"
    }
   ],
   "source": [
    "wine_and_years_data_europe = merged_with_wine_years_df.loc[(merged_with_wine_years_df[\"Continent\"]==\"Europe\")]\n",
    "wine_and_years_data_europe"
   ]
  },
  {
   "cell_type": "code",
   "execution_count": 321,
   "metadata": {},
   "outputs": [
    {
     "data": {
      "text/html": [
       "<div>\n",
       "<style scoped>\n",
       "    .dataframe tbody tr th:only-of-type {\n",
       "        vertical-align: middle;\n",
       "    }\n",
       "\n",
       "    .dataframe tbody tr th {\n",
       "        vertical-align: top;\n",
       "    }\n",
       "\n",
       "    .dataframe thead th {\n",
       "        text-align: right;\n",
       "    }\n",
       "</style>\n",
       "<table border=\"1\" class=\"dataframe\">\n",
       "  <thead>\n",
       "    <tr style=\"text-align: right;\">\n",
       "      <th></th>\n",
       "      <th>Alcohol Consumption Per Capita (Liters)</th>\n",
       "      <th>Happiness Score</th>\n",
       "      <th>Life Expectancy</th>\n",
       "      <th>GDP per capita</th>\n",
       "      <th>Mental Health Disorders (%)</th>\n",
       "      <th>Year</th>\n",
       "      <th>Wine Consumption per capita (Liters)</th>\n",
       "    </tr>\n",
       "  </thead>\n",
       "  <tbody>\n",
       "    <tr>\n",
       "      <th>count</th>\n",
       "      <td>1854.000000</td>\n",
       "      <td>1854.000000</td>\n",
       "      <td>1854.000000</td>\n",
       "      <td>1854.000000</td>\n",
       "      <td>1854.000000</td>\n",
       "      <td>1854.000000</td>\n",
       "      <td>1854.000000</td>\n",
       "    </tr>\n",
       "    <tr>\n",
       "      <th>mean</th>\n",
       "      <td>10.356149</td>\n",
       "      <td>6.388887</td>\n",
       "      <td>70.440246</td>\n",
       "      <td>10.364156</td>\n",
       "      <td>13.741740</td>\n",
       "      <td>1990.258900</td>\n",
       "      <td>3.345162</td>\n",
       "    </tr>\n",
       "    <tr>\n",
       "      <th>std</th>\n",
       "      <td>2.719870</td>\n",
       "      <td>0.895974</td>\n",
       "      <td>3.067892</td>\n",
       "      <td>0.539725</td>\n",
       "      <td>1.953312</td>\n",
       "      <td>15.240821</td>\n",
       "      <td>3.381300</td>\n",
       "    </tr>\n",
       "    <tr>\n",
       "      <th>min</th>\n",
       "      <td>0.800000</td>\n",
       "      <td>4.560700</td>\n",
       "      <td>64.100456</td>\n",
       "      <td>8.776714</td>\n",
       "      <td>10.495815</td>\n",
       "      <td>1960.000000</td>\n",
       "      <td>0.000000</td>\n",
       "    </tr>\n",
       "    <tr>\n",
       "      <th>25%</th>\n",
       "      <td>8.750000</td>\n",
       "      <td>5.674100</td>\n",
       "      <td>67.609970</td>\n",
       "      <td>10.128872</td>\n",
       "      <td>11.747320</td>\n",
       "      <td>1978.000000</td>\n",
       "      <td>0.940000</td>\n",
       "    </tr>\n",
       "    <tr>\n",
       "      <th>50%</th>\n",
       "      <td>11.200000</td>\n",
       "      <td>6.363400</td>\n",
       "      <td>72.199997</td>\n",
       "      <td>10.405703</td>\n",
       "      <td>14.536026</td>\n",
       "      <td>1992.000000</td>\n",
       "      <td>2.400000</td>\n",
       "    </tr>\n",
       "    <tr>\n",
       "      <th>75%</th>\n",
       "      <td>12.300000</td>\n",
       "      <td>7.237500</td>\n",
       "      <td>72.600769</td>\n",
       "      <td>10.742824</td>\n",
       "      <td>15.327498</td>\n",
       "      <td>2003.000000</td>\n",
       "      <td>4.500000</td>\n",
       "    </tr>\n",
       "    <tr>\n",
       "      <th>max</th>\n",
       "      <td>15.200000</td>\n",
       "      <td>7.808700</td>\n",
       "      <td>74.402710</td>\n",
       "      <td>11.450681</td>\n",
       "      <td>16.640201</td>\n",
       "      <td>2015.000000</td>\n",
       "      <td>20.560000</td>\n",
       "    </tr>\n",
       "  </tbody>\n",
       "</table>\n",
       "</div>"
      ],
      "text/plain": [
       "       Alcohol Consumption Per Capita (Liters)  Happiness Score  \\\n",
       "count                              1854.000000      1854.000000   \n",
       "mean                                 10.356149         6.388887   \n",
       "std                                   2.719870         0.895974   \n",
       "min                                   0.800000         4.560700   \n",
       "25%                                   8.750000         5.674100   \n",
       "50%                                  11.200000         6.363400   \n",
       "75%                                  12.300000         7.237500   \n",
       "max                                  15.200000         7.808700   \n",
       "\n",
       "       Life Expectancy  GDP per capita  Mental Health Disorders (%)  \\\n",
       "count      1854.000000     1854.000000                  1854.000000   \n",
       "mean         70.440246       10.364156                    13.741740   \n",
       "std           3.067892        0.539725                     1.953312   \n",
       "min          64.100456        8.776714                    10.495815   \n",
       "25%          67.609970       10.128872                    11.747320   \n",
       "50%          72.199997       10.405703                    14.536026   \n",
       "75%          72.600769       10.742824                    15.327498   \n",
       "max          74.402710       11.450681                    16.640201   \n",
       "\n",
       "              Year  Wine Consumption per capita (Liters)  \n",
       "count  1854.000000                           1854.000000  \n",
       "mean   1990.258900                              3.345162  \n",
       "std      15.240821                              3.381300  \n",
       "min    1960.000000                              0.000000  \n",
       "25%    1978.000000                              0.940000  \n",
       "50%    1992.000000                              2.400000  \n",
       "75%    2003.000000                              4.500000  \n",
       "max    2015.000000                             20.560000  "
      ]
     },
     "execution_count": 321,
     "metadata": {},
     "output_type": "execute_result"
    }
   ],
   "source": [
    "wine_and_years_data_europe.describe()"
   ]
  },
  {
   "cell_type": "markdown",
   "metadata": {},
   "source": [
    "## Europe Wine Consumption Over The Years"
   ]
  },
  {
   "cell_type": "code",
   "execution_count": 320,
   "metadata": {},
   "outputs": [
    {
     "data": {
      "image/png": "[encoded data removed]",
      "text/plain": [
       "<Figure size 432x288 with 1 Axes>"
      ]
     },
     "metadata": {
      "needs_background": "light"
     },
     "output_type": "display_data"
    }
   ],
   "source": [
    "plt.scatter(wine_and_years_data_europe[\"Year\"], wine_and_years_data_europe[\"Wine Consumption per capita (Liters)\"])\n",
    "plt.title=\"Wine Consumption Over The Years in Europe\"\n",
    "plt.show()"
   ]
  },
  {
   "cell_type": "markdown",
   "metadata": {},
   "source": [
    "## World Wine Consumption Over The Years"
   ]
  },
  {
   "cell_type": "code",
   "execution_count": 312,
   "metadata": {
    "scrolled": true
   },
   "outputs": [
    {
     "data": {
      "image/png": "[encoded data removed]",
      "text/plain": [
       "<Figure size 432x288 with 1 Axes>"
      ]
     },
     "metadata": {
      "needs_background": "light"
     },
     "output_type": "display_data"
    }
   ],
   "source": [
    "plt.plot(wine_consumption_df[\"Year\"], wine_consumption_df[\"Wine Consumption per capita (Liters)\"])\n",
    "plt.title=\"Wine Consumption Over The Years\"\n",
    "plt.show()"
   ]
  },
  {
   "cell_type": "code",
   "execution_count": 363,
   "metadata": {},
   "outputs": [],
   "source": [
    "def plot_wine_linear_regression(x_values, y_values, title, text_coordinates):\n",
    "    (slope, intercept, rvalue, pvalue, stderr) = linregress(x_values, y_values)\n",
    "    regress_values = x_values * slope + intercept\n",
    "    line_eq = \"y = \" + str(round(slope,2)) + \"x + \" + str(round(intercept,2))\n",
    "    plt.scatter(x_values, y_values, edgecolors='k')\n",
    "    plt.plot(x_values,regress_values, \"r-\")\n",
    "    plt.xlabel('Wine Consumption Per Capita (Liters)')\n",
    "    plt.ylabel(title)\n",
    "    plt.annotate(line_eq,text_coordinates,fontsize=15,color=\"red\")\n",
    "    print(f\"The r-value is: {rvalue**2}\")\n",
    "    plt.show()"
   ]
  },
  {
   "cell_type": "code",
   "execution_count": 364,
   "metadata": {},
   "outputs": [
    {
     "name": "stdout",
     "output_type": "stream",
     "text": [
      "The r-value is: 0.12392540422792007\n"
     ]
    },
    {
     "data": {
      "image/png": "[encoded data removed]",
      "text/plain": [
       "<Figure size 432x288 with 1 Axes>"
      ]
     },
     "metadata": {
      "needs_background": "light"
     },
     "output_type": "display_data"
    }
   ],
   "source": [
    "x_values=merged_with_wine_europe_df['Wine Consumption at Latest Timepoint(L)']\n",
    "y_values=merged_with_wine_europe_df['GDP per capita']\n",
    "plot_wine_linear_regression(x_values,y_values,'GDP per capita',(2,10))"
   ]
  },
  {
   "cell_type": "code",
   "execution_count": 381,
   "metadata": {
    "scrolled": true
   },
   "outputs": [
    {
     "name": "stdout",
     "output_type": "stream",
     "text": [
      "The r-value is: 0.31563005361696045\n"
     ]
    },
    {
     "data": {
      "image/png": "[encoded data removed]",
      "text/plain": [
       "<Figure size 432x288 with 1 Axes>"
      ]
     },
     "metadata": {
      "needs_background": "light"
     },
     "output_type": "display_data"
    }
   ],
   "source": [
    "x_values=merged_with_wine_europe_df['Wine Consumption at Latest Timepoint(L)']\n",
    "y_values=merged_with_wine_europe_df['Life Expectancy']\n",
    "plot_wine_linear_regression(x_values,y_values,'Life Expectancy',(2,68))"
   ]
  },
  {
   "cell_type": "code",
   "execution_count": 352,
   "metadata": {
    "scrolled": true
   },
   "outputs": [
    {
     "name": "stdout",
     "output_type": "stream",
     "text": [
      "The r-value is: 0.27600880504650505\n"
     ]
    },
    {
     "data": {
      "image/png": "[encoded data removed]",
      "text/plain": [
       "<Figure size 432x288 with 1 Axes>"
      ]
     },
     "metadata": {
      "needs_background": "light"
     },
     "output_type": "display_data"
    }
   ],
   "source": [
    "x_values=merged_with_wine_europe_df['Wine Consumption at Latest Timepoint(L)']\n",
    "y_values=merged_with_wine_europe_df['Happiness Score']\n",
    "plot_wine_linear_regression(x_values,y_values,'Happiness Score',(2,5))"
   ]
  },
  {
   "cell_type": "code",
   "execution_count": 354,
   "metadata": {
    "scrolled": true
   },
   "outputs": [
    {
     "name": "stdout",
     "output_type": "stream",
     "text": [
      "The r-value is: 0.10099913915868275\n"
     ]
    },
    {
     "data": {
      "image/png": "[encoded data removed]",
      "text/plain": [
       "<Figure size 432x288 with 1 Axes>"
      ]
     },
     "metadata": {
      "needs_background": "light"
     },
     "output_type": "display_data"
    }
   ],
   "source": [
    "x_values=merged_with_wine_europe_df['Wine Consumption at Latest Timepoint(L)']\n",
    "y_values=merged_with_wine_europe_df['Mental Health Disorders (%)']\n",
    "plot_wine_linear_regression(x_values,y_values,'Mental Health Disorders (%)',(2,16))"
   ]
  },
  {
   "cell_type": "code",
   "execution_count": 382,
   "metadata": {},
   "outputs": [],
   "source": [
    "def plot_social_linear_regression(x_values, y_values, title, text_coordinates):\n",
    "    (slope, intercept, rvalue, pvalue, stderr) = linregress(x_values, y_values)\n",
    "    regress_values = x_values * slope + intercept\n",
    "    line_eq = \"y = \" + str(round(slope,2)) + \"x + \" + str(round(intercept,2))\n",
    "    plt.scatter(x_values, y_values, edgecolors='k')\n",
    "    plt.plot(x_values,regress_values, \"r-\")\n",
    "    plt.xlabel(title)\n",
    "    plt.ylabel('Wine Consumption Per Capita (Liters)')\n",
    "    plt.annotate(line_eq,text_coordinates,fontsize=15,color=\"red\")\n",
    "    print(f\"The r-value is: {rvalue**2}\")\n",
    "    plt.show()"
   ]
  },
  {
   "cell_type": "code",
   "execution_count": 388,
   "metadata": {},
   "outputs": [
    {
     "name": "stdout",
     "output_type": "stream",
     "text": [
      "The r-value is: 0.12392540422792007\n"
     ]
    },
    {
     "data": {
      "image/png": "[encoded data removed]",
      "text/plain": [
       "<Figure size 432x288 with 1 Axes>"
      ]
     },
     "metadata": {
      "needs_background": "light"
     },
     "output_type": "display_data"
    }
   ],
   "source": [
    "x_values=merged_with_wine_europe_df['GDP per capita']\n",
    "y_values=merged_with_wine_europe_df['Wine Consumption at Latest Timepoint(L)']\n",
    "plot_social_linear_regression(x_values,y_values,'GDP per capita',(9,4))"
   ]
  },
  {
   "cell_type": "code",
   "execution_count": 390,
   "metadata": {},
   "outputs": [
    {
     "name": "stdout",
     "output_type": "stream",
     "text": [
      "The r-value is: 0.31563005361696045\n"
     ]
    },
    {
     "data": {
      "image/png": "[encoded data removed]",
      "text/plain": [
       "<Figure size 432x288 with 1 Axes>"
      ]
     },
     "metadata": {
      "needs_background": "light"
     },
     "output_type": "display_data"
    }
   ],
   "source": [
    "x_values=merged_with_wine_europe_df['Life Expectancy']\n",
    "y_values=merged_with_wine_europe_df['Wine Consumption at Latest Timepoint(L)']\n",
    "plot_social_linear_regression(x_values,y_values,'Life Expectancy',(68,4))"
   ]
  },
  {
   "cell_type": "code",
   "execution_count": 392,
   "metadata": {
    "scrolled": true
   },
   "outputs": [
    {
     "name": "stdout",
     "output_type": "stream",
     "text": [
      "The r-value is: 0.14178448062606994\n"
     ]
    },
    {
     "data": {
      "image/png": "[encoded data removed]",
      "text/plain": [
       "<Figure size 432x288 with 1 Axes>"
      ]
     },
     "metadata": {
      "needs_background": "light"
     },
     "output_type": "display_data"
    }
   ],
   "source": [
    "x_values=merged_with_wine_europe_df['Happiness Score']\n",
    "y_values=merged_with_wine_europe_df['Wine Consumption at Latest Timepoint(L)']\n",
    "plot_social_linear_regression(x_values,y_values,'Happiness Score',(6,4))"
   ]
  },
  {
   "cell_type": "code",
   "execution_count": 394,
   "metadata": {},
   "outputs": [
    {
     "name": "stdout",
     "output_type": "stream",
     "text": [
      "The r-value is: 0.1744547100342905\n"
     ]
    },
    {
     "data": {
      "image/png": "[encoded data removed]",
      "text/plain": [
       "<Figure size 432x288 with 1 Axes>"
      ]
     },
     "metadata": {
      "needs_background": "light"
     },
     "output_type": "display_data"
    }
   ],
   "source": [
    "x_values=merged_with_wine_europe_df['Mental Health Disorders (%)']\n",
    "y_values=merged_with_wine_europe_df['Wine Consumption at Latest Timepoint(L)']\n",
    "plot_social_linear_regression(x_values,y_values,'Happiness Score',(12,4))"
   ]
  },
  {
   "cell_type": "code",
   "execution_count": 377,
   "metadata": {
    "scrolled": true
   },
   "outputs": [
    {
     "data": {
      "text/html": [
       "<div>\n",
       "<style scoped>\n",
       "    .dataframe tbody tr th:only-of-type {\n",
       "        vertical-align: middle;\n",
       "    }\n",
       "\n",
       "    .dataframe tbody tr th {\n",
       "        vertical-align: top;\n",
       "    }\n",
       "\n",
       "    .dataframe thead th {\n",
       "        text-align: right;\n",
       "    }\n",
       "</style>\n",
       "<table border=\"1\" class=\"dataframe\">\n",
       "  <thead>\n",
       "    <tr style=\"text-align: right;\">\n",
       "      <th></th>\n",
       "      <th>Alcohol Consumption Per Capita (Liters)</th>\n",
       "    </tr>\n",
       "    <tr>\n",
       "      <th>Continent</th>\n",
       "      <th></th>\n",
       "    </tr>\n",
       "  </thead>\n",
       "  <tbody>\n",
       "    <tr>\n",
       "      <th>Africa</th>\n",
       "      <td>252.7</td>\n",
       "    </tr>\n",
       "    <tr>\n",
       "      <th>Asia</th>\n",
       "      <td>137.6</td>\n",
       "    </tr>\n",
       "    <tr>\n",
       "      <th>Europe</th>\n",
       "      <td>473.4</td>\n",
       "    </tr>\n",
       "    <tr>\n",
       "      <th>North America</th>\n",
       "      <td>157.3</td>\n",
       "    </tr>\n",
       "    <tr>\n",
       "      <th>Oceania</th>\n",
       "      <td>42.5</td>\n",
       "    </tr>\n",
       "    <tr>\n",
       "      <th>South America</th>\n",
       "      <td>83.2</td>\n",
       "    </tr>\n",
       "  </tbody>\n",
       "</table>\n",
       "</div>"
      ],
      "text/plain": [
       "               Alcohol Consumption Per Capita (Liters)\n",
       "Continent                                             \n",
       "Africa                                           252.7\n",
       "Asia                                             137.6\n",
       "Europe                                           473.4\n",
       "North America                                    157.3\n",
       "Oceania                                           42.5\n",
       "South America                                     83.2"
      ]
     },
     "execution_count": 377,
     "metadata": {},
     "output_type": "execute_result"
    }
   ],
   "source": [
    "alcohol_by_continent_sum"
   ]
  },
  {
   "cell_type": "code",
   "execution_count": 1,
   "metadata": {},
   "outputs": [
    {
     "ename": "NameError",
     "evalue": "name 'alcohol_by_continents_sum' is not defined",
     "output_type": "error",
     "traceback": [
      "\u001b[0;31m---------------------------------------------------------------------------\u001b[0m",
      "\u001b[0;31mNameError\u001b[0m                                 Traceback (most recent call last)",
      "\u001b[0;32m<ipython-input-1-f7e6dd107b7b>\u001b[0m in \u001b[0;36m<module>\u001b[0;34m\u001b[0m\n\u001b[0;32m----> 1\u001b[0;31m \u001b[0mcontinents\u001b[0m \u001b[0;34m=\u001b[0m \u001b[0malcohol_by_continents_sum\u001b[0m\u001b[0;34m[\u001b[0m\u001b[0;34m'Continent'\u001b[0m\u001b[0;34m]\u001b[0m\u001b[0;34m\u001b[0m\u001b[0;34m\u001b[0m\u001b[0m\n\u001b[0m",
      "\u001b[0;31mNameError\u001b[0m: name 'alcohol_by_continents_sum' is not defined"
     ]
    }
   ],
   "source": [
    "continents = alcohol_by_continents_sum['Continent']"
   ]
  },
  {
   "cell_type": "code",
   "execution_count": null,
   "metadata": {},
   "outputs": [],
   "source": [
    "plt.bar(continents, [100 for i,_ in enumerate(continents)], edgecolor='black', fill=False)\n",
    "plt.bar(continents, wine_percent_of_all_alc, edgecolor='black', color='brown')\n",
    "\n",
    "plt.title('Wine consumed as a % of total alcohol consumed by Continent', fontsize=13)\n",
    "plt.xlabel('Continents')\n",
    "plt.xticks(rotation=45)\n",
    "plt.ylabel('Wine Conumsed (%)');"
   ]
  },
  {
   "cell_type": "code",
   "execution_count": 395,
   "metadata": {},
   "outputs": [
    {
     "data": {
      "text/html": [
       "<div>\n",
       "<style scoped>\n",
       "    .dataframe tbody tr th:only-of-type {\n",
       "        vertical-align: middle;\n",
       "    }\n",
       "\n",
       "    .dataframe tbody tr th {\n",
       "        vertical-align: top;\n",
       "    }\n",
       "\n",
       "    .dataframe thead th {\n",
       "        text-align: right;\n",
       "    }\n",
       "</style>\n",
       "<table border=\"1\" class=\"dataframe\">\n",
       "  <thead>\n",
       "    <tr style=\"text-align: right;\">\n",
       "      <th></th>\n",
       "      <th>Continent</th>\n",
       "      <th>Country Code</th>\n",
       "      <th>Country</th>\n",
       "      <th>Alcohol Consumption Per Capita (Liters)</th>\n",
       "      <th>Climate</th>\n",
       "      <th>Main Industry</th>\n",
       "      <th>Region</th>\n",
       "      <th>Happiness Score</th>\n",
       "      <th>Life Expectancy</th>\n",
       "      <th>GDP per capita</th>\n",
       "      <th>Mental Health Disorders (%)</th>\n",
       "      <th>Latest Year for Wine Consumption Data</th>\n",
       "      <th>Wine Consumption at Latest Timepoint(L)</th>\n",
       "      <th>Wine Consumption Average Over The Years(L)</th>\n",
       "    </tr>\n",
       "  </thead>\n",
       "  <tbody>\n",
       "    <tr>\n",
       "      <th>0</th>\n",
       "      <td>Asia</td>\n",
       "      <td>AFG</td>\n",
       "      <td>Afghanistan</td>\n",
       "      <td>0.2</td>\n",
       "      <td>arid to semiarid; cold winters and hot summers</td>\n",
       "      <td>small-scale production of bricks</td>\n",
       "      <td>South Asia</td>\n",
       "      <td>2.5669</td>\n",
       "      <td>52.590000</td>\n",
       "      <td>7.462861</td>\n",
       "      <td>17.553463</td>\n",
       "      <td>2013</td>\n",
       "      <td>0.00</td>\n",
       "      <td>0.000377</td>\n",
       "    </tr>\n",
       "    <tr>\n",
       "      <th>1</th>\n",
       "      <td>Europe</td>\n",
       "      <td>ALB</td>\n",
       "      <td>Albania</td>\n",
       "      <td>7.5</td>\n",
       "      <td>mild temperate; cool, cloudy, wet winters; hot...</td>\n",
       "      <td>perfumes and cosmetic products</td>\n",
       "      <td>Central and Eastern Europe</td>\n",
       "      <td>4.8827</td>\n",
       "      <td>68.708138</td>\n",
       "      <td>9.417931</td>\n",
       "      <td>10.987610</td>\n",
       "      <td>2014</td>\n",
       "      <td>1.14</td>\n",
       "      <td>0.601698</td>\n",
       "    </tr>\n",
       "    <tr>\n",
       "      <th>2</th>\n",
       "      <td>Africa</td>\n",
       "      <td>DZA</td>\n",
       "      <td>Algeria</td>\n",
       "      <td>0.9</td>\n",
       "      <td>arid to semiarid; mild, wet winters with hot, ...</td>\n",
       "      <td>petroleum</td>\n",
       "      <td>Middle East and North Africa</td>\n",
       "      <td>5.0051</td>\n",
       "      <td>65.905174</td>\n",
       "      <td>9.537965</td>\n",
       "      <td>14.700388</td>\n",
       "      <td>2013</td>\n",
       "      <td>0.22</td>\n",
       "      <td>0.429245</td>\n",
       "    </tr>\n",
       "    <tr>\n",
       "      <th>3</th>\n",
       "      <td>Europe</td>\n",
       "      <td>AZE</td>\n",
       "      <td>Azerbaijan</td>\n",
       "      <td>0.8</td>\n",
       "      <td>dry, semiarid steppe</td>\n",
       "      <td>petroleum and natural gas</td>\n",
       "      <td>Commonwealth of Independent States</td>\n",
       "      <td>5.1648</td>\n",
       "      <td>65.508400</td>\n",
       "      <td>9.687727</td>\n",
       "      <td>10.495815</td>\n",
       "      <td>2013</td>\n",
       "      <td>0.23</td>\n",
       "      <td>0.459167</td>\n",
       "    </tr>\n",
       "    <tr>\n",
       "      <th>4</th>\n",
       "      <td>South America</td>\n",
       "      <td>ARG</td>\n",
       "      <td>Argentina</td>\n",
       "      <td>9.8</td>\n",
       "      <td>mostly temperate; arid in southeast; subantarc...</td>\n",
       "      <td>food processing</td>\n",
       "      <td>Latin America and Caribbean</td>\n",
       "      <td>5.9747</td>\n",
       "      <td>68.803802</td>\n",
       "      <td>9.810955</td>\n",
       "      <td>15.491235</td>\n",
       "      <td>2014</td>\n",
       "      <td>3.22</td>\n",
       "      <td>9.673333</td>\n",
       "    </tr>\n",
       "  </tbody>\n",
       "</table>\n",
       "</div>"
      ],
      "text/plain": [
       "       Continent Country Code      Country  \\\n",
       "0           Asia          AFG  Afghanistan   \n",
       "1         Europe          ALB      Albania   \n",
       "2         Africa          DZA      Algeria   \n",
       "3         Europe          AZE   Azerbaijan   \n",
       "4  South America          ARG    Argentina   \n",
       "\n",
       "   Alcohol Consumption Per Capita (Liters)  \\\n",
       "0                                      0.2   \n",
       "1                                      7.5   \n",
       "2                                      0.9   \n",
       "3                                      0.8   \n",
       "4                                      9.8   \n",
       "\n",
       "                                             Climate  \\\n",
       "0     arid to semiarid; cold winters and hot summers   \n",
       "1  mild temperate; cool, cloudy, wet winters; hot...   \n",
       "2  arid to semiarid; mild, wet winters with hot, ...   \n",
       "3                               dry, semiarid steppe   \n",
       "4  mostly temperate; arid in southeast; subantarc...   \n",
       "\n",
       "                      Main Industry                              Region  \\\n",
       "0  small-scale production of bricks                          South Asia   \n",
       "1    perfumes and cosmetic products          Central and Eastern Europe   \n",
       "2                         petroleum        Middle East and North Africa   \n",
       "3         petroleum and natural gas  Commonwealth of Independent States   \n",
       "4                   food processing         Latin America and Caribbean   \n",
       "\n",
       "   Happiness Score  Life Expectancy  GDP per capita  \\\n",
       "0           2.5669        52.590000        7.462861   \n",
       "1           4.8827        68.708138        9.417931   \n",
       "2           5.0051        65.905174        9.537965   \n",
       "3           5.1648        65.508400        9.687727   \n",
       "4           5.9747        68.803802        9.810955   \n",
       "\n",
       "   Mental Health Disorders (%)  Latest Year for Wine Consumption Data  \\\n",
       "0                    17.553463                                   2013   \n",
       "1                    10.987610                                   2014   \n",
       "2                    14.700388                                   2013   \n",
       "3                    10.495815                                   2013   \n",
       "4                    15.491235                                   2014   \n",
       "\n",
       "   Wine Consumption at Latest Timepoint(L)  \\\n",
       "0                                     0.00   \n",
       "1                                     1.14   \n",
       "2                                     0.22   \n",
       "3                                     0.23   \n",
       "4                                     3.22   \n",
       "\n",
       "   Wine Consumption Average Over The Years(L)  \n",
       "0                                    0.000377  \n",
       "1                                    0.601698  \n",
       "2                                    0.429245  \n",
       "3                                    0.459167  \n",
       "4                                    9.673333  "
      ]
     },
     "execution_count": 395,
     "metadata": {},
     "output_type": "execute_result"
    }
   ],
   "source": [
    "merged_with_wine_nonull_df.head()"
   ]
  },
  {
   "cell_type": "code",
   "execution_count": 399,
   "metadata": {},
   "outputs": [
    {
     "data": {
      "text/html": [
       "<div>\n",
       "<style scoped>\n",
       "    .dataframe tbody tr th:only-of-type {\n",
       "        vertical-align: middle;\n",
       "    }\n",
       "\n",
       "    .dataframe tbody tr th {\n",
       "        vertical-align: top;\n",
       "    }\n",
       "\n",
       "    .dataframe thead th {\n",
       "        text-align: right;\n",
       "    }\n",
       "</style>\n",
       "<table border=\"1\" class=\"dataframe\">\n",
       "  <thead>\n",
       "    <tr style=\"text-align: right;\">\n",
       "      <th></th>\n",
       "      <th>Continent</th>\n",
       "      <th>Country Code</th>\n",
       "      <th>Country</th>\n",
       "      <th>Alcohol Consumption Per Capita (Liters)</th>\n",
       "      <th>Climate</th>\n",
       "      <th>Main Industry</th>\n",
       "      <th>Region</th>\n",
       "      <th>Happiness Score</th>\n",
       "      <th>Life Expectancy</th>\n",
       "      <th>GDP per capita</th>\n",
       "      <th>Mental Health Disorders (%)</th>\n",
       "      <th>Wine Consumption per capita (Liters)</th>\n",
       "    </tr>\n",
       "  </thead>\n",
       "  <tbody>\n",
       "    <tr>\n",
       "      <th>0</th>\n",
       "      <td>Asia</td>\n",
       "      <td>AFG</td>\n",
       "      <td>Afghanistan</td>\n",
       "      <td>0.2</td>\n",
       "      <td>arid to semiarid; cold winters and hot summers</td>\n",
       "      <td>small-scale production of bricks</td>\n",
       "      <td>South Asia</td>\n",
       "      <td>2.5669</td>\n",
       "      <td>52.590000</td>\n",
       "      <td>7.462861</td>\n",
       "      <td>17.553463</td>\n",
       "      <td>0.00</td>\n",
       "    </tr>\n",
       "    <tr>\n",
       "      <th>1</th>\n",
       "      <td>Europe</td>\n",
       "      <td>ALB</td>\n",
       "      <td>Albania</td>\n",
       "      <td>7.5</td>\n",
       "      <td>mild temperate; cool, cloudy, wet winters; hot...</td>\n",
       "      <td>perfumes and cosmetic products</td>\n",
       "      <td>Central and Eastern Europe</td>\n",
       "      <td>4.8827</td>\n",
       "      <td>68.708138</td>\n",
       "      <td>9.417931</td>\n",
       "      <td>10.987610</td>\n",
       "      <td>1.14</td>\n",
       "    </tr>\n",
       "    <tr>\n",
       "      <th>2</th>\n",
       "      <td>Africa</td>\n",
       "      <td>DZA</td>\n",
       "      <td>Algeria</td>\n",
       "      <td>0.9</td>\n",
       "      <td>arid to semiarid; mild, wet winters with hot, ...</td>\n",
       "      <td>petroleum</td>\n",
       "      <td>Middle East and North Africa</td>\n",
       "      <td>5.0051</td>\n",
       "      <td>65.905174</td>\n",
       "      <td>9.537965</td>\n",
       "      <td>14.700388</td>\n",
       "      <td>0.22</td>\n",
       "    </tr>\n",
       "    <tr>\n",
       "      <th>3</th>\n",
       "      <td>Europe</td>\n",
       "      <td>AZE</td>\n",
       "      <td>Azerbaijan</td>\n",
       "      <td>0.8</td>\n",
       "      <td>dry, semiarid steppe</td>\n",
       "      <td>petroleum and natural gas</td>\n",
       "      <td>Commonwealth of Independent States</td>\n",
       "      <td>5.1648</td>\n",
       "      <td>65.508400</td>\n",
       "      <td>9.687727</td>\n",
       "      <td>10.495815</td>\n",
       "      <td>0.23</td>\n",
       "    </tr>\n",
       "    <tr>\n",
       "      <th>4</th>\n",
       "      <td>South America</td>\n",
       "      <td>ARG</td>\n",
       "      <td>Argentina</td>\n",
       "      <td>9.8</td>\n",
       "      <td>mostly temperate; arid in southeast; subantarc...</td>\n",
       "      <td>food processing</td>\n",
       "      <td>Latin America and Caribbean</td>\n",
       "      <td>5.9747</td>\n",
       "      <td>68.803802</td>\n",
       "      <td>9.810955</td>\n",
       "      <td>15.491235</td>\n",
       "      <td>3.22</td>\n",
       "    </tr>\n",
       "  </tbody>\n",
       "</table>\n",
       "</div>"
      ],
      "text/plain": [
       "       Continent Country Code      Country  \\\n",
       "0           Asia          AFG  Afghanistan   \n",
       "1         Europe          ALB      Albania   \n",
       "2         Africa          DZA      Algeria   \n",
       "3         Europe          AZE   Azerbaijan   \n",
       "4  South America          ARG    Argentina   \n",
       "\n",
       "   Alcohol Consumption Per Capita (Liters)  \\\n",
       "0                                      0.2   \n",
       "1                                      7.5   \n",
       "2                                      0.9   \n",
       "3                                      0.8   \n",
       "4                                      9.8   \n",
       "\n",
       "                                             Climate  \\\n",
       "0     arid to semiarid; cold winters and hot summers   \n",
       "1  mild temperate; cool, cloudy, wet winters; hot...   \n",
       "2  arid to semiarid; mild, wet winters with hot, ...   \n",
       "3                               dry, semiarid steppe   \n",
       "4  mostly temperate; arid in southeast; subantarc...   \n",
       "\n",
       "                      Main Industry                              Region  \\\n",
       "0  small-scale production of bricks                          South Asia   \n",
       "1    perfumes and cosmetic products          Central and Eastern Europe   \n",
       "2                         petroleum        Middle East and North Africa   \n",
       "3         petroleum and natural gas  Commonwealth of Independent States   \n",
       "4                   food processing         Latin America and Caribbean   \n",
       "\n",
       "   Happiness Score  Life Expectancy  GDP per capita  \\\n",
       "0           2.5669        52.590000        7.462861   \n",
       "1           4.8827        68.708138        9.417931   \n",
       "2           5.0051        65.905174        9.537965   \n",
       "3           5.1648        65.508400        9.687727   \n",
       "4           5.9747        68.803802        9.810955   \n",
       "\n",
       "   Mental Health Disorders (%)  Wine Consumption per capita (Liters)  \n",
       "0                    17.553463                                  0.00  \n",
       "1                    10.987610                                  1.14  \n",
       "2                    14.700388                                  0.22  \n",
       "3                    10.495815                                  0.23  \n",
       "4                    15.491235                                  3.22  "
      ]
     },
     "execution_count": 399,
     "metadata": {},
     "output_type": "execute_result"
    }
   ],
   "source": [
    "merged_with_wine_final_df=merged_with_wine_nonull_df.drop(['Latest Year for Wine Consumption Data', 'Wine Consumption Average Over The Years(L)'], axis=1)\n",
    "merged_with_wine_final_df=merged_with_wine_final_df.rename(columns={\"Wine Consumption at Latest Timepoint(L)\":\"Wine Consumption per capita (Liters)\"})\n",
    "merged_with_wine_final_df.head()"
   ]
  },
  {
   "cell_type": "code",
   "execution_count": 401,
   "metadata": {},
   "outputs": [],
   "source": [
    "merged_with_wine_final_df.to_csv(\"merged_with_wine_final_df.csv\")"
   ]
  },
  {
   "cell_type": "code",
   "execution_count": null,
   "metadata": {},
   "outputs": [],
   "source": []
  }
 ],
 "metadata": {
  "kernelspec": {
   "display_name": "Python 3",
   "language": "python",
   "name": "python3"
  },
  "language_info": {
   "codemirror_mode": {
    "name": "ipython",
    "version": 3
   },
   "file_extension": ".py",
   "mimetype": "text/x-python",
   "name": "python",
   "nbconvert_exporter": "python",
   "pygments_lexer": "ipython3",
   "version": "3.8.3"
  }
 },
 "nbformat": 4,
 "nbformat_minor": 4
}
