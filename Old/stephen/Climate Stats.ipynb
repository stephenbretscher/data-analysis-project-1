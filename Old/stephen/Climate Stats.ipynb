{
 "cells": [
  {
   "cell_type": "code",
   "execution_count": 1,
   "metadata": {},
   "outputs": [],
   "source": [
    "import matplotlib.pyplot as plt\n",
    "import pandas as pd\n",
    "import scipy.stats as st\n",
    "import numpy as np"
   ]
  },
  {
   "cell_type": "code",
   "execution_count": 2,
   "metadata": {},
   "outputs": [],
   "source": [
    "climate = \"Resources/climate_finished.csv\"\n",
    "\n",
    "climate_df  = pd.read_csv(climate)"
   ]
  },
  {
   "cell_type": "code",
   "execution_count": 3,
   "metadata": {},
   "outputs": [
    {
     "data": {
      "text/html": [
       "<div>\n",
       "<style scoped>\n",
       "    .dataframe tbody tr th:only-of-type {\n",
       "        vertical-align: middle;\n",
       "    }\n",
       "\n",
       "    .dataframe tbody tr th {\n",
       "        vertical-align: top;\n",
       "    }\n",
       "\n",
       "    .dataframe thead th {\n",
       "        text-align: right;\n",
       "    }\n",
       "</style>\n",
       "<table border=\"1\" class=\"dataframe\">\n",
       "  <thead>\n",
       "    <tr style=\"text-align: right;\">\n",
       "      <th></th>\n",
       "      <th>Unnamed: 0</th>\n",
       "      <th>Unnamed: 0.1</th>\n",
       "      <th>continent</th>\n",
       "      <th>country_code</th>\n",
       "      <th>country</th>\n",
       "      <th>consumption_per_capita_(L)</th>\n",
       "      <th>climate</th>\n",
       "      <th>main_export</th>\n",
       "      <th>main_industry</th>\n",
       "      <th>region</th>\n",
       "      <th>happy_score</th>\n",
       "      <th>life_expectancy</th>\n",
       "      <th>gdp_per_capita</th>\n",
       "      <th>code</th>\n",
       "      <th>mental_health_and_addiction (%)</th>\n",
       "      <th>Climate_Fixed</th>\n",
       "    </tr>\n",
       "  </thead>\n",
       "  <tbody>\n",
       "    <tr>\n",
       "      <th>0</th>\n",
       "      <td>0</td>\n",
       "      <td>0</td>\n",
       "      <td>Asia</td>\n",
       "      <td>AFG</td>\n",
       "      <td>Afghanistan</td>\n",
       "      <td>0.2</td>\n",
       "      <td>arid to semiarid; cold winters and hot summers</td>\n",
       "      <td>Fruit and nuts</td>\n",
       "      <td>small-scale production of bricks</td>\n",
       "      <td>South Asia</td>\n",
       "      <td>2.5669</td>\n",
       "      <td>52.590000</td>\n",
       "      <td>7.462861</td>\n",
       "      <td>AFG</td>\n",
       "      <td>17.553463</td>\n",
       "      <td>Arid</td>\n",
       "    </tr>\n",
       "    <tr>\n",
       "      <th>1</th>\n",
       "      <td>1</td>\n",
       "      <td>1</td>\n",
       "      <td>Europe</td>\n",
       "      <td>ALB</td>\n",
       "      <td>Albania</td>\n",
       "      <td>7.5</td>\n",
       "      <td>mild Temperate; cool, cloudy, wet winters; hot...</td>\n",
       "      <td>Chromium and chrome products</td>\n",
       "      <td>perfumes and cosmetic products</td>\n",
       "      <td>Central and Eastern Europe</td>\n",
       "      <td>4.8827</td>\n",
       "      <td>68.708138</td>\n",
       "      <td>9.417931</td>\n",
       "      <td>ALB</td>\n",
       "      <td>10.987610</td>\n",
       "      <td>Temperate</td>\n",
       "    </tr>\n",
       "    <tr>\n",
       "      <th>2</th>\n",
       "      <td>2</td>\n",
       "      <td>4942</td>\n",
       "      <td>Africa</td>\n",
       "      <td>DZA</td>\n",
       "      <td>Algeria</td>\n",
       "      <td>0.9</td>\n",
       "      <td>arid to semiarid; mild, wet winters with hot, ...</td>\n",
       "      <td>Oil</td>\n",
       "      <td>petroleum</td>\n",
       "      <td>Middle East and North Africa</td>\n",
       "      <td>5.0051</td>\n",
       "      <td>65.905174</td>\n",
       "      <td>9.537965</td>\n",
       "      <td>DZA</td>\n",
       "      <td>14.700388</td>\n",
       "      <td>Arid</td>\n",
       "    </tr>\n",
       "    <tr>\n",
       "      <th>3</th>\n",
       "      <td>3</td>\n",
       "      <td>4943</td>\n",
       "      <td>Europe</td>\n",
       "      <td>AND</td>\n",
       "      <td>Andorra</td>\n",
       "      <td>11.3</td>\n",
       "      <td>Temperate; snowy, cold winters and warm, dry s...</td>\n",
       "      <td>Tobacco products</td>\n",
       "      <td>tourism</td>\n",
       "      <td>NaN</td>\n",
       "      <td>NaN</td>\n",
       "      <td>NaN</td>\n",
       "      <td>NaN</td>\n",
       "      <td>AND</td>\n",
       "      <td>14.726869</td>\n",
       "      <td>Temperate</td>\n",
       "    </tr>\n",
       "    <tr>\n",
       "      <th>4</th>\n",
       "      <td>4</td>\n",
       "      <td>4944</td>\n",
       "      <td>Africa</td>\n",
       "      <td>AGO</td>\n",
       "      <td>Angola</td>\n",
       "      <td>6.4</td>\n",
       "      <td>semiarid in south and along coast to Luanda; n...</td>\n",
       "      <td>Oil</td>\n",
       "      <td>petroleum</td>\n",
       "      <td>NaN</td>\n",
       "      <td>NaN</td>\n",
       "      <td>NaN</td>\n",
       "      <td>NaN</td>\n",
       "      <td>AGO</td>\n",
       "      <td>12.498281</td>\n",
       "      <td>Tropical</td>\n",
       "    </tr>\n",
       "    <tr>\n",
       "      <th>...</th>\n",
       "      <td>...</td>\n",
       "      <td>...</td>\n",
       "      <td>...</td>\n",
       "      <td>...</td>\n",
       "      <td>...</td>\n",
       "      <td>...</td>\n",
       "      <td>...</td>\n",
       "      <td>...</td>\n",
       "      <td>...</td>\n",
       "      <td>...</td>\n",
       "      <td>...</td>\n",
       "      <td>...</td>\n",
       "      <td>...</td>\n",
       "      <td>...</td>\n",
       "      <td>...</td>\n",
       "      <td>...</td>\n",
       "    </tr>\n",
       "    <tr>\n",
       "      <th>181</th>\n",
       "      <td>181</td>\n",
       "      <td>5128</td>\n",
       "      <td>Asia</td>\n",
       "      <td>UZB</td>\n",
       "      <td>Uzbekistan</td>\n",
       "      <td>2.7</td>\n",
       "      <td>mostly mid-latitude desert, long, hot summers,...</td>\n",
       "      <td>Cotton</td>\n",
       "      <td>textiles</td>\n",
       "      <td>Commonwealth of Independent States</td>\n",
       "      <td>6.2576</td>\n",
       "      <td>65.107574</td>\n",
       "      <td>8.740372</td>\n",
       "      <td>UZB</td>\n",
       "      <td>10.897074</td>\n",
       "      <td>Arid</td>\n",
       "    </tr>\n",
       "    <tr>\n",
       "      <th>182</th>\n",
       "      <td>182</td>\n",
       "      <td>5129</td>\n",
       "      <td>South America</td>\n",
       "      <td>VEN</td>\n",
       "      <td>Venezuela</td>\n",
       "      <td>5.6</td>\n",
       "      <td>tropical; hot, humid; more moderate in highlands</td>\n",
       "      <td>Petroleum</td>\n",
       "      <td>petroleum</td>\n",
       "      <td>Latin America and Caribbean</td>\n",
       "      <td>5.0532</td>\n",
       "      <td>66.505341</td>\n",
       "      <td>8.977794</td>\n",
       "      <td>VEN</td>\n",
       "      <td>11.014506</td>\n",
       "      <td>Tropical</td>\n",
       "    </tr>\n",
       "    <tr>\n",
       "      <th>183</th>\n",
       "      <td>183</td>\n",
       "      <td>5130</td>\n",
       "      <td>Oceania</td>\n",
       "      <td>WSM</td>\n",
       "      <td>Samoa</td>\n",
       "      <td>2.5</td>\n",
       "      <td>tropical; rainy season (November to April), dr...</td>\n",
       "      <td>Coconut oil and cream</td>\n",
       "      <td>food processing</td>\n",
       "      <td>NaN</td>\n",
       "      <td>NaN</td>\n",
       "      <td>NaN</td>\n",
       "      <td>NaN</td>\n",
       "      <td>WSM</td>\n",
       "      <td>11.152716</td>\n",
       "      <td>Tropical</td>\n",
       "    </tr>\n",
       "    <tr>\n",
       "      <th>184</th>\n",
       "      <td>184</td>\n",
       "      <td>5131</td>\n",
       "      <td>Asia</td>\n",
       "      <td>YEM</td>\n",
       "      <td>Yemen</td>\n",
       "      <td>0.1</td>\n",
       "      <td>mostly desert; hot and humid along west coast;...</td>\n",
       "      <td>Crude oil</td>\n",
       "      <td>crude oil production and petroleum refining</td>\n",
       "      <td>Middle East and North Africa</td>\n",
       "      <td>3.5274</td>\n",
       "      <td>56.727283</td>\n",
       "      <td>7.759683</td>\n",
       "      <td>YEM</td>\n",
       "      <td>15.819471</td>\n",
       "      <td>Arid</td>\n",
       "    </tr>\n",
       "    <tr>\n",
       "      <th>185</th>\n",
       "      <td>185</td>\n",
       "      <td>5132</td>\n",
       "      <td>Africa</td>\n",
       "      <td>ZMB</td>\n",
       "      <td>Zambia</td>\n",
       "      <td>4.8</td>\n",
       "      <td>tropical; modified by altitude; rainy season (...</td>\n",
       "      <td>Copper</td>\n",
       "      <td>copper mining and processing</td>\n",
       "      <td>Sub-Saharan Africa</td>\n",
       "      <td>3.7594</td>\n",
       "      <td>55.299377</td>\n",
       "      <td>8.224720</td>\n",
       "      <td>ZMB</td>\n",
       "      <td>12.192107</td>\n",
       "      <td>Tropical</td>\n",
       "    </tr>\n",
       "  </tbody>\n",
       "</table>\n",
       "<p>186 rows × 16 columns</p>\n",
       "</div>"
      ],
      "text/plain": [
       "     Unnamed: 0  Unnamed: 0.1      continent country_code      country  \\\n",
       "0             0             0           Asia          AFG  Afghanistan   \n",
       "1             1             1         Europe          ALB      Albania   \n",
       "2             2          4942         Africa          DZA      Algeria   \n",
       "3             3          4943         Europe          AND      Andorra   \n",
       "4             4          4944         Africa          AGO       Angola   \n",
       "..          ...           ...            ...          ...          ...   \n",
       "181         181          5128           Asia          UZB   Uzbekistan   \n",
       "182         182          5129  South America          VEN    Venezuela   \n",
       "183         183          5130        Oceania          WSM        Samoa   \n",
       "184         184          5131           Asia          YEM        Yemen   \n",
       "185         185          5132         Africa          ZMB       Zambia   \n",
       "\n",
       "     consumption_per_capita_(L)  \\\n",
       "0                           0.2   \n",
       "1                           7.5   \n",
       "2                           0.9   \n",
       "3                          11.3   \n",
       "4                           6.4   \n",
       "..                          ...   \n",
       "181                         2.7   \n",
       "182                         5.6   \n",
       "183                         2.5   \n",
       "184                         0.1   \n",
       "185                         4.8   \n",
       "\n",
       "                                               climate  \\\n",
       "0       arid to semiarid; cold winters and hot summers   \n",
       "1    mild Temperate; cool, cloudy, wet winters; hot...   \n",
       "2    arid to semiarid; mild, wet winters with hot, ...   \n",
       "3    Temperate; snowy, cold winters and warm, dry s...   \n",
       "4    semiarid in south and along coast to Luanda; n...   \n",
       "..                                                 ...   \n",
       "181  mostly mid-latitude desert, long, hot summers,...   \n",
       "182   tropical; hot, humid; more moderate in highlands   \n",
       "183  tropical; rainy season (November to April), dr...   \n",
       "184  mostly desert; hot and humid along west coast;...   \n",
       "185  tropical; modified by altitude; rainy season (...   \n",
       "\n",
       "                      main_export  \\\n",
       "0                  Fruit and nuts   \n",
       "1    Chromium and chrome products   \n",
       "2                             Oil   \n",
       "3                Tobacco products   \n",
       "4                             Oil   \n",
       "..                            ...   \n",
       "181                        Cotton   \n",
       "182                     Petroleum   \n",
       "183         Coconut oil and cream   \n",
       "184                     Crude oil   \n",
       "185                        Copper   \n",
       "\n",
       "                                   main_industry  \\\n",
       "0               small-scale production of bricks   \n",
       "1                 perfumes and cosmetic products   \n",
       "2                                      petroleum   \n",
       "3                                       tourism    \n",
       "4                                      petroleum   \n",
       "..                                           ...   \n",
       "181                                     textiles   \n",
       "182                                    petroleum   \n",
       "183                              food processing   \n",
       "184  crude oil production and petroleum refining   \n",
       "185                 copper mining and processing   \n",
       "\n",
       "                                 region  happy_score  life_expectancy  \\\n",
       "0                            South Asia       2.5669        52.590000   \n",
       "1            Central and Eastern Europe       4.8827        68.708138   \n",
       "2          Middle East and North Africa       5.0051        65.905174   \n",
       "3                                   NaN          NaN              NaN   \n",
       "4                                   NaN          NaN              NaN   \n",
       "..                                  ...          ...              ...   \n",
       "181  Commonwealth of Independent States       6.2576        65.107574   \n",
       "182         Latin America and Caribbean       5.0532        66.505341   \n",
       "183                                 NaN          NaN              NaN   \n",
       "184        Middle East and North Africa       3.5274        56.727283   \n",
       "185                  Sub-Saharan Africa       3.7594        55.299377   \n",
       "\n",
       "     gdp_per_capita code  mental_health_and_addiction (%) Climate_Fixed  \n",
       "0          7.462861  AFG                        17.553463          Arid  \n",
       "1          9.417931  ALB                        10.987610     Temperate  \n",
       "2          9.537965  DZA                        14.700388          Arid  \n",
       "3               NaN  AND                        14.726869     Temperate  \n",
       "4               NaN  AGO                        12.498281      Tropical  \n",
       "..              ...  ...                              ...           ...  \n",
       "181        8.740372  UZB                        10.897074          Arid  \n",
       "182        8.977794  VEN                        11.014506      Tropical  \n",
       "183             NaN  WSM                        11.152716      Tropical  \n",
       "184        7.759683  YEM                        15.819471          Arid  \n",
       "185        8.224720  ZMB                        12.192107      Tropical  \n",
       "\n",
       "[186 rows x 16 columns]"
      ]
     },
     "execution_count": 3,
     "metadata": {},
     "output_type": "execute_result"
    }
   ],
   "source": [
    "climate_df\n",
    "\n",
    "#     consumption_per_capita_(L)"
   ]
  },
  {
   "cell_type": "code",
   "execution_count": 5,
   "metadata": {},
   "outputs": [
    {
     "data": {
      "text/html": [
       "<div>\n",
       "<style scoped>\n",
       "    .dataframe tbody tr th:only-of-type {\n",
       "        vertical-align: middle;\n",
       "    }\n",
       "\n",
       "    .dataframe tbody tr th {\n",
       "        vertical-align: top;\n",
       "    }\n",
       "\n",
       "    .dataframe thead th {\n",
       "        text-align: right;\n",
       "    }\n",
       "</style>\n",
       "<table border=\"1\" class=\"dataframe\">\n",
       "  <thead>\n",
       "    <tr style=\"text-align: right;\">\n",
       "      <th></th>\n",
       "      <th>country</th>\n",
       "      <th>consumption_per_capita_(L)</th>\n",
       "      <th>Climate_Fixed</th>\n",
       "    </tr>\n",
       "  </thead>\n",
       "  <tbody>\n",
       "    <tr>\n",
       "      <th>0</th>\n",
       "      <td>Afghanistan</td>\n",
       "      <td>0.2</td>\n",
       "      <td>Arid</td>\n",
       "    </tr>\n",
       "    <tr>\n",
       "      <th>1</th>\n",
       "      <td>Albania</td>\n",
       "      <td>7.5</td>\n",
       "      <td>Temperate</td>\n",
       "    </tr>\n",
       "    <tr>\n",
       "      <th>2</th>\n",
       "      <td>Algeria</td>\n",
       "      <td>0.9</td>\n",
       "      <td>Arid</td>\n",
       "    </tr>\n",
       "    <tr>\n",
       "      <th>3</th>\n",
       "      <td>Andorra</td>\n",
       "      <td>11.3</td>\n",
       "      <td>Temperate</td>\n",
       "    </tr>\n",
       "    <tr>\n",
       "      <th>4</th>\n",
       "      <td>Angola</td>\n",
       "      <td>6.4</td>\n",
       "      <td>Tropical</td>\n",
       "    </tr>\n",
       "  </tbody>\n",
       "</table>\n",
       "</div>"
      ],
      "text/plain": [
       "       country  consumption_per_capita_(L) Climate_Fixed\n",
       "0  Afghanistan                         0.2          Arid\n",
       "1      Albania                         7.5     Temperate\n",
       "2      Algeria                         0.9          Arid\n",
       "3      Andorra                        11.3     Temperate\n",
       "4       Angola                         6.4      Tropical"
      ]
     },
     "execution_count": 5,
     "metadata": {},
     "output_type": "execute_result"
    }
   ],
   "source": [
    "simple_df = climate_df[[\"country\",\"consumption_per_capita_(L)\",\"Climate_Fixed\"]]\n",
    "simple_df.head()"
   ]
  },
  {
   "cell_type": "code",
   "execution_count": 57,
   "metadata": {
    "scrolled": true
   },
   "outputs": [
    {
     "data": {
      "text/plain": [
       "Tropical         92\n",
       "Arid             33\n",
       "Temperate        32\n",
       "Continental      13\n",
       "Mediterranean    11\n",
       "Subarctic         5\n",
       "Name: Climate_Fixed, dtype: int64"
      ]
     },
     "execution_count": 57,
     "metadata": {},
     "output_type": "execute_result"
    }
   ],
   "source": [
    "climate_df[\"Climate_Fixed\"].value_counts()"
   ]
  },
  {
   "cell_type": "code",
   "execution_count": 6,
   "metadata": {},
   "outputs": [
    {
     "name": "stdout",
     "output_type": "stream",
     "text": [
      "[[3.26060606 5.225      9.834375   9.43846154 6.63636364 9.6       ]]\n"
     ]
    }
   ],
   "source": [
    "#List to hold outputs\n",
    "climate = [\"Arid\", \"Tropical\", \"Temperate\", \"Continental\", \"Mediterranean\", \"Subarctic\"]\n",
    "consumption_values = []\n",
    "country_number = []\n",
    "\n",
    "\n",
    "for climate in climate:\n",
    "    new_df = climate_df.loc[climate_df[\"Climate_Fixed\"] == climate]\n",
    "    \n",
    "    values=new_df[\"consumption_per_capita_(L)\"].sum()\n",
    "    consumption_values.append(values)\n",
    "\n",
    "    number = len(new_df)\n",
    "    country_number.append(number)\n",
    "    \n",
    "    avg_consumption_climate = np.array([consumption_values])/np.array([country_number])\n",
    "\n",
    "print(avg_consumption_climate)\n"
   ]
  },
  {
   "cell_type": "code",
   "execution_count": 63,
   "metadata": {},
   "outputs": [
    {
     "name": "stdout",
     "output_type": "stream",
     "text": [
      "[107.6, 480.70000000000005, 314.7, 122.69999999999999, 73.0, 48.0]\n",
      "[33, 92, 32, 13, 11, 5]\n"
     ]
    }
   ],
   "source": [
    "print(consumption_values)\n",
    "print(country_number)\n",
    "#Avg for each of 6 climates\n",
    "#Temperate, Tropical, Arid, Continental, Mediterranean, Subarctic"
   ]
  },
  {
   "cell_type": "code",
   "execution_count": 13,
   "metadata": {},
   "outputs": [
    {
     "name": "stdout",
     "output_type": "stream",
     "text": [
      "32\n",
      "314.7\n",
      "9.834374999999998\n"
     ]
    }
   ],
   "source": [
    "#Temperate Consumption\n",
    "\n",
    "temperate_df = climate_df.loc[climate_df[\"Climate_Fixed\"]==\"Temperate\"]\n",
    "temperate_consumption=temperate_df[\"consumption_per_capita_(L)\"].sum()\n",
    "temperate_avg=temperate_df[\"consumption_per_capita_(L)\"].mean()\n",
    "\n",
    "temperate_happiness = temperate_df[\"happy_score\"].mean()\n",
    "temperate_life = temperate_df[\"life_expectancy\"].mean()\n",
    "temperate_gdp = temperate_df[\"gdp_per_capita\"].mean()\n",
    "temperate_addiction = temperate_df[\"mental_health_and_addiction (%)\"].mean()\n",
    "\n",
    "#temperate_df.head()\n",
    "print(len(temperate_df))\n",
    "print(temperate_consumption)\n",
    "print(temperate_avg)"
   ]
  },
  {
   "cell_type": "code",
   "execution_count": 12,
   "metadata": {},
   "outputs": [
    {
     "name": "stdout",
     "output_type": "stream",
     "text": [
      "92\n",
      "480.70000000000005\n",
      "5.225\n"
     ]
    }
   ],
   "source": [
    "#Tropical Consumption\n",
    "\n",
    "tropical_df = climate_df.loc[climate_df[\"Climate_Fixed\"]==\"Tropical\"]\n",
    "tropical_consumption = tropical_df[\"consumption_per_capita_(L)\"].sum()\n",
    "tropical_avg=tropical_df[\"consumption_per_capita_(L)\"].mean()\n",
    "\n",
    "tropical_happiness = tropical_df[\"happy_score\"].mean()\n",
    "tropical_life = tropical_df[\"life_expectancy\"].mean()\n",
    "tropical_gdp = tropical_df[\"gdp_per_capita\"].mean()\n",
    "tropical_addiction = tropical_df[\"mental_health_and_addiction (%)\"].mean()\n",
    "\n",
    "print(len(tropical_df))\n",
    "print(tropical_consumption)\n",
    "print(tropical_avg)"
   ]
  },
  {
   "cell_type": "code",
   "execution_count": 11,
   "metadata": {},
   "outputs": [
    {
     "name": "stdout",
     "output_type": "stream",
     "text": [
      "33\n",
      "107.6\n",
      "3.2606060606060607\n"
     ]
    }
   ],
   "source": [
    "#Arid Consumption\n",
    "arid_df = climate_df.loc[climate_df[\"Climate_Fixed\"]==\"Arid\"]\n",
    "arid_consumption = arid_df[\"consumption_per_capita_(L)\"].sum()\n",
    "arid_avg = arid_df[\"consumption_per_capita_(L)\"].mean()\n",
    "\n",
    "arid_happiness = arid_df[\"happy_score\"].mean()\n",
    "arid_life = arid_df[\"life_expectancy\"].mean()\n",
    "arid_gdp = arid_df[\"gdp_per_capita\"].mean()\n",
    "arid_addiction = arid_df[\"mental_health_and_addiction (%)\"].mean()\n",
    "\n",
    "print(len(arid_df))\n",
    "print(arid_consumption)\n",
    "print(arid_avg)"
   ]
  },
  {
   "cell_type": "code",
   "execution_count": 10,
   "metadata": {},
   "outputs": [
    {
     "name": "stdout",
     "output_type": "stream",
     "text": [
      "13\n",
      "122.69999999999999\n",
      "9.438461538461537\n"
     ]
    }
   ],
   "source": [
    "#Continental Consumption\n",
    "continental_df = climate_df.loc[climate_df[\"Climate_Fixed\"]==\"Continental\"]\n",
    "continental_consumption = continental_df[\"consumption_per_capita_(L)\"].sum()\n",
    "continental_avg = continental_df[\"consumption_per_capita_(L)\"].mean()\n",
    "\n",
    "continental_happiness = continental_df[\"happy_score\"].mean()\n",
    "continental_life = continental_df[\"life_expectancy\"].mean()\n",
    "continental_gdp = continental_df[\"gdp_per_capita\"].mean()\n",
    "continental_addiction = continental_df[\"mental_health_and_addiction (%)\"].mean()\n",
    "\n",
    "print(len(continental_df))\n",
    "print(continental_consumption)\n",
    "print(continental_avg)"
   ]
  },
  {
   "cell_type": "code",
   "execution_count": 9,
   "metadata": {},
   "outputs": [
    {
     "name": "stdout",
     "output_type": "stream",
     "text": [
      "11\n",
      "73.0\n",
      "6.636363636363637\n"
     ]
    }
   ],
   "source": [
    "#Mediterranean Consumption\n",
    "mediterranean_df=climate_df.loc[climate_df[\"Climate_Fixed\"]==\"Mediterranean\"]\n",
    "mediterranean_consumption = mediterranean_df[\"consumption_per_capita_(L)\"].sum()\n",
    "mediterranean_avg = mediterranean_df[\"consumption_per_capita_(L)\"].mean()\n",
    "\n",
    "mediterranean_happiness = mediterranean_df[\"happy_score\"].mean()\n",
    "mediterranean_life = mediterranean_df[\"life_expectancy\"].mean()\n",
    "mediterranean_gdp = mediterranean_df[\"gdp_per_capita\"].mean()\n",
    "mediterranean_addiction = mediterranean_df[\"mental_health_and_addiction (%)\"].mean()\n",
    "\n",
    "print(len(mediterranean_df))\n",
    "print(mediterranean_consumption)\n",
    "print(mediterranean_avg)"
   ]
  },
  {
   "cell_type": "code",
   "execution_count": 8,
   "metadata": {},
   "outputs": [
    {
     "name": "stdout",
     "output_type": "stream",
     "text": [
      "5\n",
      "48.0\n",
      "9.6\n"
     ]
    }
   ],
   "source": [
    "#Subarctic Consumption\n",
    "subarctic_df=climate_df.loc[climate_df[\"Climate_Fixed\"]==\"Subarctic\"]\n",
    "subarctic_consumption = subarctic_df[\"consumption_per_capita_(L)\"].sum()\n",
    "subarctic_avg = subarctic_df[\"consumption_per_capita_(L)\"].mean()\n",
    "\n",
    "subarctic_happiness = subarctic_df[\"happy_score\"].mean()\n",
    "subarctic_life = subarctic_df[\"life_expectancy\"].mean()\n",
    "subarctic_gdp = subarctic_df[\"gdp_per_capita\"].mean()\n",
    "subarctic_addiction = subarctic_df[\"mental_health_and_addiction (%)\"].mean()\n",
    "\n",
    "print(len(subarctic_df))\n",
    "print(subarctic_consumption)\n",
    "print(subarctic_avg)"
   ]
  },
  {
   "cell_type": "markdown",
   "metadata": {},
   "source": [
    "Bar Graph of Avg Consumption by Climate Type\n"
   ]
  },
  {
   "cell_type": "code",
   "execution_count": 116,
   "metadata": {},
   "outputs": [
    {
     "data": {
      "text/plain": [
       "([<matplotlib.axis.XTick at 0x21fbc96ba30>,\n",
       "  <matplotlib.axis.XTick at 0x21fbc96ba00>,\n",
       "  <matplotlib.axis.XTick at 0x21fbc9647f0>,\n",
       "  <matplotlib.axis.XTick at 0x21fbc99d3a0>,\n",
       "  <matplotlib.axis.XTick at 0x21fbc99d8b0>,\n",
       "  <matplotlib.axis.XTick at 0x21fbc99ddc0>],\n",
       " [Text(0, 0, 'Temperate'),\n",
       "  Text(0, 0, 'Tropical'),\n",
       "  Text(0, 0, 'Arid'),\n",
       "  Text(0, 0, 'Continental'),\n",
       "  Text(0, 0, 'mediterranean'),\n",
       "  Text(0, 0, 'Subarctic')])"
      ]
     },
     "execution_count": 116,
     "metadata": {},
     "output_type": "execute_result"
    },
    {
     "data": {
      "image/png": "[encoded data removed]",
      "text/plain": [
       "<Figure size 432x288 with 1 Axes>"
      ]
     },
     "metadata": {
      "needs_background": "light"
     },
     "output_type": "display_data"
    }
   ],
   "source": [
    "y = [temperate_avg, tropical_avg, arid_avg, continental_avg, mediterranean_avg, subarctic_avg]\n",
    "x = np.arange(len(y))\n",
    "\n",
    "\n",
    "plt.bar(x, y, color=\"b\", alpha=0.75, align=\"center\")\n",
    "\n",
    "plt.title(\"Average Alcohol Consumption by Climate\")\n",
    "plt.xlabel(\"Climate Type\")\n",
    "plt.ylabel(\"Average Alcohol Consumption Per Capita (Liters)\")\n",
    "\n",
    "tick_locations = [value for value in x]\n",
    "plt.xticks(tick_locations, [\"Temperate\", \"Tropical\", \"Arid\", \"Continental\", \"mediterranean\", \"Subarctic\"], rotation = \"vertical\")"
   ]
  },
  {
   "cell_type": "code",
   "execution_count": 118,
   "metadata": {},
   "outputs": [
    {
     "data": {
      "text/plain": [
       "([<matplotlib.axis.XTick at 0x21fbca23520>,\n",
       "  <matplotlib.axis.XTick at 0x21fbca234f0>,\n",
       "  <matplotlib.axis.XTick at 0x21fbca20190>,\n",
       "  <matplotlib.axis.XTick at 0x21fbca4ad00>,\n",
       "  <matplotlib.axis.XTick at 0x21fbca57250>,\n",
       "  <matplotlib.axis.XTick at 0x21fbca57760>],\n",
       " [Text(0, 0, 'Temperate'),\n",
       "  Text(0, 0, 'Tropical'),\n",
       "  Text(0, 0, 'Arid'),\n",
       "  Text(0, 0, 'Continental'),\n",
       "  Text(0, 0, 'mediterranean'),\n",
       "  Text(0, 0, 'Subarctic')])"
      ]
     },
     "execution_count": 118,
     "metadata": {},
     "output_type": "execute_result"
    },
    {
     "data": {
      "image/png": "[encoded data removed]",
      "text/plain": [
       "<Figure size 432x288 with 1 Axes>"
      ]
     },
     "metadata": {
      "needs_background": "light"
     },
     "output_type": "display_data"
    }
   ],
   "source": [
    "y = [temperate_consumption, tropical_consumption, arid_consumption, continental_consumption, mediterranean_consumption, subarctic_consumption]\n",
    "x = np.arange(len(y))\n",
    "\n",
    "\n",
    "plt.bar(x, y, color=\"r\", alpha=0.75, align=\"center\")\n",
    "\n",
    "plt.title(\"Total Alcohol Consumption by Climate\")\n",
    "plt.xlabel(\"Climate Type\")\n",
    "plt.ylabel(\"Total Alcohol Consumption Per Capita (Liters)\")\n",
    "\n",
    "tick_locations = [value for value in x]\n",
    "plt.xticks(tick_locations, [\"Temperate\", \"Tropical\", \"Arid\", \"Continental\", \"mediterranean\", \"Subarctic\"], rotation = \"vertical\")"
   ]
  },
  {
   "cell_type": "code",
   "execution_count": 15,
   "metadata": {},
   "outputs": [
    {
     "data": {
      "image/png": "[encoded data removed]",
      "text/plain": [
       "<Figure size 432x288 with 1 Axes>"
      ]
     },
     "metadata": {
      "needs_background": "light"
     },
     "output_type": "display_data"
    }
   ],
   "source": [
    "\n",
    "Labels = [\"consumption_per_capita_(L)\", \"happy_score\", \"life_expectancy (y)\", \"gdp_per_capita\", \"mental_health_and_addiction (%)\"]\n",
    "Bins = [\"Temperate\", \"Tropical\", \"Arid\", \"Continental\", \"mediterranean\", \"Subarctic\"]\n",
    "\n",
    "data = np.around([[temperate_avg,tropical_avg,arid_avg,continental_avg,mediterranean_avg,subarctic_avg],\n",
    "                  [temperate_happiness,tropical_happiness,arid_happiness,continental_happiness,mediterranean_happiness,subarctic_happiness],\n",
    "                  [temperate_life,tropical_life,arid_life,continental_life,mediterranean_life,subarctic_life],\n",
    "                  [temperate_gdp,tropical_gdp,arid_gdp,continental_gdp,mediterranean_gdp,subarctic_gdp],\n",
    "                  [temperate_addiction,tropical_addiction,arid_addiction,continental_addiction,mediterranean_addiction,subarctic_addiction]])\n",
    "\n",
    "\n",
    "fig, ax = plt.subplots()\n",
    "im = ax.imshow(data)\n",
    "\n",
    "#define bounds of array equal to number of labels\n",
    "ax.set_xticks(np.arange(len(Bins)))\n",
    "ax.set_yticks(np.arange(len(Labels)))\n",
    "#Label each Axis\n",
    "ax.set_xticklabels(Bins)\n",
    "ax.set_yticklabels(Labels)\n",
    "#Rotate Labels\n",
    "plt.setp(ax.get_xticklabels(), rotation=45, ha=\"right\",\n",
    "         rotation_mode=\"anchor\")\n",
    "\n",
    "\n",
    "\n",
    "\n",
    "for i in range(len(Labels)):\n",
    "    for j in range(len(Bins)):\n",
    "        text = ax.text(j, i, data[i, j],\n",
    "                       ha=\"center\", va=\"center\", color=\"w\")\n",
    "\n",
    "\n",
    "ax.set_title(\"\")\n",
    "fig.tight_layout()\n",
    "plt.show()"
   ]
  },
  {
   "cell_type": "markdown",
   "metadata": {},
   "source": [
    "# Matrix excluding Life Expectancy"
   ]
  },
  {
   "cell_type": "code",
   "execution_count": 17,
   "metadata": {},
   "outputs": [
    {
     "data": {
      "image/png": "[encoded data removed]",
      "text/plain": [
       "<Figure size 432x288 with 1 Axes>"
      ]
     },
     "metadata": {
      "needs_background": "light"
     },
     "output_type": "display_data"
    }
   ],
   "source": [
    "\n",
    "Labels = [\"consumption_per_capita_(L)\", \"happy_score\", \"gdp_per_capita\", \"mental_health_and_addiction (%)\"]\n",
    "Bins = [\"Temperate\", \"Tropical\", \"Arid\", \"Continental\", \"mediterranean\", \"Subarctic\"]\n",
    "\n",
    "data = np.around([[temperate_avg,tropical_avg,arid_avg,continental_avg,mediterranean_avg,subarctic_avg],\n",
    "                  [temperate_happiness,tropical_happiness,arid_happiness,continental_happiness,mediterranean_happiness,subarctic_happiness],\n",
    "                  [temperate_gdp,tropical_gdp,arid_gdp,continental_gdp,mediterranean_gdp,subarctic_gdp],\n",
    "                  [temperate_addiction,tropical_addiction,arid_addiction,continental_addiction,mediterranean_addiction,subarctic_addiction]])\n",
    "\n",
    "\n",
    "fig, ax = plt.subplots()\n",
    "im = ax.imshow(data)\n",
    "\n",
    "#define bounds of array equal to number of labels\n",
    "ax.set_xticks(np.arange(len(Bins)))\n",
    "ax.set_yticks(np.arange(len(Labels)))\n",
    "#Label each Axis\n",
    "ax.set_xticklabels(Bins)\n",
    "ax.set_yticklabels(Labels)\n",
    "#Rotate Labels\n",
    "plt.setp(ax.get_xticklabels(), rotation=45, ha=\"right\",\n",
    "         rotation_mode=\"anchor\")\n",
    "\n",
    "\n",
    "\n",
    "\n",
    "for i in range(len(Labels)):\n",
    "    for j in range(len(Bins)):\n",
    "        text = ax.text(j, i, data[i, j],\n",
    "                       ha=\"center\", va=\"center\", color=\"w\")\n",
    "\n",
    "\n",
    "ax.set_title(\"\")\n",
    "fig.tight_layout()\n",
    "plt.show()"
   ]
  },
  {
   "cell_type": "code",
   "execution_count": null,
   "metadata": {},
   "outputs": [],
   "source": []
  }
 ],
 "metadata": {
  "kernelspec": {
   "display_name": "Python 3",
   "language": "python",
   "name": "python3"
  },
  "language_info": {
   "codemirror_mode": {
    "name": "ipython",
    "version": 3
   },
   "file_extension": ".py",
   "mimetype": "text/x-python",
   "name": "python",
   "nbconvert_exporter": "python",
   "pygments_lexer": "ipython3",
   "version": "3.8.3"
  }
 },
 "nbformat": 4,
 "nbformat_minor": 4
}
