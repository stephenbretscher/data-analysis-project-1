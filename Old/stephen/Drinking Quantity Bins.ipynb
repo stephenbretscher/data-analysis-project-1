{
 "cells": [
  {
   "cell_type": "code",
   "execution_count": 1,
   "metadata": {},
   "outputs": [],
   "source": [
    "import matplotlib.pyplot as plt\n",
    "import pandas as pd\n",
    "import scipy.stats as st\n",
    "import numpy as np\n",
    "import math"
   ]
  },
  {
   "cell_type": "code",
   "execution_count": 2,
   "metadata": {},
   "outputs": [],
   "source": [
    "stats = \"Resources/climate_finished.csv\"\n",
    "\n",
    "stats_df  = pd.read_csv(stats)"
   ]
  },
  {
   "cell_type": "code",
   "execution_count": 3,
   "metadata": {},
   "outputs": [
    {
     "data": {
      "text/plain": [
       "count    186.000000\n",
       "mean       6.165054\n",
       "std        4.080171\n",
       "min        0.000000\n",
       "25%        2.425000\n",
       "50%        6.250000\n",
       "75%        9.400000\n",
       "max       15.200000\n",
       "Name: consumption_per_capita_(L), dtype: float64"
      ]
     },
     "execution_count": 3,
     "metadata": {},
     "output_type": "execute_result"
    }
   ],
   "source": [
    "stats_df[\"consumption_per_capita_(L)\"].describe()"
   ]
  },
  {
   "cell_type": "code",
   "execution_count": 4,
   "metadata": {},
   "outputs": [
    {
     "data": {
      "text/plain": [
       "0      (-0.0152, 3.04]\n",
       "1         (6.08, 9.12]\n",
       "2      (-0.0152, 3.04]\n",
       "3        (9.12, 12.16]\n",
       "4         (6.08, 9.12]\n",
       "            ...       \n",
       "181    (-0.0152, 3.04]\n",
       "182       (3.04, 6.08]\n",
       "183    (-0.0152, 3.04]\n",
       "184    (-0.0152, 3.04]\n",
       "185       (3.04, 6.08]\n",
       "Name: consumption_per_capita_(L), Length: 186, dtype: category\n",
       "Categories (5, interval[float64]): [(-0.0152, 3.04] < (3.04, 6.08] < (6.08, 9.12] < (9.12, 12.16] < (12.16, 15.2]]"
      ]
     },
     "execution_count": 4,
     "metadata": {},
     "output_type": "execute_result"
    }
   ],
   "source": [
    "pd.cut(stats_df[\"consumption_per_capita_(L)\"], bins=5)"
   ]
  },
  {
   "cell_type": "markdown",
   "metadata": {},
   "source": [
    "Alison This Cell Here !\n"
   ]
  },
  {
   "cell_type": "code",
   "execution_count": 5,
   "metadata": {},
   "outputs": [
    {
     "data": {
      "text/html": [
       "<div>\n",
       "<style scoped>\n",
       "    .dataframe tbody tr th:only-of-type {\n",
       "        vertical-align: middle;\n",
       "    }\n",
       "\n",
       "    .dataframe tbody tr th {\n",
       "        vertical-align: top;\n",
       "    }\n",
       "\n",
       "    .dataframe thead th {\n",
       "        text-align: right;\n",
       "    }\n",
       "</style>\n",
       "<table border=\"1\" class=\"dataframe\">\n",
       "  <thead>\n",
       "    <tr style=\"text-align: right;\">\n",
       "      <th></th>\n",
       "      <th>Unnamed: 0</th>\n",
       "      <th>Unnamed: 0.1</th>\n",
       "      <th>continent</th>\n",
       "      <th>country_code</th>\n",
       "      <th>country</th>\n",
       "      <th>consumption_per_capita_(L)</th>\n",
       "      <th>climate</th>\n",
       "      <th>main_export</th>\n",
       "      <th>main_industry</th>\n",
       "      <th>region</th>\n",
       "      <th>happy_score</th>\n",
       "      <th>life_expectancy</th>\n",
       "      <th>gdp_per_capita</th>\n",
       "      <th>code</th>\n",
       "      <th>mental_health_and_addiction (%)</th>\n",
       "      <th>Climate_Fixed</th>\n",
       "      <th>Drinking_Bins</th>\n",
       "    </tr>\n",
       "  </thead>\n",
       "  <tbody>\n",
       "    <tr>\n",
       "      <th>0</th>\n",
       "      <td>0</td>\n",
       "      <td>0</td>\n",
       "      <td>Asia</td>\n",
       "      <td>AFG</td>\n",
       "      <td>Afghanistan</td>\n",
       "      <td>0.2</td>\n",
       "      <td>arid to semiarid; cold winters and hot summers</td>\n",
       "      <td>Fruit and nuts</td>\n",
       "      <td>small-scale production of bricks</td>\n",
       "      <td>South Asia</td>\n",
       "      <td>2.5669</td>\n",
       "      <td>52.590000</td>\n",
       "      <td>7.462861</td>\n",
       "      <td>AFG</td>\n",
       "      <td>17.553463</td>\n",
       "      <td>Arid</td>\n",
       "      <td>Very Light</td>\n",
       "    </tr>\n",
       "    <tr>\n",
       "      <th>1</th>\n",
       "      <td>1</td>\n",
       "      <td>1</td>\n",
       "      <td>Europe</td>\n",
       "      <td>ALB</td>\n",
       "      <td>Albania</td>\n",
       "      <td>7.5</td>\n",
       "      <td>mild Temperate; cool, cloudy, wet winters; hot...</td>\n",
       "      <td>Chromium and chrome products</td>\n",
       "      <td>perfumes and cosmetic products</td>\n",
       "      <td>Central and Eastern Europe</td>\n",
       "      <td>4.8827</td>\n",
       "      <td>68.708138</td>\n",
       "      <td>9.417931</td>\n",
       "      <td>ALB</td>\n",
       "      <td>10.987610</td>\n",
       "      <td>Temperate</td>\n",
       "      <td>Heavy</td>\n",
       "    </tr>\n",
       "    <tr>\n",
       "      <th>2</th>\n",
       "      <td>2</td>\n",
       "      <td>4942</td>\n",
       "      <td>Africa</td>\n",
       "      <td>DZA</td>\n",
       "      <td>Algeria</td>\n",
       "      <td>0.9</td>\n",
       "      <td>arid to semiarid; mild, wet winters with hot, ...</td>\n",
       "      <td>Oil</td>\n",
       "      <td>petroleum</td>\n",
       "      <td>Middle East and North Africa</td>\n",
       "      <td>5.0051</td>\n",
       "      <td>65.905174</td>\n",
       "      <td>9.537965</td>\n",
       "      <td>DZA</td>\n",
       "      <td>14.700388</td>\n",
       "      <td>Arid</td>\n",
       "      <td>Very Light</td>\n",
       "    </tr>\n",
       "    <tr>\n",
       "      <th>3</th>\n",
       "      <td>3</td>\n",
       "      <td>4943</td>\n",
       "      <td>Europe</td>\n",
       "      <td>AND</td>\n",
       "      <td>Andorra</td>\n",
       "      <td>11.3</td>\n",
       "      <td>Temperate; snowy, cold winters and warm, dry s...</td>\n",
       "      <td>Tobacco products</td>\n",
       "      <td>tourism</td>\n",
       "      <td>NaN</td>\n",
       "      <td>NaN</td>\n",
       "      <td>NaN</td>\n",
       "      <td>NaN</td>\n",
       "      <td>AND</td>\n",
       "      <td>14.726869</td>\n",
       "      <td>Temperate</td>\n",
       "      <td>Very Heavy</td>\n",
       "    </tr>\n",
       "    <tr>\n",
       "      <th>4</th>\n",
       "      <td>4</td>\n",
       "      <td>4944</td>\n",
       "      <td>Africa</td>\n",
       "      <td>AGO</td>\n",
       "      <td>Angola</td>\n",
       "      <td>6.4</td>\n",
       "      <td>semiarid in south and along coast to Luanda; n...</td>\n",
       "      <td>Oil</td>\n",
       "      <td>petroleum</td>\n",
       "      <td>NaN</td>\n",
       "      <td>NaN</td>\n",
       "      <td>NaN</td>\n",
       "      <td>NaN</td>\n",
       "      <td>AGO</td>\n",
       "      <td>12.498281</td>\n",
       "      <td>Tropical</td>\n",
       "      <td>Medium</td>\n",
       "    </tr>\n",
       "  </tbody>\n",
       "</table>\n",
       "</div>"
      ],
      "text/plain": [
       "   Unnamed: 0  Unnamed: 0.1 continent country_code      country  \\\n",
       "0           0             0      Asia          AFG  Afghanistan   \n",
       "1           1             1    Europe          ALB      Albania   \n",
       "2           2          4942    Africa          DZA      Algeria   \n",
       "3           3          4943    Europe          AND      Andorra   \n",
       "4           4          4944    Africa          AGO       Angola   \n",
       "\n",
       "   consumption_per_capita_(L)  \\\n",
       "0                         0.2   \n",
       "1                         7.5   \n",
       "2                         0.9   \n",
       "3                        11.3   \n",
       "4                         6.4   \n",
       "\n",
       "                                             climate  \\\n",
       "0     arid to semiarid; cold winters and hot summers   \n",
       "1  mild Temperate; cool, cloudy, wet winters; hot...   \n",
       "2  arid to semiarid; mild, wet winters with hot, ...   \n",
       "3  Temperate; snowy, cold winters and warm, dry s...   \n",
       "4  semiarid in south and along coast to Luanda; n...   \n",
       "\n",
       "                    main_export                     main_industry  \\\n",
       "0                Fruit and nuts  small-scale production of bricks   \n",
       "1  Chromium and chrome products    perfumes and cosmetic products   \n",
       "2                           Oil                         petroleum   \n",
       "3              Tobacco products                          tourism    \n",
       "4                           Oil                         petroleum   \n",
       "\n",
       "                         region  happy_score  life_expectancy  gdp_per_capita  \\\n",
       "0                    South Asia       2.5669        52.590000        7.462861   \n",
       "1    Central and Eastern Europe       4.8827        68.708138        9.417931   \n",
       "2  Middle East and North Africa       5.0051        65.905174        9.537965   \n",
       "3                           NaN          NaN              NaN             NaN   \n",
       "4                           NaN          NaN              NaN             NaN   \n",
       "\n",
       "  code  mental_health_and_addiction (%) Climate_Fixed Drinking_Bins  \n",
       "0  AFG                        17.553463          Arid    Very Light  \n",
       "1  ALB                        10.987610     Temperate         Heavy  \n",
       "2  DZA                        14.700388          Arid    Very Light  \n",
       "3  AND                        14.726869     Temperate    Very Heavy  \n",
       "4  AGO                        12.498281      Tropical        Medium  "
      ]
     },
     "execution_count": 5,
     "metadata": {},
     "output_type": "execute_result"
    }
   ],
   "source": [
    "\n",
    "cut_labels = [\"Very Light\", \"Light\", \"Medium\", \"Heavy\", \"Very Heavy\"]\n",
    "cut_bins = [0, 1, 4, 7, 10, 20]\n",
    "stats_df[\"Drinking_Bins\"] = pd.cut(stats_df[\"consumption_per_capita_(L)\"], bins=cut_bins, labels=cut_labels)\n",
    "stats_df.head()"
   ]
  },
  {
   "cell_type": "code",
   "execution_count": 6,
   "metadata": {},
   "outputs": [
    {
     "data": {
      "text/plain": [
       "Heavy         45\n",
       "Light         40\n",
       "Very Heavy    37\n",
       "Medium        36\n",
       "Very Light    23\n",
       "Name: Drinking_Bins, dtype: int64"
      ]
     },
     "execution_count": 6,
     "metadata": {},
     "output_type": "execute_result"
    }
   ],
   "source": [
    "stats_df[\"Drinking_Bins\"].value_counts()"
   ]
  },
  {
   "cell_type": "markdown",
   "metadata": {},
   "source": [
    "Seperate into separate DataFrames"
   ]
  },
  {
   "cell_type": "code",
   "execution_count": 7,
   "metadata": {},
   "outputs": [
    {
     "name": "stdout",
     "output_type": "stream",
     "text": [
      "[[0.07311828 0.54408602 1.09301075 2.0844086  2.37043011]]\n"
     ]
    }
   ],
   "source": [
    "drinking_bins = [\"Very Light\", \"Light\", \"Medium\", \"Heavy\", \"Very Heavy\"]\n",
    "consumption_values = []\n",
    "country_number = []\n",
    "\n",
    "for drinking_bins in drinking_bins:\n",
    "    bins_df = stats_df.loc[stats_df[\"Drinking_Bins\"] == drinking_bins]\n",
    "    \n",
    "    values=bins_df[\"consumption_per_capita_(L)\"].sum()\n",
    "    consumption_values.append(values)\n",
    "    \n",
    "    number = len(stats_df)\n",
    "    country_number.append(number)\n",
    "    \n",
    "    avg_consumption_bins = np.array([consumption_values])/np.array([country_number])\n",
    "\n",
    "print(avg_consumption_bins)"
   ]
  },
  {
   "cell_type": "code",
   "execution_count": 8,
   "metadata": {},
   "outputs": [
    {
     "name": "stdout",
     "output_type": "stream",
     "text": [
      "0.591304347826087\n",
      "4.784356251312501\n",
      "61.586327790625006\n",
      "8.9320933815\n",
      "13.588588626086958\n"
     ]
    }
   ],
   "source": [
    "#Create a dataframe for each bin \n",
    "very_light_df = stats_df.loc[stats_df['Drinking_Bins']=='Very Light']\n",
    "\n",
    "very_light_df.round(2)\n",
    "#averages\n",
    "very_light_consumption = very_light_df[\"consumption_per_capita_(L)\"].mean()\n",
    "very_light_happiness = very_light_df[\"happy_score\"].mean()\n",
    "very_light_life = very_light_df[\"life_expectancy\"].mean()\n",
    "very_light_gdp = very_light_df[\"gdp_per_capita\"].mean()\n",
    "very_light_addiction = very_light_df[\"mental_health_and_addiction (%)\"].mean()\n",
    "\n",
    "\n",
    "\n",
    "\n",
    "print(very_light_consumption)\n",
    "print(very_light_happiness)\n",
    "print(very_light_life)\n",
    "print(very_light_gdp)\n",
    "print(very_light_addiction)\n"
   ]
  },
  {
   "cell_type": "code",
   "execution_count": 9,
   "metadata": {},
   "outputs": [
    {
     "name": "stdout",
     "output_type": "stream",
     "text": [
      "2.53 5.2051606944642845 61.61110319428571 8.570028322035714 12.353983505128205\n"
     ]
    }
   ],
   "source": [
    "light_df = stats_df.loc[stats_df['Drinking_Bins']=='Light']\n",
    "\n",
    "light_consumption = light_df[\"consumption_per_capita_(L)\"].mean()\n",
    "light_happiness = light_df[\"happy_score\"].mean()\n",
    "light_life = light_df[\"life_expectancy\"].mean()\n",
    "light_gdp = light_df[\"gdp_per_capita\"].mean()\n",
    "light_addiction = light_df[\"mental_health_and_addiction (%)\"].mean()\n",
    "\n",
    "print(light_consumption,light_happiness,light_life, light_gdp,light_addiction)"
   ]
  },
  {
   "cell_type": "code",
   "execution_count": 10,
   "metadata": {},
   "outputs": [
    {
     "name": "stdout",
     "output_type": "stream",
     "text": [
      "5.647222222222223 5.079172010480001 62.664390411599996 8.762150802640003 12.320441922571424\n"
     ]
    }
   ],
   "source": [
    "medium_df = stats_df.loc[stats_df['Drinking_Bins']=='Medium']\n",
    "\n",
    "medium_consumption = medium_df[\"consumption_per_capita_(L)\"].mean()\n",
    "medium_happiness = medium_df[\"happy_score\"].mean()\n",
    "medium_life = medium_df[\"life_expectancy\"].mean()\n",
    "medium_gdp = medium_df[\"gdp_per_capita\"].mean()\n",
    "medium_addiction = medium_df[\"mental_health_and_addiction (%)\"].mean()\n",
    "\n",
    "print(medium_consumption,medium_happiness,medium_life,medium_gdp,medium_addiction)"
   ]
  },
  {
   "cell_type": "code",
   "execution_count": 11,
   "metadata": {},
   "outputs": [
    {
     "name": "stdout",
     "output_type": "stream",
     "text": [
      "8.615555555555556 5.629619986657144 65.8943797522857 9.568910789999997 13.171500725681824\n"
     ]
    }
   ],
   "source": [
    "heavy_df = stats_df.loc[stats_df['Drinking_Bins']=='Heavy']\n",
    "\n",
    "heavy_consumption = heavy_df[\"consumption_per_capita_(L)\"].mean()\n",
    "heavy_happiness = heavy_df[\"happy_score\"].mean()\n",
    "heavy_life = heavy_df[\"life_expectancy\"].mean()\n",
    "heavy_gdp = heavy_df[\"gdp_per_capita\"].mean()\n",
    "heavy_addiction = heavy_df[\"mental_health_and_addiction (%)\"].mean()\n",
    "\n",
    "print(heavy_consumption, heavy_happiness, heavy_life, heavy_gdp, heavy_addiction)"
   ]
  },
  {
   "cell_type": "code",
   "execution_count": 12,
   "metadata": {},
   "outputs": [
    {
     "name": "stdout",
     "output_type": "stream",
     "text": [
      "11.916216216216217 6.302539377515151 69.08792576666667 10.252519087363638 13.515031362162162\n"
     ]
    }
   ],
   "source": [
    "very_heavy_df = stats_df.loc[stats_df['Drinking_Bins']=='Very Heavy']\n",
    "\n",
    "very_heavy_consumption = very_heavy_df[\"consumption_per_capita_(L)\"].mean()\n",
    "very_heavy_happiness = very_heavy_df[\"happy_score\"].mean()\n",
    "very_heavy_life = very_heavy_df[\"life_expectancy\"].mean()\n",
    "very_heavy_gdp = very_heavy_df[\"gdp_per_capita\"].mean()\n",
    "very_heavy_addiction = very_heavy_df[\"mental_health_and_addiction (%)\"].mean()\n",
    "\n",
    "print(very_heavy_consumption,very_heavy_happiness,very_heavy_life,very_heavy_gdp,very_heavy_addiction)"
   ]
  },
  {
   "cell_type": "code",
   "execution_count": null,
   "metadata": {},
   "outputs": [],
   "source": []
  },
  {
   "cell_type": "code",
   "execution_count": 15,
   "metadata": {},
   "outputs": [
    {
     "data": {
      "image/png": "[encoded data removed]",
      "text/plain": [
       "<Figure size 432x288 with 1 Axes>"
      ]
     },
     "metadata": {
      "needs_background": "light"
     },
     "output_type": "display_data"
    }
   ],
   "source": [
    "\n",
    "\n",
    "Labels = [\"consumption_per_capita_(L)\", \"happy_score\", \"life_expectancy (y)\", \"gdp_per_capita\", \"mental_health_and_addiction (%)\"]\n",
    "Bins = [\"Very Light\", \"Light\", \"Medium\", \"Heavy\", \"Very Heavy\"]\n",
    "\n",
    "#Creates array and rounds to 2 decimal places\n",
    "data = np.around([[very_light_consumption,light_consumption,medium_consumption,heavy_consumption,very_heavy_consumption],\n",
    "                 [very_light_happiness,light_happiness,medium_happiness,heavy_happiness,very_heavy_happiness],\n",
    "                 [very_light_life,light_life,medium_life,heavy_life,medium_life],\n",
    "                 [very_light_gdp,light_gdp,medium_gdp,heavy_gdp,heavy_gdp],\n",
    "                 [very_light_addiction,light_addiction,medium_addiction,heavy_addiction,very_heavy_addiction]], decimals=2)\n",
    "\n",
    "\n",
    "\n",
    "\n",
    "\n",
    "#test array\n",
    "#data = np.array([[0.8, 2.4, 2.5, 3.9, 0.0, 4.0, 0.0],\n",
    "#                [2.4, 0.0, 4.0, 1.0, 2.7, 0.0, 0.0]])\n",
    "\n",
    "fig, ax = plt.subplots()\n",
    "im = ax.imshow(data)\n",
    "\n",
    "#define bounds of array equal to number of labels\n",
    "ax.set_xticks(np.arange(len(Bins)))\n",
    "ax.set_yticks(np.arange(len(Labels)))\n",
    "#Label each Axis\n",
    "ax.set_xticklabels(Bins)\n",
    "ax.set_yticklabels(Labels)\n",
    "#Rotate Labels\n",
    "plt.setp(ax.get_xticklabels(), rotation=45, ha=\"right\",\n",
    "         rotation_mode=\"anchor\")\n",
    "\n",
    "\n",
    "for i in range(len(Labels)):\n",
    "    for j in range(len(Bins)):\n",
    "        text = ax.text(j, i, data[i, j],\n",
    "                       ha=\"center\", va=\"center\", color=\"w\")\n",
    "        \n",
    "\n",
    "ax.set_title(\"\")\n",
    "fig.tight_layout()\n",
    "plt.show()"
   ]
  },
  {
   "cell_type": "code",
   "execution_count": 17,
   "metadata": {},
   "outputs": [],
   "source": [
    "stats_df.to_csv(\"finished_df.csv\")"
   ]
  },
  {
   "cell_type": "markdown",
   "metadata": {},
   "source": [
    "# Analysis\n",
    "\n",
    "\n",
    "-Initial thoughts\n",
    "\n",
    "-Process\n",
    "\n",
    "-Findings\n"
   ]
  },
  {
   "cell_type": "markdown",
   "metadata": {},
   "source": [
    "# Matrix excluding life expectancy"
   ]
  },
  {
   "cell_type": "code",
   "execution_count": 19,
   "metadata": {},
   "outputs": [
    {
     "data": {
      "image/png": "[encoded data removed]",
      "text/plain": [
       "<Figure size 432x288 with 1 Axes>"
      ]
     },
     "metadata": {
      "needs_background": "light"
     },
     "output_type": "display_data"
    }
   ],
   "source": [
    "\n",
    "\n",
    "Labels = [\"consumption_per_capita_(L)\", \"happy_score\", \"gdp_per_capita\", \"mental_health_and_addiction (%)\"]\n",
    "Bins = [\"Very Light\", \"Light\", \"Medium\", \"Heavy\", \"Very Heavy\"]\n",
    "\n",
    "#Creates array and rounds to 2 decimal places\n",
    "data = np.around([[very_light_consumption,light_consumption,medium_consumption,heavy_consumption,very_heavy_consumption],\n",
    "                 [very_light_happiness,light_happiness,medium_happiness,heavy_happiness,very_heavy_happiness],\n",
    "                 [very_light_gdp,light_gdp,medium_gdp,heavy_gdp,heavy_gdp],\n",
    "                 [very_light_addiction,light_addiction,medium_addiction,heavy_addiction,very_heavy_addiction]], decimals=2)\n",
    "\n",
    "\n",
    "\n",
    "\n",
    "\n",
    "#test array\n",
    "#data = np.array([[0.8, 2.4, 2.5, 3.9, 0.0, 4.0, 0.0],\n",
    "#                [2.4, 0.0, 4.0, 1.0, 2.7, 0.0, 0.0]])\n",
    "\n",
    "fig, ax = plt.subplots()\n",
    "im = ax.imshow(data)\n",
    "\n",
    "#define bounds of array equal to number of labels\n",
    "ax.set_xticks(np.arange(len(Bins)))\n",
    "ax.set_yticks(np.arange(len(Labels)))\n",
    "#Label each Axis\n",
    "ax.set_xticklabels(Bins)\n",
    "ax.set_yticklabels(Labels)\n",
    "#Rotate Labels\n",
    "plt.setp(ax.get_xticklabels(), rotation=45, ha=\"right\",\n",
    "         rotation_mode=\"anchor\")\n",
    "\n",
    "\n",
    "for i in range(len(Labels)):\n",
    "    for j in range(len(Bins)):\n",
    "        text = ax.text(j, i, data[i, j],\n",
    "                       ha=\"center\", va=\"center\", color=\"w\")\n",
    "        \n",
    "\n",
    "ax.set_title(\"\")\n",
    "fig.tight_layout()\n",
    "plt.show()"
   ]
  },
  {
   "cell_type": "code",
   "execution_count": null,
   "metadata": {},
   "outputs": [],
   "source": []
  }
 ],
 "metadata": {
  "kernelspec": {
   "display_name": "Python 3",
   "language": "python",
   "name": "python3"
  },
  "language_info": {
   "codemirror_mode": {
    "name": "ipython",
    "version": 3
   },
   "file_extension": ".py",
   "mimetype": "text/x-python",
   "name": "python",
   "nbconvert_exporter": "python",
   "pygments_lexer": "ipython3",
   "version": "3.8.3"
  }
 },
 "nbformat": 4,
 "nbformat_minor": 4
}
