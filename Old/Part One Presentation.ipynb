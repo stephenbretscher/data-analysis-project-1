{
 "cells": [
  {
   "cell_type": "markdown",
   "metadata": {},
   "source": [
    "# Data Analysis Project 1 - Worldwide Alcohol Consumption Analysis\n"
   ]
  },
  {
   "cell_type": "markdown",
   "metadata": {},
   "source": [
    "# How is alcohol consumption different across geography?\n",
    "\n"
   ]
  },
  {
   "cell_type": "markdown",
   "metadata": {},
   "source": [
    "## Part One - Basic Set Up"
   ]
  },
  {
   "cell_type": "code",
   "execution_count": 131,
   "metadata": {},
   "outputs": [],
   "source": [
    "# Import Dependencies\n",
    "import matplotlib.pyplot as plt\n",
    "import pandas as pd\n",
    "import scipy.stats as st\n",
    "import numpy as np\n",
    "from IPython.display import display\n",
    "import seaborn as sn\n",
    "from pandas import DataFrame\n",
    "import requests\n",
    "import gmaps\n",
    "import os\n",
    "from pprint import pprint\n",
    "import re \n",
    "\n",
    "# Import API key\n",
    "from api_keys import g_key\n",
    "from api_keys import weather_key"
   ]
  },
  {
   "cell_type": "code",
   "execution_count": 132,
   "metadata": {},
   "outputs": [],
   "source": [
    "# File to load\n",
    "final_file = \"Resources/mega_df.csv\"\n",
    "\n",
    "# Read csv and store into Pandas DataFrames\n",
    "df = pd.read_csv(final_file)"
   ]
  },
  {
   "cell_type": "code",
   "execution_count": 133,
   "metadata": {},
   "outputs": [
    {
     "data": {
      "text/html": [
       "<div>\n",
       "<style scoped>\n",
       "    .dataframe tbody tr th:only-of-type {\n",
       "        vertical-align: middle;\n",
       "    }\n",
       "\n",
       "    .dataframe tbody tr th {\n",
       "        vertical-align: top;\n",
       "    }\n",
       "\n",
       "    .dataframe thead th {\n",
       "        text-align: right;\n",
       "    }\n",
       "</style>\n",
       "<table border=\"1\" class=\"dataframe\">\n",
       "  <thead>\n",
       "    <tr style=\"text-align: right;\">\n",
       "      <th></th>\n",
       "      <th>continent</th>\n",
       "      <th>country_code</th>\n",
       "      <th>country</th>\n",
       "      <th>consumption_per_capita_(L)</th>\n",
       "      <th>climate</th>\n",
       "      <th>main_export</th>\n",
       "      <th>main_industry</th>\n",
       "      <th>region</th>\n",
       "      <th>happy_score</th>\n",
       "      <th>life_expectancy</th>\n",
       "      <th>gdp_per_capita</th>\n",
       "      <th>mental_health_and_addiction (%)</th>\n",
       "      <th>capital</th>\n",
       "    </tr>\n",
       "  </thead>\n",
       "  <tbody>\n",
       "    <tr>\n",
       "      <th>0</th>\n",
       "      <td>Asia</td>\n",
       "      <td>AFG</td>\n",
       "      <td>Afghanistan</td>\n",
       "      <td>0.2</td>\n",
       "      <td>arid to semiarid; cold winters and hot summers</td>\n",
       "      <td>Fruit and nuts</td>\n",
       "      <td>small-scale production of bricks</td>\n",
       "      <td>South Asia</td>\n",
       "      <td>2.5669</td>\n",
       "      <td>52.590000</td>\n",
       "      <td>7.462861</td>\n",
       "      <td>17.553463</td>\n",
       "      <td>Kabul</td>\n",
       "    </tr>\n",
       "    <tr>\n",
       "      <th>1</th>\n",
       "      <td>Europe</td>\n",
       "      <td>ALB</td>\n",
       "      <td>Albania</td>\n",
       "      <td>7.5</td>\n",
       "      <td>mild temperate; cool, cloudy, wet winters; hot...</td>\n",
       "      <td>Chromium and chrome products</td>\n",
       "      <td>perfumes and cosmetic products</td>\n",
       "      <td>Central and Eastern Europe</td>\n",
       "      <td>4.8827</td>\n",
       "      <td>68.708138</td>\n",
       "      <td>9.417931</td>\n",
       "      <td>10.987610</td>\n",
       "      <td>Tirana</td>\n",
       "    </tr>\n",
       "    <tr>\n",
       "      <th>2</th>\n",
       "      <td>Africa</td>\n",
       "      <td>DZA</td>\n",
       "      <td>Algeria</td>\n",
       "      <td>0.9</td>\n",
       "      <td>arid to semiarid; mild, wet winters with hot, ...</td>\n",
       "      <td>Oil</td>\n",
       "      <td>petroleum</td>\n",
       "      <td>Middle East and North Africa</td>\n",
       "      <td>5.0051</td>\n",
       "      <td>65.905174</td>\n",
       "      <td>9.537965</td>\n",
       "      <td>14.700388</td>\n",
       "      <td>Algiers</td>\n",
       "    </tr>\n",
       "    <tr>\n",
       "      <th>3</th>\n",
       "      <td>Europe</td>\n",
       "      <td>AND</td>\n",
       "      <td>Andorra</td>\n",
       "      <td>11.3</td>\n",
       "      <td>temperate; snowy, cold winters and warm, dry s...</td>\n",
       "      <td>Tobacco products</td>\n",
       "      <td>tourism</td>\n",
       "      <td>NaN</td>\n",
       "      <td>NaN</td>\n",
       "      <td>NaN</td>\n",
       "      <td>NaN</td>\n",
       "      <td>14.726869</td>\n",
       "      <td>Andorra la Vella</td>\n",
       "    </tr>\n",
       "    <tr>\n",
       "      <th>4</th>\n",
       "      <td>Africa</td>\n",
       "      <td>AGO</td>\n",
       "      <td>Angola</td>\n",
       "      <td>6.4</td>\n",
       "      <td>semiarid in south and along coast to Luanda; n...</td>\n",
       "      <td>Oil</td>\n",
       "      <td>petroleum</td>\n",
       "      <td>NaN</td>\n",
       "      <td>NaN</td>\n",
       "      <td>NaN</td>\n",
       "      <td>NaN</td>\n",
       "      <td>12.498281</td>\n",
       "      <td>Luanda</td>\n",
       "    </tr>\n",
       "  </tbody>\n",
       "</table>\n",
       "</div>"
      ],
      "text/plain": [
       "  continent country_code      country  consumption_per_capita_(L)  \\\n",
       "0      Asia          AFG  Afghanistan                         0.2   \n",
       "1    Europe          ALB      Albania                         7.5   \n",
       "2    Africa          DZA      Algeria                         0.9   \n",
       "3    Europe          AND      Andorra                        11.3   \n",
       "4    Africa          AGO       Angola                         6.4   \n",
       "\n",
       "                                             climate  \\\n",
       "0     arid to semiarid; cold winters and hot summers   \n",
       "1  mild temperate; cool, cloudy, wet winters; hot...   \n",
       "2  arid to semiarid; mild, wet winters with hot, ...   \n",
       "3  temperate; snowy, cold winters and warm, dry s...   \n",
       "4  semiarid in south and along coast to Luanda; n...   \n",
       "\n",
       "                    main_export                     main_industry  \\\n",
       "0                Fruit and nuts  small-scale production of bricks   \n",
       "1  Chromium and chrome products    perfumes and cosmetic products   \n",
       "2                           Oil                         petroleum   \n",
       "3              Tobacco products                          tourism    \n",
       "4                           Oil                         petroleum   \n",
       "\n",
       "                         region  happy_score  life_expectancy  gdp_per_capita  \\\n",
       "0                    South Asia       2.5669        52.590000        7.462861   \n",
       "1    Central and Eastern Europe       4.8827        68.708138        9.417931   \n",
       "2  Middle East and North Africa       5.0051        65.905174        9.537965   \n",
       "3                           NaN          NaN              NaN             NaN   \n",
       "4                           NaN          NaN              NaN             NaN   \n",
       "\n",
       "   mental_health_and_addiction (%)           capital  \n",
       "0                        17.553463             Kabul  \n",
       "1                        10.987610            Tirana  \n",
       "2                        14.700388           Algiers  \n",
       "3                        14.726869  Andorra la Vella  \n",
       "4                        12.498281            Luanda  "
      ]
     },
     "execution_count": 133,
     "metadata": {},
     "output_type": "execute_result"
    }
   ],
   "source": [
    "# Drop duplicate indexes\n",
    "df.drop('Unnamed: 0', axis=1, inplace=True)\n",
    "df.drop('index', axis=1, inplace=True)\n",
    "df.drop('code', axis=1, inplace=True)\n",
    "\n",
    "# Display first five records of dataframe\n",
    "df_copy = df\n",
    "df.head() "
   ]
  },
  {
   "cell_type": "markdown",
   "metadata": {},
   "source": [
    "## Part Two - Data Summary\n",
    "* Display a list of columns in the dataset\n",
    "* Display a list of regions in the dataset\n",
    "* Display a list of countries in the dataset\n",
    "* Calculate total number of countries\n",
    "* Calculate overall average alcohol consumption"
   ]
  },
  {
   "cell_type": "markdown",
   "metadata": {},
   "source": [
    "####  Display a list of columns"
   ]
  },
  {
   "cell_type": "code",
   "execution_count": 134,
   "metadata": {},
   "outputs": [
    {
     "name": "stdout",
     "output_type": "stream",
     "text": [
      "List of column names: continent, country_code, country, consumption_per_capita_(L), climate, main_export, main_industry, region, happy_score, life_expectancy, gdp_per_capita, mental_health_and_addiction (%), capital\n"
     ]
    }
   ],
   "source": [
    "columns = df.columns\n",
    "columns_string =', '.join(columns)\n",
    "print(f\"List of column names: {columns_string}\")"
   ]
  },
  {
   "cell_type": "markdown",
   "metadata": {},
   "source": [
    "#### Display a list of regions"
   ]
  },
  {
   "cell_type": "code",
   "execution_count": 135,
   "metadata": {},
   "outputs": [
    {
     "name": "stdout",
     "output_type": "stream",
     "text": [
      "List of regions represented in the dataset: South Asia, Central and Eastern Europe, Middle East and North Africa, nan, Commonwealth of Independent States, Latin America and Caribbean, North America and ANZ, Western Europe, Sub-Saharan Africa, Southeast Asia, East Asia\n"
     ]
    },
    {
     "data": {
      "text/plain": [
       "<function pandas.core.frame.DataFrame.dropna(self, axis=0, how='any', thresh=None, subset=None, inplace=False)>"
      ]
     },
     "execution_count": 135,
     "metadata": {},
     "output_type": "execute_result"
    }
   ],
   "source": [
    "regions = df[\"region\"].unique()\n",
    "regions_string = \", \".join(map(str, regions))\n",
    "\n",
    "print(f\"List of regions represented in the dataset: {regions_string}\")\n",
    "regions\n",
    "\n",
    "DataFrame.dropna"
   ]
  },
  {
   "cell_type": "markdown",
   "metadata": {},
   "source": [
    "#### Display a list of countries"
   ]
  },
  {
   "cell_type": "code",
   "execution_count": 136,
   "metadata": {},
   "outputs": [
    {
     "name": "stdout",
     "output_type": "stream",
     "text": [
      "List of countries represented in the dataset: Barbados, Bulgaria, Benin, Sudan, Chad, Thailand, Bhutan, Timor, Uzbekistan, India, Angola, Serbia, Qatar, Mauritius, Azerbaijan, Saint Vincent and the Grenadines, Vanuatu, Solomon Islands, Finland, Tonga, Cameroon, Oman, Micronesia (country), Guyana, Guinea-Bissau, Antigua and Barbuda, Latvia, United Arab Emirates, Congo, Laos, Gambia, France, Jordan, North Korea, Uganda, Cambodia, South Korea, Costa Rica, Guatemala, Armenia, Comoros, Cyprus, Ghana, Tajikistan, Cuba, Djibouti, Sri Lanka, Eswatini, Portugal, Central African Republic, Tunisia, Eritrea, Nauru, Ecuador, Norway, Japan, Maldives, Mongolia, Bolivia, Suriname, Brazil, Burundi, Canada, Namibia, Madagascar, Belarus, Cape Verde, Mozambique, Nicaragua, Saudi Arabia, Bangladesh, Burkina Faso, Lithuania, Luxembourg, Philippines, Seychelles, Honduras, Myanmar, Haiti, Yemen, Greece, Israel, Moldova, Sierra Leone, Venezuela, North Macedonia, Nepal, Poland, Saint Kitts and Nevis, Ukraine, Somalia, Georgia, Iceland, Andorra, Brunei, Slovakia, Togo, Egypt, Malaysia, Turkmenistan, Democratic Republic of Congo, Uruguay, Fiji, Austria, Afghanistan, Switzerland, Sweden, Liberia, Turkey, Ethiopia, United Kingdom, Lesotho, Jamaica, Niger, Cote d'Ivoire, Kiribati, Dominican Republic, Mauritania, Bahamas, Kenya, Montenegro, Botswana, Papua New Guinea, Lebanon, Netherlands, Peru, Croatia, Mali, Saint Lucia, Equatorial Guinea, Spain, Indonesia, Colombia, China, Australia, New Zealand, Panama, Rwanda, Bosnia and Herzegovina, Denmark, Romania, Pakistan, Sao Tome and Principe, Mexico, Tanzania, Czechia, Trinidad and Tobago, Dominica, Hungary, Paraguay, Estonia, Zimbabwe, Iraq, Senegal, Albania, Bahrain, United States, Chile, Gabon, Malta, Italy, Belize, South Africa, Vietnam, Russia, Slovenia, Samoa, Libya, Germany, Guinea, Argentina, Grenada, Kyrgyzstan, Malawi, Nigeria, Kuwait, Tuvalu, Algeria, Belgium, Zambia, Ireland, Iran, Kazakhstan, Morocco, Singapore, El Salvador\n"
     ]
    }
   ],
   "source": [
    "countries = set(df['country'])\n",
    "countries_string = ', '.join(countries)\n",
    "\n",
    "print(f\"List of countries represented in the dataset: {countries_string}\")"
   ]
  },
  {
   "cell_type": "markdown",
   "metadata": {},
   "source": [
    "####  Calculate how many countries are represented in the data "
   ]
  },
  {
   "cell_type": "code",
   "execution_count": 137,
   "metadata": {},
   "outputs": [
    {
     "name": "stdout",
     "output_type": "stream",
     "text": [
      "The total number of rows countries represented in the dataset are 186.\n"
     ]
    }
   ],
   "source": [
    "total_countries = df.shape[0] \n",
    "print(f'The total number of rows countries represented in the dataset are {total_countries}.') \n",
    "\n",
    "# Alternative methods:\n",
    "#number_countries = df_11['country'].nunique()\n",
    "# unique_countries = df_8['country'].unique()\n",
    "# number_countries = len(unique_countries)"
   ]
  },
  {
   "cell_type": "markdown",
   "metadata": {},
   "source": [
    "#### Find how many values (countries) there are for each continent and list the names of the countries, grouped by continent\n"
   ]
  },
  {
   "cell_type": "code",
   "execution_count": 138,
   "metadata": {},
   "outputs": [
    {
     "name": "stdout",
     "output_type": "stream",
     "text": [
      "--------------------------------------------------------------------------------------\n",
      "The countries in South America represented: Argentina, Bolivia, Brazil, Chile, Colombia, Ecuador, Guyana, Paraguay, Peru, Suriname, Uruguay, Venezuela\n",
      "--------------------------------------------------------------------------------------\n",
      "The countries in North America represented: Antigua and Barbuda, Bahamas, Barbados, Belize, Canada, Costa Rica, Cuba, Dominica, Dominican Republic, El Salvador, Grenada, Guatemala, Haiti, Honduras, Jamaica, Mexico, Nicaragua, Panama, Saint Kitts and Nevis, Saint Lucia, Saint Vincent and the Grenadines, Trinidad and Tobago, United States\n",
      "--------------------------------------------------------------------------------------\n",
      "The countries in Europe represented: Albania, Andorra, Azerbaijan, Austria, Armenia, Belgium, Bosnia and Herzegovina, Bulgaria, Belarus, Croatia, Cyprus, Czechia, Denmark, Estonia, Finland, France, Georgia, Germany, Greece, Hungary, Iceland, Ireland, Italy, Kazakhstan, Latvia, Lithuania, Luxembourg, Malta, Moldova, Montenegro, Netherlands, Norway, Poland, Portugal, Romania, Russia, Serbia, Slovakia, Slovenia, Spain, Sweden, Switzerland, Turkey, Ukraine, North Macedonia, United Kingdom\n",
      "--------------------------------------------------------------------------------------\n",
      "The countries in Africa represented: Algeria, Angola, Botswana, Burundi, Cameroon, Cape Verde, Central African Republic, Chad, Comoros, Congo, Democratic Republic of Congo, Benin, Equatorial Guinea, Ethiopia, Eritrea, Djibouti, Gabon, Gambia, Ghana, Guinea, Cote d'Ivoire, Kenya, Lesotho, Liberia, Libya, Madagascar, Malawi, Mali, Mauritania, Mauritius, Morocco, Mozambique, Namibia, Niger, Nigeria, Guinea-Bissau, Rwanda, Sao Tome and Principe, Senegal, Seychelles, Sierra Leone, Somalia, South Africa, Zimbabwe, Sudan, Eswatini, Togo, Tunisia, Uganda, Egypt, Tanzania, Burkina Faso, Zambia\n",
      "--------------------------------------------------------------------------------------\n",
      "The countries in Oceania represented: Australia, Solomon Islands, Fiji, Kiribati, Nauru, Vanuatu, New Zealand, Micronesia (country), Papua New Guinea, Tonga, Tuvalu, Samoa\n"
     ]
    }
   ],
   "source": [
    "# South America\n",
    "south_america_df = df.loc[df[\"continent\"] == \"South America\"]\n",
    "south_america = south_america_df[\"country\"].tolist()\n",
    "countries_in_south_america = len(south_america_df)\n",
    "\n",
    "# North America\n",
    "north_america_df = df.loc[df[\"continent\"] == \"North America\"]\n",
    "north_america = north_america_df[\"country\"].tolist() \n",
    "countries_in_north_america = len(north_america_df)\n",
    "\n",
    "# Europe \n",
    "europe_df = df.loc[df[\"continent\"] == \"Europe\"]\n",
    "europe = europe_df[\"country\"].tolist() \n",
    "countries_in_europe = len(europe_df)\n",
    "\n",
    "# Africa \n",
    "africa_df = df.loc[df[\"continent\"] == \"Africa\"]\n",
    "africa = africa_df[\"country\"].tolist() \n",
    "countries_in_africa = len(africa_df)\n",
    "\n",
    "# Oceania\n",
    "oceania_df = df.loc[df[\"continent\"] == \"Oceania\"]\n",
    "oceania = oceania_df[\"country\"].tolist() \n",
    "countries_in_oceania = len(oceania_df)\n",
    "\n",
    "\n",
    "print(\"--------------------------------------------------------------------------------------\")\n",
    "print(\"The countries in South America represented: \" + \", \".join(south_america))  \n",
    "print(\"--------------------------------------------------------------------------------------\")\n",
    "print(\"The countries in North America represented: \" + \", \".join(north_america))  \n",
    "print(\"--------------------------------------------------------------------------------------\")\n",
    "print(\"The countries in Europe represented: \" + \", \".join(europe))  \n",
    "print(\"--------------------------------------------------------------------------------------\")\n",
    "print(\"The countries in Africa represented: \" + \", \".join(africa))  \n",
    "print(\"--------------------------------------------------------------------------------------\")\n",
    "print(\"The countries in Oceania represented: \" + \", \".join(oceania))  \n"
   ]
  },
  {
   "cell_type": "markdown",
   "metadata": {},
   "source": [
    "#### Display how many countries are in each region"
   ]
  },
  {
   "cell_type": "code",
   "execution_count": 139,
   "metadata": {},
   "outputs": [
    {
     "data": {
      "text/plain": [
       "Sub-Saharan Africa                    34\n",
       "Latin America and Caribbean           21\n",
       "Western Europe                        20\n",
       "Middle East and North Africa          16\n",
       "Central and Eastern Europe            14\n",
       "Commonwealth of Independent States    12\n",
       "Southeast Asia                         9\n",
       "South Asia                             7\n",
       "East Asia                              4\n",
       "North America and ANZ                  4\n",
       "Name: region, dtype: int64"
      ]
     },
     "execution_count": 139,
     "metadata": {},
     "output_type": "execute_result"
    }
   ],
   "source": [
    "df['region'].value_counts() "
   ]
  },
  {
   "cell_type": "markdown",
   "metadata": {},
   "source": [
    "#### Display which countries are in each region"
   ]
  },
  {
   "cell_type": "markdown",
   "metadata": {},
   "source": [
    "#### Display the average alcohol consumption across the world"
   ]
  },
  {
   "cell_type": "code",
   "execution_count": 140,
   "metadata": {},
   "outputs": [
    {
     "name": "stdout",
     "output_type": "stream",
     "text": [
      "The overall average of alcohol consumption per capita (liters) among countries represented in the dataset is 6.165053763440862.\n"
     ]
    }
   ],
   "source": [
    "overall_avg_consumption = df[\"consumption_per_capita_(L)\"].mean() \n",
    "overall_avg_consumption\n",
    "formatted_consumption = round(overall_avg_consumption,2)\n",
    "\n",
    "print(f\"The overall average of alcohol consumption per capita (liters) among countries represented in the dataset is {overall_avg_consumption}.\")  \n"
   ]
  },
  {
   "cell_type": "markdown",
   "metadata": {},
   "source": [
    "#### Summarize Results "
   ]
  },
  {
   "cell_type": "code",
   "execution_count": 141,
   "metadata": {},
   "outputs": [
    {
     "name": "stdout",
     "output_type": "stream",
     "text": [
      "List of column names: continent, country_code, country, consumption_per_capita_(L), climate, main_export, main_industry, region, happy_score, life_expectancy, gdp_per_capita, mental_health_and_addiction (%), capital\n",
      "------------------------------------------------------------------------------------------\n",
      "List of regions represented in the dataset: South Asia, Central and Eastern Europe, Middle East and North Africa, nan, Commonwealth of Independent States, Latin America and Caribbean, North America and ANZ, Western Europe, Sub-Saharan Africa, Southeast Asia, East Asia\n",
      "------------------------------------------------------------------------------------------\n",
      "List of countries represented in the dataset: Barbados, Bulgaria, Benin, Sudan, Chad, Thailand, Bhutan, Timor, Uzbekistan, India, Angola, Serbia, Qatar, Mauritius, Azerbaijan, Saint Vincent and the Grenadines, Vanuatu, Solomon Islands, Finland, Tonga, Cameroon, Oman, Micronesia (country), Guyana, Guinea-Bissau, Antigua and Barbuda, Latvia, United Arab Emirates, Congo, Laos, Gambia, France, Jordan, North Korea, Uganda, Cambodia, South Korea, Costa Rica, Guatemala, Armenia, Comoros, Cyprus, Ghana, Tajikistan, Cuba, Djibouti, Sri Lanka, Eswatini, Portugal, Central African Republic, Tunisia, Eritrea, Nauru, Ecuador, Norway, Japan, Maldives, Mongolia, Bolivia, Suriname, Brazil, Burundi, Canada, Namibia, Madagascar, Belarus, Cape Verde, Mozambique, Nicaragua, Saudi Arabia, Bangladesh, Burkina Faso, Lithuania, Luxembourg, Philippines, Seychelles, Honduras, Myanmar, Haiti, Yemen, Greece, Israel, Moldova, Sierra Leone, Venezuela, North Macedonia, Nepal, Poland, Saint Kitts and Nevis, Ukraine, Somalia, Georgia, Iceland, Andorra, Brunei, Slovakia, Togo, Egypt, Malaysia, Turkmenistan, Democratic Republic of Congo, Uruguay, Fiji, Austria, Afghanistan, Switzerland, Sweden, Liberia, Turkey, Ethiopia, United Kingdom, Lesotho, Jamaica, Niger, Cote d'Ivoire, Kiribati, Dominican Republic, Mauritania, Bahamas, Kenya, Montenegro, Botswana, Papua New Guinea, Lebanon, Netherlands, Peru, Croatia, Mali, Saint Lucia, Equatorial Guinea, Spain, Indonesia, Colombia, China, Australia, New Zealand, Panama, Rwanda, Bosnia and Herzegovina, Denmark, Romania, Pakistan, Sao Tome and Principe, Mexico, Tanzania, Czechia, Trinidad and Tobago, Dominica, Hungary, Paraguay, Estonia, Zimbabwe, Iraq, Senegal, Albania, Bahrain, United States, Chile, Gabon, Malta, Italy, Belize, South Africa, Vietnam, Russia, Slovenia, Samoa, Libya, Germany, Guinea, Argentina, Grenada, Kyrgyzstan, Malawi, Nigeria, Kuwait, Tuvalu, Algeria, Belgium, Zambia, Ireland, Iran, Kazakhstan, Morocco, Singapore, El Salvador\n",
      "------------------------------------------------------------------------------------------\n",
      "Total number of countries represented in the dataset: 186\n",
      "------------------------------------------------------------------------------------------\n",
      "The countries in South America represented: Argentina, Bolivia, Brazil, Chile, Colombia, Ecuador, Guyana, Paraguay, Peru, Suriname, Uruguay, Venezuela\n",
      "--------------------------------------------------------------------------------------\n",
      "The countries in North America represented: Antigua and Barbuda, Bahamas, Barbados, Belize, Canada, Costa Rica, Cuba, Dominica, Dominican Republic, El Salvador, Grenada, Guatemala, Haiti, Honduras, Jamaica, Mexico, Nicaragua, Panama, Saint Kitts and Nevis, Saint Lucia, Saint Vincent and the Grenadines, Trinidad and Tobago, United States\n",
      "--------------------------------------------------------------------------------------\n",
      "The countries in Europe represented: Albania, Andorra, Azerbaijan, Austria, Armenia, Belgium, Bosnia and Herzegovina, Bulgaria, Belarus, Croatia, Cyprus, Czechia, Denmark, Estonia, Finland, France, Georgia, Germany, Greece, Hungary, Iceland, Ireland, Italy, Kazakhstan, Latvia, Lithuania, Luxembourg, Malta, Moldova, Montenegro, Netherlands, Norway, Poland, Portugal, Romania, Russia, Serbia, Slovakia, Slovenia, Spain, Sweden, Switzerland, Turkey, Ukraine, North Macedonia, United Kingdom\n",
      "--------------------------------------------------------------------------------------\n",
      "The countries in Africa represented: Algeria, Angola, Botswana, Burundi, Cameroon, Cape Verde, Central African Republic, Chad, Comoros, Congo, Democratic Republic of Congo, Benin, Equatorial Guinea, Ethiopia, Eritrea, Djibouti, Gabon, Gambia, Ghana, Guinea, Cote d'Ivoire, Kenya, Lesotho, Liberia, Libya, Madagascar, Malawi, Mali, Mauritania, Mauritius, Morocco, Mozambique, Namibia, Niger, Nigeria, Guinea-Bissau, Rwanda, Sao Tome and Principe, Senegal, Seychelles, Sierra Leone, Somalia, South Africa, Zimbabwe, Sudan, Eswatini, Togo, Tunisia, Uganda, Egypt, Tanzania, Burkina Faso, Zambia\n",
      "--------------------------------------------------------------------------------------\n",
      "The countries in Oceania represented: Australia, Solomon Islands, Fiji, Kiribati, Nauru, Vanuatu, New Zealand, Micronesia (country), Papua New Guinea, Tonga, Tuvalu, Samoa\n",
      "--------------------------------------------------------------------------------------\n",
      "Overall average of alcohol consumption per capita (liters): 6.17\n",
      "------------------------------------------------------------------------------------------\n"
     ]
    }
   ],
   "source": [
    "print(f\"List of column names: {columns_string}\")\n",
    "print(\"------------------------------------------------------------------------------------------\")\n",
    "print(f\"List of regions represented in the dataset: {regions_string}\")\n",
    "print(\"------------------------------------------------------------------------------------------\")\n",
    "print(f\"List of countries represented in the dataset: {countries_string}\")\n",
    "print(\"------------------------------------------------------------------------------------------\")\n",
    "print(f\"Total number of countries represented in the dataset: {total_countries}\")\n",
    "print(\"------------------------------------------------------------------------------------------\")\n",
    "print(\"The countries in South America represented: \" + \", \".join(south_america))  \n",
    "print(\"--------------------------------------------------------------------------------------\")\n",
    "print(\"The countries in North America represented: \" + \", \".join(north_america))  \n",
    "print(\"--------------------------------------------------------------------------------------\")\n",
    "print(\"The countries in Europe represented: \" + \", \".join(europe))  \n",
    "print(\"--------------------------------------------------------------------------------------\")\n",
    "print(\"The countries in Africa represented: \" + \", \".join(africa))  \n",
    "print(\"--------------------------------------------------------------------------------------\")\n",
    "print(\"The countries in Oceania represented: \" + \", \".join(oceania))  \n",
    "print(\"--------------------------------------------------------------------------------------\")\n",
    "print(f\"Overall average of alcohol consumption per capita (liters): {formatted_consumption}\") \n",
    "print(\"------------------------------------------------------------------------------------------\")"
   ]
  },
  {
   "cell_type": "markdown",
   "metadata": {},
   "source": [
    "## Part Three - Consumption Levels by Country\n",
    "* Group alcohol consumption within 5 bins and display as new column within dataframe\n",
    "* Display value counts for each bin\n",
    "* Create a for loop to separate each bin as its own dataframe\n",
    "* Calculate values for each bin\n",
    "* Display correlation matrix"
   ]
  },
  {
   "cell_type": "markdown",
   "metadata": {},
   "source": [
    "#### Create bins and add results to dataframe"
   ]
  },
  {
   "cell_type": "code",
   "execution_count": 142,
   "metadata": {},
   "outputs": [
    {
     "data": {
      "text/plain": [
       "Heavy         45\n",
       "Light         40\n",
       "Very Heavy    37\n",
       "Medium        36\n",
       "Very Light    23\n",
       "Name: Drinking_Bins, dtype: int64"
      ]
     },
     "execution_count": 142,
     "metadata": {},
     "output_type": "execute_result"
    }
   ],
   "source": [
    "# Create bins\n",
    "df_test = pd.cut(df[\"consumption_per_capita_(L)\"], bins=5)\n",
    "cut_labels = [\"Very Light\", \"Light\", \"Medium\", \"Heavy\", \"Very Heavy\"]\n",
    "cut_bins = [0, 1, 4, 7, 10, 20]\n",
    "df[\"Drinking_Bins\"] = pd.cut(df[\"consumption_per_capita_(L)\"], bins=cut_bins, labels=cut_labels)\n",
    "\n",
    "# Display bin distribution \n",
    "df[\"Drinking_Bins\"].value_counts()"
   ]
  },
  {
   "cell_type": "code",
   "execution_count": 143,
   "metadata": {},
   "outputs": [
    {
     "name": "stdout",
     "output_type": "stream",
     "text": [
      "[[0.07311828 0.54408602 1.09301075 2.0844086  2.37043011]]\n"
     ]
    }
   ],
   "source": [
    "# Create a for loop to create separate dataframes for each bin \n",
    "drinking_bins = [\"Very Light\", \"Light\", \"Medium\", \"Heavy\", \"Very Heavy\"]\n",
    "consumption_values = []\n",
    "country_number = []\n",
    "\n",
    "for drinking_bins in drinking_bins:\n",
    "    bins_df = df.loc[df[\"Drinking_Bins\"] == drinking_bins]\n",
    "    \n",
    "    values=bins_df[\"consumption_per_capita_(L)\"].sum()\n",
    "    consumption_values.append(values)\n",
    "    \n",
    "    number = len(df)\n",
    "    country_number.append(number)\n",
    "    \n",
    "    avg_consumption_bins = np.array([consumption_values])/np.array([country_number])\n",
    "\n",
    "print(avg_consumption_bins)"
   ]
  },
  {
   "cell_type": "code",
   "execution_count": 144,
   "metadata": {},
   "outputs": [
    {
     "name": "stdout",
     "output_type": "stream",
     "text": [
      "0.591304347826087\n",
      "4.784356251312501\n",
      "61.586327790625006\n",
      "8.9320933815\n",
      "13.588588626086958\n"
     ]
    }
   ],
   "source": [
    "#Create a dataframe for each bin \n",
    "very_light_df = df.loc[df['Drinking_Bins']=='Very Light']\n",
    "\n",
    "very_light_df.round(2)\n",
    "#averages\n",
    "very_light_consumption = very_light_df[\"consumption_per_capita_(L)\"].mean()\n",
    "very_light_happiness = very_light_df[\"happy_score\"].mean()\n",
    "very_light_life = very_light_df[\"life_expectancy\"].mean()\n",
    "very_light_gdp = very_light_df[\"gdp_per_capita\"].mean()\n",
    "very_light_addiction = very_light_df[\"mental_health_and_addiction (%)\"].mean()\n",
    "\n",
    "print(very_light_consumption)\n",
    "print(very_light_happiness)\n",
    "print(very_light_life)\n",
    "print(very_light_gdp)\n",
    "print(very_light_addiction)"
   ]
  },
  {
   "cell_type": "markdown",
   "metadata": {},
   "source": [
    "#### Calculate Values For Each Bin"
   ]
  },
  {
   "cell_type": "code",
   "execution_count": 145,
   "metadata": {},
   "outputs": [
    {
     "name": "stdout",
     "output_type": "stream",
     "text": [
      "2.53 5.2051606944642845 61.61110319428571 8.570028322035714 12.353983505128205\n",
      "5.647222222222223 5.079172010480001 62.664390411599996 8.762150802640003 12.320441922571424\n",
      "8.615555555555556 5.629619986657144 65.8943797522857 9.568910789999997 13.171500725681824\n",
      "8.615555555555556 5.629619986657144 65.8943797522857 9.568910789999997 13.171500725681824\n",
      "11.916216216216217 6.302539377515151 69.08792576666667 10.252519087363638 13.515031362162162\n"
     ]
    }
   ],
   "source": [
    "# Calculate values for 'light' drinkers\n",
    "light_df = df.loc[df['Drinking_Bins']=='Light']\n",
    "light_consumption = light_df[\"consumption_per_capita_(L)\"].mean()\n",
    "light_happiness = light_df[\"happy_score\"].mean()\n",
    "light_life = light_df[\"life_expectancy\"].mean()\n",
    "light_gdp = light_df[\"gdp_per_capita\"].mean()\n",
    "light_addiction = light_df[\"mental_health_and_addiction (%)\"].mean()\n",
    "\n",
    "print(light_consumption,light_happiness,light_life, light_gdp,light_addiction)\n",
    "\n",
    "# Calculate values for 'medium' drinkers\n",
    "medium_df = df.loc[df['Drinking_Bins']=='Medium']\n",
    "medium_consumption = medium_df[\"consumption_per_capita_(L)\"].mean()\n",
    "medium_happiness = medium_df[\"happy_score\"].mean()\n",
    "medium_life = medium_df[\"life_expectancy\"].mean()\n",
    "medium_gdp = medium_df[\"gdp_per_capita\"].mean()\n",
    "medium_addiction = medium_df[\"mental_health_and_addiction (%)\"].mean()\n",
    "\n",
    "print(medium_consumption,medium_happiness,medium_life,medium_gdp,medium_addiction)\n",
    "\n",
    "# Calculate values for 'heavy' drinkers\n",
    "heavy_df = df.loc[df['Drinking_Bins']=='Heavy']\n",
    "heavy_consumption = heavy_df[\"consumption_per_capita_(L)\"].mean()\n",
    "heavy_happiness = heavy_df[\"happy_score\"].mean()\n",
    "heavy_life = heavy_df[\"life_expectancy\"].mean()\n",
    "heavy_gdp = heavy_df[\"gdp_per_capita\"].mean()\n",
    "heavy_addiction = heavy_df[\"mental_health_and_addiction (%)\"].mean()\n",
    "\n",
    "print(heavy_consumption, heavy_happiness, heavy_life, heavy_gdp, heavy_addiction)\n",
    "\n",
    "# Calculate values for 'heavy' drinkers\n",
    "heavy_df = df.loc[df['Drinking_Bins']=='Heavy']\n",
    "heavy_consumption = heavy_df[\"consumption_per_capita_(L)\"].mean()\n",
    "heavy_happiness = heavy_df[\"happy_score\"].mean()\n",
    "heavy_life = heavy_df[\"life_expectancy\"].mean()\n",
    "heavy_gdp = heavy_df[\"gdp_per_capita\"].mean()\n",
    "heavy_addiction = heavy_df[\"mental_health_and_addiction (%)\"].mean()\n",
    "\n",
    "print(heavy_consumption, heavy_happiness, heavy_life, heavy_gdp, heavy_addiction)\n",
    "\n",
    "# Calculate values for 'very heavy' drinkers\n",
    "very_heavy_df = df.loc[df['Drinking_Bins']=='Very Heavy']\n",
    "very_heavy_consumption = very_heavy_df[\"consumption_per_capita_(L)\"].mean()\n",
    "very_heavy_happiness = very_heavy_df[\"happy_score\"].mean()\n",
    "very_heavy_life = very_heavy_df[\"life_expectancy\"].mean()\n",
    "very_heavy_gdp = very_heavy_df[\"gdp_per_capita\"].mean()\n",
    "very_heavy_addiction = very_heavy_df[\"mental_health_and_addiction (%)\"].mean()\n",
    "\n",
    "print(very_heavy_consumption,very_heavy_happiness,very_heavy_life,very_heavy_gdp,very_heavy_addiction)"
   ]
  },
  {
   "cell_type": "markdown",
   "metadata": {},
   "source": [
    "#### Create Correlations Matrix"
   ]
  },
  {
   "cell_type": "code",
   "execution_count": 146,
   "metadata": {},
   "outputs": [
    {
     "data": {
      "image/png": "[encoded data removed]",
      "text/plain": [
       "<Figure size 1296x720 with 1 Axes>"
      ]
     },
     "metadata": {},
     "output_type": "display_data"
    },
    {
     "data": {
      "image/png": "[encoded data removed]",
      "text/plain": [
       "<Figure size 1296x720 with 1 Axes>"
      ]
     },
     "metadata": {},
     "output_type": "display_data"
    }
   ],
   "source": [
    "Labels = [\"consumption_per_capita_(L)\", \"happy_score\", \"life_expectancy (y)\", \"gdp_per_capita\", \"mental_health_and_addiction (%)\"]\n",
    "Bins = [\"Very Light\", \"Light\", \"Medium\", \"Heavy\", \"Very Heavy\"]\n",
    "\n",
    "#Creates array and rounds to 2 decimal places\n",
    "data = np.around([[very_light_consumption,light_consumption,medium_consumption,heavy_consumption,very_heavy_consumption],\n",
    "                 [very_light_happiness,light_happiness,medium_happiness,heavy_happiness,very_heavy_happiness],\n",
    "                 [very_light_life,light_life,medium_life,heavy_life,medium_life],\n",
    "                 [very_light_gdp,light_gdp,medium_gdp,heavy_gdp,heavy_gdp],\n",
    "                 [very_light_addiction,light_addiction,medium_addiction,heavy_addiction,very_heavy_addiction]], decimals=2)\n",
    "\n",
    "fig, ax = plt.subplots()\n",
    "im = ax.imshow(data)\n",
    "\n",
    "#define bounds of array equal to number of labels\n",
    "ax.set_xticks(np.arange(len(Bins)))\n",
    "ax.set_yticks(np.arange(len(Labels)))\n",
    "#Label each Axis\n",
    "ax.set_xticklabels(Bins)\n",
    "ax.set_yticklabels(Labels)\n",
    "#Rotate Labels\n",
    "plt.setp(ax.get_xticklabels(), rotation=45, ha=\"right\",\n",
    "         rotation_mode=\"anchor\")\n",
    "\n",
    "\n",
    "for i in range(len(Labels)):\n",
    "    for j in range(len(Bins)):\n",
    "        text = ax.text(j, i, data[i, j],\n",
    "                       ha=\"center\", va=\"center\", color=\"w\")\n",
    "        \n",
    "\n",
    "ax.set_title(\"Correlation Matrix - Alcohol Consumption & Health Markers\")\n",
    "fig.tight_layout()\n",
    "plt.show()\n",
    "\n",
    "\n",
    "\n",
    "Labels = [\"consumption_per_capita_(L)\", \"happy_score\", \"gdp_per_capita\", \"mental_health_and_addiction (%)\"]\n",
    "Bins = [\"Very Light\", \"Light\", \"Medium\", \"Heavy\", \"Very Heavy\"]\n",
    "\n",
    "#Creates array and rounds to 2 decimal places\n",
    "data = np.around([[very_light_consumption,light_consumption,medium_consumption,heavy_consumption,very_heavy_consumption],\n",
    "                 [very_light_happiness,light_happiness,medium_happiness,heavy_happiness,very_heavy_happiness],\n",
    "                 [very_light_gdp,light_gdp,medium_gdp,heavy_gdp,heavy_gdp],\n",
    "                 [very_light_addiction,light_addiction,medium_addiction,heavy_addiction,very_heavy_addiction]], decimals=2)\n",
    "\n",
    "\n",
    "\n",
    "#Excluding Life Expectancy\n",
    "\n",
    "\n",
    "fig, ax = plt.subplots()\n",
    "im = ax.imshow(data)\n",
    "\n",
    "#define bounds of array equal to number of labels\n",
    "ax.set_xticks(np.arange(len(Bins)))\n",
    "ax.set_yticks(np.arange(len(Labels)))\n",
    "#Label each Axis\n",
    "ax.set_xticklabels(Bins)\n",
    "ax.set_yticklabels(Labels)\n",
    "#Rotate Labels\n",
    "plt.setp(ax.get_xticklabels(), rotation=45, ha=\"right\",\n",
    "         rotation_mode=\"anchor\")\n",
    "\n",
    "\n",
    "for i in range(len(Labels)):\n",
    "    for j in range(len(Bins)):\n",
    "        text = ax.text(j, i, data[i, j],\n",
    "                       ha=\"center\", va=\"center\", color=\"w\")\n",
    "        \n",
    "\n",
    "ax.set_title(\"Correlation Matrix - Alcohol Consumption & Health Markers\")\n",
    "fig.tight_layout()\n",
    "plt.show()\n"
   ]
  },
  {
   "cell_type": "markdown",
   "metadata": {},
   "source": [
    "## Part Four - Drunkest Countries\n",
    "* Identify the 5 countries with the highest alcohol consumption\n",
    "* Identify the 5 countries with the lowest alcohol consumption\n",
    "* Create a pie chart to display consumption for 5 countries with highest alcohol \n"
   ]
  },
  {
   "cell_type": "markdown",
   "metadata": {},
   "source": [
    "#### Find the 5 countries that consumes the most alcohol "
   ]
  },
  {
   "cell_type": "code",
   "execution_count": 147,
   "metadata": {},
   "outputs": [
    {
     "name": "stdout",
     "output_type": "stream",
     "text": [
      "The countries with the highest consumption rates: Moldova, Lithuania, Czechia, Germany, Nigeria\n"
     ]
    }
   ],
   "source": [
    "high_consumption = df.sort_values([(\"consumption_per_capita_(L)\")], ascending=False).head(n=5)\n",
    "high_consumption.reset_index() \n",
    "\n",
    "capitals = high_consumption['capital'].tolist() \n",
    "capitals\n",
    "\n",
    "\n",
    "most_alcohol = high_consumption[\"country\"].tolist() \n",
    "\n",
    "print(\"The countries with the highest consumption rates: \" + \", \".join(most_alcohol))\n"
   ]
  },
  {
   "cell_type": "markdown",
   "metadata": {},
   "source": [
    "#### Find the 5 countries that consumes the least alcohol "
   ]
  },
  {
   "cell_type": "code",
   "execution_count": 148,
   "metadata": {},
   "outputs": [
    {
     "name": "stdout",
     "output_type": "stream",
     "text": [
      "The countries with the lowest consumption rates: Kuwait, Libya, Mauritania, Somalia, Bangladesh\n"
     ]
    }
   ],
   "source": [
    "low_consumption = df.sort_values([(\"consumption_per_capita_(L)\")], ascending=True).head(n=5)\n",
    "low_consumption\n",
    "\n",
    "least_alcohol = low_consumption[\"country\"].tolist() \n",
    "\n",
    "print(\"The countries with the lowest consumption rates: \" + \", \".join(least_alcohol))"
   ]
  },
  {
   "cell_type": "markdown",
   "metadata": {},
   "source": [
    "#### Create a pie chart to display consumption in top 5 countries relative to the larger world"
   ]
  },
  {
   "cell_type": "code",
   "execution_count": 149,
   "metadata": {},
   "outputs": [
    {
     "data": {
      "image/png": "[encoded data removed]",
      "text/plain": [
       "<Figure size 1296x720 with 1 Axes>"
      ]
     },
     "metadata": {},
     "output_type": "display_data"
    }
   ],
   "source": [
    "sum_top_5 = high_consumption['consumption_per_capita_(L)'].sum()\n",
    "total = df['consumption_per_capita_(L)'].sum()\n",
    "\n",
    "difference = total - sum_top_5\n",
    "sum_top_5 \n",
    "\n",
    "my_list = [71.4,1075.3]\n",
    "labels = [\"Top 5\", \"Remaining Countries (181)\"]\n",
    "colors = ['cornflowerblue', 'lavender']\n",
    "explode = (0.4, 0)\n",
    "textprops={'fontsize': 20}\n",
    "\n",
    "sn.set(rc={'figure.figsize':(18,10)})\n",
    "plt.pie(my_list, explode=explode, labels=labels, colors=colors,\n",
    "        textprops=textprops,autopct=\"%1.1f%%\", shadow=True, startangle=140)\n",
    "\n",
    "\n",
    "plt.title('Consumption of Top 5 Countries vs Remaining Countries', fontsize=24)\n",
    "plt.axis('equal')\n",
    "plt.gcf()\n",
    "\n",
    "\n",
    "plt.savefig(\"images/2_top_5_pie_chart.png\")"
   ]
  },
  {
   "cell_type": "markdown",
   "metadata": {},
   "source": [
    "### Highest Consumption Heatmap"
   ]
  },
  {
   "cell_type": "markdown",
   "metadata": {},
   "source": [
    "#### Find latitude and longitude for the 5 countries with the highest consumption"
   ]
  },
  {
   "cell_type": "code",
   "execution_count": 150,
   "metadata": {},
   "outputs": [],
   "source": [
    "# Save config information.\n",
    "url = \"http://api.openweathermap.org/data/2.5/weather?\"\n",
    "units = \"metric\"\n",
    "\n",
    "# Build partial query URL\n",
    "query_url = f\"{url}appid={weather_key}&units={units}&q=\""
   ]
  },
  {
   "cell_type": "code",
   "execution_count": 151,
   "metadata": {},
   "outputs": [
    {
     "name": "stdout",
     "output_type": "stream",
     "text": [
      "The latitude information received is: [47.0056, 54.6892, 50.088, 9.0574, 52.5244]\n",
      "The longitude information received is: [28.8575, 25.2798, 14.4208, 7.4898, 13.4105]\n"
     ]
    }
   ],
   "source": [
    "# Convert capital column to list\n",
    "capitals = high_consumption['capital'].tolist()  \n",
    "\n",
    "# Create container for list of capitals\n",
    "cities = ['Chisinau','Vilnius','Prague','Abuja','Berlin']\n",
    "\n",
    "# Set up lists to hold reponse info\n",
    "lat = []\n",
    "lon = []\n",
    "\n",
    "# Loop through the list of cities and perform a request for data on each\n",
    "for city in cities:\n",
    "    response = requests.get(query_url + city).json()\n",
    "    lat.append(response['coord']['lat'])\n",
    "    lon.append(response['coord']['lon'])\n",
    "\n",
    "print(f\"The latitude information received is: {lat}\")\n",
    "print(f\"The longitude information received is: {lon}\") "
   ]
  },
  {
   "cell_type": "markdown",
   "metadata": {},
   "source": [
    "#### Add latitude and longitude columns to dataframe"
   ]
  },
  {
   "cell_type": "code",
   "execution_count": 152,
   "metadata": {},
   "outputs": [
    {
     "data": {
      "text/html": [
       "<div>\n",
       "<style scoped>\n",
       "    .dataframe tbody tr th:only-of-type {\n",
       "        vertical-align: middle;\n",
       "    }\n",
       "\n",
       "    .dataframe tbody tr th {\n",
       "        vertical-align: top;\n",
       "    }\n",
       "\n",
       "    .dataframe thead th {\n",
       "        text-align: right;\n",
       "    }\n",
       "</style>\n",
       "<table border=\"1\" class=\"dataframe\">\n",
       "  <thead>\n",
       "    <tr style=\"text-align: right;\">\n",
       "      <th></th>\n",
       "      <th>continent</th>\n",
       "      <th>country_code</th>\n",
       "      <th>country</th>\n",
       "      <th>consumption_per_capita_(L)</th>\n",
       "      <th>climate</th>\n",
       "      <th>main_export</th>\n",
       "      <th>main_industry</th>\n",
       "      <th>region</th>\n",
       "      <th>happy_score</th>\n",
       "      <th>life_expectancy</th>\n",
       "      <th>gdp_per_capita</th>\n",
       "      <th>mental_health_and_addiction (%)</th>\n",
       "      <th>capital</th>\n",
       "      <th>Drinking_Bins</th>\n",
       "      <th>latitude</th>\n",
       "      <th>longitude</th>\n",
       "    </tr>\n",
       "  </thead>\n",
       "  <tbody>\n",
       "    <tr>\n",
       "      <th>110</th>\n",
       "      <td>Europe</td>\n",
       "      <td>MDA</td>\n",
       "      <td>Moldova</td>\n",
       "      <td>15.2</td>\n",
       "      <td>moderate winters, warm summers</td>\n",
       "      <td>Foodstuffs</td>\n",
       "      <td>sugar</td>\n",
       "      <td>Commonwealth of Independent States</td>\n",
       "      <td>5.6075</td>\n",
       "      <td>65.013016</td>\n",
       "      <td>8.776714</td>\n",
       "      <td>11.743874</td>\n",
       "      <td>Chisinau</td>\n",
       "      <td>Very Heavy</td>\n",
       "      <td>47.0056</td>\n",
       "      <td>28.8575</td>\n",
       "    </tr>\n",
       "    <tr>\n",
       "      <th>98</th>\n",
       "      <td>Europe</td>\n",
       "      <td>LTU</td>\n",
       "      <td>Lithuania</td>\n",
       "      <td>15.0</td>\n",
       "      <td>transitional, between maritime and continental...</td>\n",
       "      <td>Textiles</td>\n",
       "      <td>metal-cutting machine tools</td>\n",
       "      <td>Central and Eastern Europe</td>\n",
       "      <td>6.2155</td>\n",
       "      <td>67.294075</td>\n",
       "      <td>10.343626</td>\n",
       "      <td>12.245072</td>\n",
       "      <td>Vilnius</td>\n",
       "      <td>Very Heavy</td>\n",
       "      <td>54.6892</td>\n",
       "      <td>25.2798</td>\n",
       "    </tr>\n",
       "    <tr>\n",
       "      <th>45</th>\n",
       "      <td>Europe</td>\n",
       "      <td>CZE</td>\n",
       "      <td>Czechia</td>\n",
       "      <td>14.4</td>\n",
       "      <td>temperate; cool summers; cold, cloudy, humid w...</td>\n",
       "      <td>NaN</td>\n",
       "      <td>NaN</td>\n",
       "      <td>NaN</td>\n",
       "      <td>NaN</td>\n",
       "      <td>NaN</td>\n",
       "      <td>NaN</td>\n",
       "      <td>11.544140</td>\n",
       "      <td>NaN</td>\n",
       "      <td>Very Heavy</td>\n",
       "      <td>50.0880</td>\n",
       "      <td>14.4208</td>\n",
       "    </tr>\n",
       "    <tr>\n",
       "      <th>63</th>\n",
       "      <td>Europe</td>\n",
       "      <td>DEU</td>\n",
       "      <td>Germany</td>\n",
       "      <td>13.4</td>\n",
       "      <td>temperate and marine; cool, cloudy, wet winter...</td>\n",
       "      <td>Motor vehicles</td>\n",
       "      <td>among the world's largest and most technologic...</td>\n",
       "      <td>Western Europe</td>\n",
       "      <td>7.0758</td>\n",
       "      <td>72.202019</td>\n",
       "      <td>10.732819</td>\n",
       "      <td>15.151506</td>\n",
       "      <td>Berlin</td>\n",
       "      <td>Very Heavy</td>\n",
       "      <td>9.0574</td>\n",
       "      <td>7.4898</td>\n",
       "    </tr>\n",
       "    <tr>\n",
       "      <th>123</th>\n",
       "      <td>Africa</td>\n",
       "      <td>NGA</td>\n",
       "      <td>Nigeria</td>\n",
       "      <td>13.4</td>\n",
       "      <td>varies; equatorial in south, tropical in cente...</td>\n",
       "      <td>Petroleum</td>\n",
       "      <td>crude oil</td>\n",
       "      <td>Sub-Saharan Africa</td>\n",
       "      <td>4.7241</td>\n",
       "      <td>49.861908</td>\n",
       "      <td>8.576625</td>\n",
       "      <td>12.064311</td>\n",
       "      <td>Abuja</td>\n",
       "      <td>Very Heavy</td>\n",
       "      <td>52.5244</td>\n",
       "      <td>13.4105</td>\n",
       "    </tr>\n",
       "  </tbody>\n",
       "</table>\n",
       "</div>"
      ],
      "text/plain": [
       "    continent country_code    country  consumption_per_capita_(L)  \\\n",
       "110    Europe          MDA    Moldova                        15.2   \n",
       "98     Europe          LTU  Lithuania                        15.0   \n",
       "45     Europe          CZE    Czechia                        14.4   \n",
       "63     Europe          DEU    Germany                        13.4   \n",
       "123    Africa          NGA    Nigeria                        13.4   \n",
       "\n",
       "                                               climate     main_export  \\\n",
       "110                     moderate winters, warm summers      Foodstuffs   \n",
       "98   transitional, between maritime and continental...        Textiles   \n",
       "45   temperate; cool summers; cold, cloudy, humid w...             NaN   \n",
       "63   temperate and marine; cool, cloudy, wet winter...  Motor vehicles   \n",
       "123  varies; equatorial in south, tropical in cente...       Petroleum   \n",
       "\n",
       "                                         main_industry  \\\n",
       "110                                              sugar   \n",
       "98                         metal-cutting machine tools   \n",
       "45                                                 NaN   \n",
       "63   among the world's largest and most technologic...   \n",
       "123                                          crude oil   \n",
       "\n",
       "                                 region  happy_score  life_expectancy  \\\n",
       "110  Commonwealth of Independent States       5.6075        65.013016   \n",
       "98           Central and Eastern Europe       6.2155        67.294075   \n",
       "45                                  NaN          NaN              NaN   \n",
       "63                       Western Europe       7.0758        72.202019   \n",
       "123                  Sub-Saharan Africa       4.7241        49.861908   \n",
       "\n",
       "     gdp_per_capita  mental_health_and_addiction (%)   capital Drinking_Bins  \\\n",
       "110        8.776714                        11.743874  Chisinau    Very Heavy   \n",
       "98        10.343626                        12.245072   Vilnius    Very Heavy   \n",
       "45              NaN                        11.544140       NaN    Very Heavy   \n",
       "63        10.732819                        15.151506    Berlin    Very Heavy   \n",
       "123        8.576625                        12.064311     Abuja    Very Heavy   \n",
       "\n",
       "     latitude  longitude  \n",
       "110   47.0056    28.8575  \n",
       "98    54.6892    25.2798  \n",
       "45    50.0880    14.4208  \n",
       "63     9.0574     7.4898  \n",
       "123   52.5244    13.4105  "
      ]
     },
     "execution_count": 152,
     "metadata": {},
     "output_type": "execute_result"
    }
   ],
   "source": [
    "high_consumption['latitude'] = lat\n",
    "high_consumption['longitude'] = lon\n",
    "\n",
    "high_consumption"
   ]
  },
  {
   "cell_type": "markdown",
   "metadata": {},
   "source": [
    "#### Create a heatmap displaying the countries that consume the most alcohol"
   ]
  },
  {
   "cell_type": "code",
   "execution_count": 119,
   "metadata": {},
   "outputs": [],
   "source": [
    "# Configure gmaps with API key\n",
    "gmaps.configure(api_key=g_key)"
   ]
  },
  {
   "cell_type": "code",
   "execution_count": 120,
   "metadata": {},
   "outputs": [
    {
     "data": {
      "application/vnd.jupyter.widget-view+json": {
       "model_id": "23947b2cb56041c294adaa46e0423a92",
       "version_major": 2,
       "version_minor": 0
      },
      "text/plain": [
       "Figure(layout=FigureLayout(height='420px'))"
      ]
     },
     "metadata": {},
     "output_type": "display_data"
    }
   ],
   "source": [
    "# Store 'Lat' and 'Lng' into  locations \n",
    "locations = high_consumption[[\"latitude\", \"longitude\"]]\n",
    "\n",
    "# Create a poverty Heatmap layer\n",
    "fig = gmaps.figure(center=[10,15], zoom_level=2)\n",
    "\n",
    "heat_layer = gmaps.heatmap_layer(locations, weights=high_consumption['consumption_per_capita_(L)'], dissipating=False, max_intensity=15, point_radius = 4)\n",
    "\n",
    "fig.add_layer(heat_layer)\n",
    "\n",
    "fig\n"
   ]
  },
  {
   "cell_type": "markdown",
   "metadata": {},
   "source": [
    "### Part Four - Drunkest Countries Summary "
   ]
  },
  {
   "cell_type": "code",
   "execution_count": 86,
   "metadata": {},
   "outputs": [
    {
     "name": "stdout",
     "output_type": "stream",
     "text": [
      "The 5 countries with the highest consumption rates of alcohol: Moldova, Lithuania, Czechia, Germany, Nigeria\n",
      "------------------------------------------------------------------------------------------\n",
      "The 5 countries with the lowest consumption rates of alchohol: Kuwait, Libya, Mauritania, Somalia, Bangladesh\n"
     ]
    }
   ],
   "source": [
    "print(\"The 5 countries with the highest consumption rates of alcohol: \" + \", \".join(most_alcohol))\n",
    "print(\"------------------------------------------------------------------------------------------\")\n",
    "print(\"The 5 countries with the lowest consumption rates of alchohol: \" + \", \".join(least_alcohol)) "
   ]
  },
  {
   "cell_type": "markdown",
   "metadata": {},
   "source": [
    "## Part Five - Consumption & Geography "
   ]
  },
  {
   "cell_type": "markdown",
   "metadata": {},
   "source": [
    "#### Use a for loop to find consumption averages by continent"
   ]
  },
  {
   "cell_type": "code",
   "execution_count": 121,
   "metadata": {},
   "outputs": [
    {
     "data": {
      "text/html": [
       "<div>\n",
       "<style scoped>\n",
       "    .dataframe tbody tr th:only-of-type {\n",
       "        vertical-align: middle;\n",
       "    }\n",
       "\n",
       "    .dataframe tbody tr th {\n",
       "        vertical-align: top;\n",
       "    }\n",
       "\n",
       "    .dataframe thead th {\n",
       "        text-align: right;\n",
       "    }\n",
       "</style>\n",
       "<table border=\"1\" class=\"dataframe\">\n",
       "  <thead>\n",
       "    <tr style=\"text-align: right;\">\n",
       "      <th></th>\n",
       "      <th>continent</th>\n",
       "      <th>total_consumption(liters)</th>\n",
       "      <th>avg_consumption(liters)</th>\n",
       "      <th>num_countries</th>\n",
       "    </tr>\n",
       "  </thead>\n",
       "  <tbody>\n",
       "    <tr>\n",
       "      <th>2</th>\n",
       "      <td>Europe</td>\n",
       "      <td>473.4</td>\n",
       "      <td>10.291304</td>\n",
       "      <td>46</td>\n",
       "    </tr>\n",
       "    <tr>\n",
       "      <th>4</th>\n",
       "      <td>South America</td>\n",
       "      <td>83.2</td>\n",
       "      <td>6.933333</td>\n",
       "      <td>12</td>\n",
       "    </tr>\n",
       "    <tr>\n",
       "      <th>3</th>\n",
       "      <td>North America</td>\n",
       "      <td>157.3</td>\n",
       "      <td>6.839130</td>\n",
       "      <td>23</td>\n",
       "    </tr>\n",
       "    <tr>\n",
       "      <th>0</th>\n",
       "      <td>Africa</td>\n",
       "      <td>252.7</td>\n",
       "      <td>4.767925</td>\n",
       "      <td>53</td>\n",
       "    </tr>\n",
       "    <tr>\n",
       "      <th>5</th>\n",
       "      <td>Oceania</td>\n",
       "      <td>42.5</td>\n",
       "      <td>3.541667</td>\n",
       "      <td>12</td>\n",
       "    </tr>\n",
       "    <tr>\n",
       "      <th>1</th>\n",
       "      <td>Asia</td>\n",
       "      <td>137.6</td>\n",
       "      <td>3.440000</td>\n",
       "      <td>40</td>\n",
       "    </tr>\n",
       "  </tbody>\n",
       "</table>\n",
       "</div>"
      ],
      "text/plain": [
       "       continent  total_consumption(liters)  avg_consumption(liters)  \\\n",
       "2         Europe                      473.4                10.291304   \n",
       "4  South America                       83.2                 6.933333   \n",
       "3  North America                      157.3                 6.839130   \n",
       "0         Africa                      252.7                 4.767925   \n",
       "5        Oceania                       42.5                 3.541667   \n",
       "1           Asia                      137.6                 3.440000   \n",
       "\n",
       "   num_countries  \n",
       "2             46  \n",
       "4             12  \n",
       "3             23  \n",
       "0             53  \n",
       "5             12  \n",
       "1             40  "
      ]
     },
     "execution_count": 121,
     "metadata": {},
     "output_type": "execute_result"
    }
   ],
   "source": [
    "# Create containers to hold aggregate values for each continent in for loop\n",
    "continents = ['Africa', 'Asia', 'Europe', 'North America', 'South America', 'Oceania'] \n",
    "segment_values = []\n",
    "number_countries = []\n",
    "\n",
    "# Filter each segment from our list 'continent' in the dataframe\n",
    "for continent in continents:\n",
    "    df_loop = df.loc[df[\"continent\"] == continent]\n",
    "    # Aggregate the consumption values for each continent in the dataframe\n",
    "    values = df_loop['consumption_per_capita_(L)'].sum()\n",
    "    segment_values.append(values)\n",
    "    # Find number of countries for each continent in the dataframe\n",
    "    consumption_by_segment = len(df_loop)\n",
    "    number_countries.append(consumption_by_segment)\n",
    "    # Find the average consumption for each continent\n",
    "    # Division is not a supported operation on lists so use np.array to perform a function\n",
    "    avg_consumption_by_continent = np.array([segment_values]) / np.array([number_countries])\n",
    "\n",
    "\n",
    "#print(avg_consumption_by_continent[0][0])\n",
    "#print(segment_values)\n",
    "#print(number_countries) \n",
    "\n",
    "df_loop = pd.DataFrame({\"continent\": continents, \"total_consumption(liters)\": segment_values, \"avg_consumption(liters)\": avg_consumption_by_continent [0], \"num_countries\": number_countries})\n",
    "df_loop = df_loop.sort_values(\"avg_consumption(liters)\", ascending=False)\n",
    "df_loop.reset_index()\n",
    "\n",
    "df_loop"
   ]
  },
  {
   "cell_type": "markdown",
   "metadata": {},
   "source": [
    "#### Create a boxplot to compare consumption values for each continent "
   ]
  },
  {
   "cell_type": "code",
   "execution_count": 122,
   "metadata": {},
   "outputs": [
    {
     "data": {
      "image/png": "[encoded data removed]",
      "text/plain": [
       "<Figure size 1296x720 with 1 Axes>"
      ]
     },
     "metadata": {},
     "output_type": "display_data"
    }
   ],
   "source": [
    "# Set boxplot figsize\n",
    "sn.set(rc={'figure.figsize':(18,10)})\n",
    "\n",
    "# Set colors for boxplot\n",
    "sn.set_palette(\"mako\") \n",
    "sn.set_style(\"whitegrid\")\n",
    "\n",
    "# Create boxplot\n",
    "plot = sn.boxplot( x=df[\"continent\"], y=df[\"consumption_per_capita_(L)\"], fliersize=8) \n",
    "plt.title(\"Consumption by Continent\", fontsize=24) \n",
    "plt.ylabel(\"Consumption Per Capita (Liters)\", fontsize=20) \n",
    "plt.xlabel(\"Continent\", fontsize=20)\n",
    "plt.xticks(fontsize=18, rotation=0)\n",
    "\n",
    "# Highlight and label the outliers\n",
    "plt.annotate('Australia & New Zealand', xy =(5, 11), xytext =(5, 13),\n",
    "arrowprops = dict(facecolor ='darkblue', shrink = 0.05),) \n",
    "plt.annotate('Azerbaijan', xy =(1, .8), xytext =(.5,1),\n",
    "             arrowprops = dict(facecolor ='darkblue', shrink = 0.05),) \n",
    "plt.annotate('Turkey', xy =(1, 2), xytext =(1, 4),\n",
    "             arrowprops = dict(facecolor ='darkblue', shrink = 0.05),) \n",
    "\n",
    "\n",
    "plot.grid(True)\n",
    "plt.gcf()\n",
    "\n",
    "\n",
    "plt.savefig(\"images/4_continent_boxplot.png\")\n"
   ]
  },
  {
   "cell_type": "code",
   "execution_count": 125,
   "metadata": {},
   "outputs": [
    {
     "name": "stdout",
     "output_type": "stream",
     "text": [
      "IQR for Africa: 6.9750000000000005\n",
      "Lower Bound for Africa: -8.037500000000001\n",
      "Upper Bound for Africa: 19.8625\n",
      "Number of Africa outliers: 0\n",
      "IQR for Asia: 6.9750000000000005\n",
      "Lower Bound for Asia: -8.037500000000001\n",
      "Upper Bound for Asia: 19.8625\n",
      "Number of Asia outliers: 0\n",
      "IQR for Europe: 6.9750000000000005\n",
      "Lower Bound for Europe: -8.037500000000001\n",
      "Upper Bound for Europe: 19.8625\n",
      "Number of Europe outliers: 0\n",
      "IQR for North America: 6.9750000000000005\n",
      "Lower Bound for North America: -8.037500000000001\n",
      "Upper Bound for North America: 19.8625\n",
      "Number of North America outliers: 0\n",
      "IQR for South America: 6.9750000000000005\n",
      "Lower Bound for South America: -8.037500000000001\n",
      "Upper Bound for South America: 19.8625\n",
      "Number of South America outliers: 0\n",
      "IQR for Oceania: 6.9750000000000005\n",
      "Lower Bound for Oceania: -8.037500000000001\n",
      "Upper Bound for Oceania: 19.8625\n",
      "Number of Oceania outliers: 0\n"
     ]
    }
   ],
   "source": [
    "# Create containers and conditionals for for loop\n",
    "continents = ['Africa', 'Asia', 'Europe', 'North America', 'South America', 'Oceania']\n",
    "values = []\n",
    "\n",
    "# Locate each drug from our list 'drugs' in the orginal dataframe\n",
    "for continent in continents:\n",
    "    df = df_copy.loc[df_copy[\"continent\"] == continent]\n",
    "    \n",
    "    # Create a series that consists of all final volume values for each regimen\n",
    "    values = df_copy['consumption_per_capita_(L)']\n",
    "    \n",
    "    # Calculate and print the interquartile range (IQR) for each regimen\n",
    "    quartiles = values.quantile([.25,.5,.75])\n",
    "    lowerq = quartiles[0.25]\n",
    "    upperq = quartiles[0.75]\n",
    "    iqr = upperq-lowerq\n",
    "    print(f'IQR for {continent}: {iqr}')\n",
    "    \n",
    "    # Find upper and lower bounds to help identify outliers for each regimen\n",
    "    lower_bound = lowerq - (1.5*iqr)\n",
    "    upper_bound = upperq + (1.5*iqr)\n",
    "    print(f'Lower Bound for {continent}: {lower_bound}')\n",
    "    print(f'Upper Bound for {continent}: {upper_bound}')\n",
    "    \n",
    "    # Quantitatively check for outliers\n",
    "    outliers_count = (values.loc[(df_copy['consumption_per_capita_(L)'] >= upper_bound) | \n",
    "                                        (df_copy['consumption_per_capita_(L)'] <= lower_bound)]).count()\n",
    "    print(f'Number of {continent} outliers: {outliers_count}')"
   ]
  },
  {
   "cell_type": "code",
   "execution_count": 128,
   "metadata": {},
   "outputs": [],
   "source": [
    "# Identify the outliers in the Oceania subset data\n",
    "oceania_df = df_copy.loc[df_copy['continent'] == 'Oceania']\n",
    "outliers_oceania = oceania_df.loc[(oceania_df['consumption_per_capita_(L)'] >= 7.3500000000000005) | \n",
    "                                        (oceania_df['consumption_per_capita_(L)'] <= -2.250000000000001)] \n",
    "\n",
    "#outliers_oceania\n",
    "\n",
    "formatted_oceania = outliers_oceania['country'].tolist() \n",
    "\n",
    "#print(\"The outliers noted in the Oceania subset: \" + \", \".join(formatted_oceania))  \n"
   ]
  },
  {
   "cell_type": "code",
   "execution_count": 129,
   "metadata": {},
   "outputs": [],
   "source": [
    "# Identify the outliers in the Europe subset data\n",
    "europe_df = df_copy.loc[df_copy['continent'] == 'Europe']\n",
    "outliers_europe = europe_df.loc[(europe_df['consumption_per_capita_(L)'] >= 17.687500000000004) | \n",
    "                                        (europe_df['consumption_per_capita_(L)'] <= 3.1874999999999973)] \n",
    "#outliers_europe\n",
    "\n",
    "formatted_europe = outliers_europe['country'].tolist() \n",
    "#print(\"The outliers noted in the Europe subset: \" + \", \".join(formatted_europe)) "
   ]
  },
  {
   "cell_type": "code",
   "execution_count": 130,
   "metadata": {},
   "outputs": [
    {
     "name": "stdout",
     "output_type": "stream",
     "text": [
      "The outliers noted in the Oceania subset: Australia, New Zealand\n",
      "The outliers noted in the Europe subset: Azerbaijan, Turkey\n"
     ]
    }
   ],
   "source": [
    "print(\"The outliers noted in the Oceania subset: \" + \", \".join(formatted_oceania))  \n",
    "print(\"The outliers noted in the Europe subset: \" + \", \".join(formatted_europe)) \n"
   ]
  },
  {
   "cell_type": "code",
   "execution_count": null,
   "metadata": {},
   "outputs": [],
   "source": []
  }
 ],
 "metadata": {
  "kernelspec": {
   "display_name": "Python 3",
   "language": "python",
   "name": "python3"
  },
  "language_info": {
   "codemirror_mode": {
    "name": "ipython",
    "version": 3
   },
   "file_extension": ".py",
   "mimetype": "text/x-python",
   "name": "python",
   "nbconvert_exporter": "python",
   "pygments_lexer": "ipython3",
   "version": "3.8.5"
  }
 },
 "nbformat": 4,
 "nbformat_minor": 4
}
